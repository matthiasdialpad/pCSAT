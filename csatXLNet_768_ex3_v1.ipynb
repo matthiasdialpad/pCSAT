{
  "nbformat": 4,
  "nbformat_minor": 0,
  "metadata": {
    "colab": {
      "name": "csatXLNet_768_ex3_v1.ipynb",
      "provenance": [],
      "collapsed_sections": [],
      "include_colab_link": true
    },
    "kernelspec": {
      "name": "python3",
      "display_name": "Python 3"
    },
    "widgets": {
      "application/vnd.jupyter.widget-state+json": {
        "8272e98e15f747a2bd97092935af86e5": {
          "model_module": "@jupyter-widgets/controls",
          "model_name": "HBoxModel",
          "state": {
            "_view_name": "HBoxView",
            "_dom_classes": [],
            "_model_name": "HBoxModel",
            "_view_module": "@jupyter-widgets/controls",
            "_model_module_version": "1.5.0",
            "_view_count": null,
            "_view_module_version": "1.5.0",
            "box_style": "",
            "layout": "IPY_MODEL_0e1a61cd07914cfb8dfc656130eb4281",
            "_model_module": "@jupyter-widgets/controls",
            "children": [
              "IPY_MODEL_68585922c2084a738027fa7a96729eae",
              "IPY_MODEL_a98a999838dc431793db94bc7b6ee397"
            ]
          }
        },
        "0e1a61cd07914cfb8dfc656130eb4281": {
          "model_module": "@jupyter-widgets/base",
          "model_name": "LayoutModel",
          "state": {
            "_view_name": "LayoutView",
            "grid_template_rows": null,
            "right": null,
            "justify_content": null,
            "_view_module": "@jupyter-widgets/base",
            "overflow": null,
            "_model_module_version": "1.2.0",
            "_view_count": null,
            "flex_flow": null,
            "width": null,
            "min_width": null,
            "border": null,
            "align_items": null,
            "bottom": null,
            "_model_module": "@jupyter-widgets/base",
            "top": null,
            "grid_column": null,
            "overflow_y": null,
            "overflow_x": null,
            "grid_auto_flow": null,
            "grid_area": null,
            "grid_template_columns": null,
            "flex": null,
            "_model_name": "LayoutModel",
            "justify_items": null,
            "grid_row": null,
            "max_height": null,
            "align_content": null,
            "visibility": null,
            "align_self": null,
            "height": null,
            "min_height": null,
            "padding": null,
            "grid_auto_rows": null,
            "grid_gap": null,
            "max_width": null,
            "order": null,
            "_view_module_version": "1.2.0",
            "grid_template_areas": null,
            "object_position": null,
            "object_fit": null,
            "grid_auto_columns": null,
            "margin": null,
            "display": null,
            "left": null
          }
        },
        "68585922c2084a738027fa7a96729eae": {
          "model_module": "@jupyter-widgets/controls",
          "model_name": "FloatProgressModel",
          "state": {
            "_view_name": "ProgressView",
            "style": "IPY_MODEL_57b72f438c304bf1838aa3caad762eef",
            "_dom_classes": [],
            "description": "100%",
            "_model_name": "FloatProgressModel",
            "bar_style": "success",
            "max": 27217,
            "_view_module": "@jupyter-widgets/controls",
            "_model_module_version": "1.5.0",
            "value": 27217,
            "_view_count": null,
            "_view_module_version": "1.5.0",
            "orientation": "horizontal",
            "min": 0,
            "description_tooltip": null,
            "_model_module": "@jupyter-widgets/controls",
            "layout": "IPY_MODEL_543bb0ccda404f23b1325edbdfe972a9"
          }
        },
        "a98a999838dc431793db94bc7b6ee397": {
          "model_module": "@jupyter-widgets/controls",
          "model_name": "HTMLModel",
          "state": {
            "_view_name": "HTMLView",
            "style": "IPY_MODEL_003e773a23884e1d83495ea56bf64879",
            "_dom_classes": [],
            "description": "",
            "_model_name": "HTMLModel",
            "placeholder": "​",
            "_view_module": "@jupyter-widgets/controls",
            "_model_module_version": "1.5.0",
            "value": " 27217/27217 [01:25&lt;00:00, 319.57it/s]",
            "_view_count": null,
            "_view_module_version": "1.5.0",
            "description_tooltip": null,
            "_model_module": "@jupyter-widgets/controls",
            "layout": "IPY_MODEL_68221cca6eca4f24aab003e171ef7c59"
          }
        },
        "57b72f438c304bf1838aa3caad762eef": {
          "model_module": "@jupyter-widgets/controls",
          "model_name": "ProgressStyleModel",
          "state": {
            "_view_name": "StyleView",
            "_model_name": "ProgressStyleModel",
            "description_width": "initial",
            "_view_module": "@jupyter-widgets/base",
            "_model_module_version": "1.5.0",
            "_view_count": null,
            "_view_module_version": "1.2.0",
            "bar_color": null,
            "_model_module": "@jupyter-widgets/controls"
          }
        },
        "543bb0ccda404f23b1325edbdfe972a9": {
          "model_module": "@jupyter-widgets/base",
          "model_name": "LayoutModel",
          "state": {
            "_view_name": "LayoutView",
            "grid_template_rows": null,
            "right": null,
            "justify_content": null,
            "_view_module": "@jupyter-widgets/base",
            "overflow": null,
            "_model_module_version": "1.2.0",
            "_view_count": null,
            "flex_flow": null,
            "width": null,
            "min_width": null,
            "border": null,
            "align_items": null,
            "bottom": null,
            "_model_module": "@jupyter-widgets/base",
            "top": null,
            "grid_column": null,
            "overflow_y": null,
            "overflow_x": null,
            "grid_auto_flow": null,
            "grid_area": null,
            "grid_template_columns": null,
            "flex": null,
            "_model_name": "LayoutModel",
            "justify_items": null,
            "grid_row": null,
            "max_height": null,
            "align_content": null,
            "visibility": null,
            "align_self": null,
            "height": null,
            "min_height": null,
            "padding": null,
            "grid_auto_rows": null,
            "grid_gap": null,
            "max_width": null,
            "order": null,
            "_view_module_version": "1.2.0",
            "grid_template_areas": null,
            "object_position": null,
            "object_fit": null,
            "grid_auto_columns": null,
            "margin": null,
            "display": null,
            "left": null
          }
        },
        "003e773a23884e1d83495ea56bf64879": {
          "model_module": "@jupyter-widgets/controls",
          "model_name": "DescriptionStyleModel",
          "state": {
            "_view_name": "StyleView",
            "_model_name": "DescriptionStyleModel",
            "description_width": "",
            "_view_module": "@jupyter-widgets/base",
            "_model_module_version": "1.5.0",
            "_view_count": null,
            "_view_module_version": "1.2.0",
            "_model_module": "@jupyter-widgets/controls"
          }
        },
        "68221cca6eca4f24aab003e171ef7c59": {
          "model_module": "@jupyter-widgets/base",
          "model_name": "LayoutModel",
          "state": {
            "_view_name": "LayoutView",
            "grid_template_rows": null,
            "right": null,
            "justify_content": null,
            "_view_module": "@jupyter-widgets/base",
            "overflow": null,
            "_model_module_version": "1.2.0",
            "_view_count": null,
            "flex_flow": null,
            "width": null,
            "min_width": null,
            "border": null,
            "align_items": null,
            "bottom": null,
            "_model_module": "@jupyter-widgets/base",
            "top": null,
            "grid_column": null,
            "overflow_y": null,
            "overflow_x": null,
            "grid_auto_flow": null,
            "grid_area": null,
            "grid_template_columns": null,
            "flex": null,
            "_model_name": "LayoutModel",
            "justify_items": null,
            "grid_row": null,
            "max_height": null,
            "align_content": null,
            "visibility": null,
            "align_self": null,
            "height": null,
            "min_height": null,
            "padding": null,
            "grid_auto_rows": null,
            "grid_gap": null,
            "max_width": null,
            "order": null,
            "_view_module_version": "1.2.0",
            "grid_template_areas": null,
            "object_position": null,
            "object_fit": null,
            "grid_auto_columns": null,
            "margin": null,
            "display": null,
            "left": null
          }
        },
        "9bb201c866e7497db0320b4164d535c2": {
          "model_module": "@jupyter-widgets/controls",
          "model_name": "HBoxModel",
          "state": {
            "_view_name": "HBoxView",
            "_dom_classes": [],
            "_model_name": "HBoxModel",
            "_view_module": "@jupyter-widgets/controls",
            "_model_module_version": "1.5.0",
            "_view_count": null,
            "_view_module_version": "1.5.0",
            "box_style": "",
            "layout": "IPY_MODEL_0de463d1118c4d8089f14cb8e4eb7e83",
            "_model_module": "@jupyter-widgets/controls",
            "children": [
              "IPY_MODEL_b92a2b73148d465289266220c952cf55",
              "IPY_MODEL_21312d9423004f5d966430ef8f9d267d"
            ]
          }
        },
        "0de463d1118c4d8089f14cb8e4eb7e83": {
          "model_module": "@jupyter-widgets/base",
          "model_name": "LayoutModel",
          "state": {
            "_view_name": "LayoutView",
            "grid_template_rows": null,
            "right": null,
            "justify_content": null,
            "_view_module": "@jupyter-widgets/base",
            "overflow": null,
            "_model_module_version": "1.2.0",
            "_view_count": null,
            "flex_flow": null,
            "width": null,
            "min_width": null,
            "border": null,
            "align_items": null,
            "bottom": null,
            "_model_module": "@jupyter-widgets/base",
            "top": null,
            "grid_column": null,
            "overflow_y": null,
            "overflow_x": null,
            "grid_auto_flow": null,
            "grid_area": null,
            "grid_template_columns": null,
            "flex": null,
            "_model_name": "LayoutModel",
            "justify_items": null,
            "grid_row": null,
            "max_height": null,
            "align_content": null,
            "visibility": null,
            "align_self": null,
            "height": null,
            "min_height": null,
            "padding": null,
            "grid_auto_rows": null,
            "grid_gap": null,
            "max_width": null,
            "order": null,
            "_view_module_version": "1.2.0",
            "grid_template_areas": null,
            "object_position": null,
            "object_fit": null,
            "grid_auto_columns": null,
            "margin": null,
            "display": null,
            "left": null
          }
        },
        "b92a2b73148d465289266220c952cf55": {
          "model_module": "@jupyter-widgets/controls",
          "model_name": "FloatProgressModel",
          "state": {
            "_view_name": "ProgressView",
            "style": "IPY_MODEL_252be02510db4923a1448163998fa86c",
            "_dom_classes": [],
            "description": "100%",
            "_model_name": "FloatProgressModel",
            "bar_style": "success",
            "max": 27217,
            "_view_module": "@jupyter-widgets/controls",
            "_model_module_version": "1.5.0",
            "value": 27217,
            "_view_count": null,
            "_view_module_version": "1.5.0",
            "orientation": "horizontal",
            "min": 0,
            "description_tooltip": null,
            "_model_module": "@jupyter-widgets/controls",
            "layout": "IPY_MODEL_647562ab763f460eb6228dc1a4e3250a"
          }
        },
        "21312d9423004f5d966430ef8f9d267d": {
          "model_module": "@jupyter-widgets/controls",
          "model_name": "HTMLModel",
          "state": {
            "_view_name": "HTMLView",
            "style": "IPY_MODEL_3be2cdede4fe4230af9b3a1cc2327ec4",
            "_dom_classes": [],
            "description": "",
            "_model_name": "HTMLModel",
            "placeholder": "​",
            "_view_module": "@jupyter-widgets/controls",
            "_model_module_version": "1.5.0",
            "value": " 27217/27217 [00:16&lt;00:00, 1636.66it/s]",
            "_view_count": null,
            "_view_module_version": "1.5.0",
            "description_tooltip": null,
            "_model_module": "@jupyter-widgets/controls",
            "layout": "IPY_MODEL_a33092923934445eb1ea9fd8e7409db7"
          }
        },
        "252be02510db4923a1448163998fa86c": {
          "model_module": "@jupyter-widgets/controls",
          "model_name": "ProgressStyleModel",
          "state": {
            "_view_name": "StyleView",
            "_model_name": "ProgressStyleModel",
            "description_width": "initial",
            "_view_module": "@jupyter-widgets/base",
            "_model_module_version": "1.5.0",
            "_view_count": null,
            "_view_module_version": "1.2.0",
            "bar_color": null,
            "_model_module": "@jupyter-widgets/controls"
          }
        },
        "647562ab763f460eb6228dc1a4e3250a": {
          "model_module": "@jupyter-widgets/base",
          "model_name": "LayoutModel",
          "state": {
            "_view_name": "LayoutView",
            "grid_template_rows": null,
            "right": null,
            "justify_content": null,
            "_view_module": "@jupyter-widgets/base",
            "overflow": null,
            "_model_module_version": "1.2.0",
            "_view_count": null,
            "flex_flow": null,
            "width": null,
            "min_width": null,
            "border": null,
            "align_items": null,
            "bottom": null,
            "_model_module": "@jupyter-widgets/base",
            "top": null,
            "grid_column": null,
            "overflow_y": null,
            "overflow_x": null,
            "grid_auto_flow": null,
            "grid_area": null,
            "grid_template_columns": null,
            "flex": null,
            "_model_name": "LayoutModel",
            "justify_items": null,
            "grid_row": null,
            "max_height": null,
            "align_content": null,
            "visibility": null,
            "align_self": null,
            "height": null,
            "min_height": null,
            "padding": null,
            "grid_auto_rows": null,
            "grid_gap": null,
            "max_width": null,
            "order": null,
            "_view_module_version": "1.2.0",
            "grid_template_areas": null,
            "object_position": null,
            "object_fit": null,
            "grid_auto_columns": null,
            "margin": null,
            "display": null,
            "left": null
          }
        },
        "3be2cdede4fe4230af9b3a1cc2327ec4": {
          "model_module": "@jupyter-widgets/controls",
          "model_name": "DescriptionStyleModel",
          "state": {
            "_view_name": "StyleView",
            "_model_name": "DescriptionStyleModel",
            "description_width": "",
            "_view_module": "@jupyter-widgets/base",
            "_model_module_version": "1.5.0",
            "_view_count": null,
            "_view_module_version": "1.2.0",
            "_model_module": "@jupyter-widgets/controls"
          }
        },
        "a33092923934445eb1ea9fd8e7409db7": {
          "model_module": "@jupyter-widgets/base",
          "model_name": "LayoutModel",
          "state": {
            "_view_name": "LayoutView",
            "grid_template_rows": null,
            "right": null,
            "justify_content": null,
            "_view_module": "@jupyter-widgets/base",
            "overflow": null,
            "_model_module_version": "1.2.0",
            "_view_count": null,
            "flex_flow": null,
            "width": null,
            "min_width": null,
            "border": null,
            "align_items": null,
            "bottom": null,
            "_model_module": "@jupyter-widgets/base",
            "top": null,
            "grid_column": null,
            "overflow_y": null,
            "overflow_x": null,
            "grid_auto_flow": null,
            "grid_area": null,
            "grid_template_columns": null,
            "flex": null,
            "_model_name": "LayoutModel",
            "justify_items": null,
            "grid_row": null,
            "max_height": null,
            "align_content": null,
            "visibility": null,
            "align_self": null,
            "height": null,
            "min_height": null,
            "padding": null,
            "grid_auto_rows": null,
            "grid_gap": null,
            "max_width": null,
            "order": null,
            "_view_module_version": "1.2.0",
            "grid_template_areas": null,
            "object_position": null,
            "object_fit": null,
            "grid_auto_columns": null,
            "margin": null,
            "display": null,
            "left": null
          }
        },
        "15d8c1117da140668ff3506902e2edc6": {
          "model_module": "@jupyter-widgets/controls",
          "model_name": "HBoxModel",
          "state": {
            "_view_name": "HBoxView",
            "_dom_classes": [],
            "_model_name": "HBoxModel",
            "_view_module": "@jupyter-widgets/controls",
            "_model_module_version": "1.5.0",
            "_view_count": null,
            "_view_module_version": "1.5.0",
            "box_style": "",
            "layout": "IPY_MODEL_ae026e2cc5924034876b4ecdd3b7b798",
            "_model_module": "@jupyter-widgets/controls",
            "children": [
              "IPY_MODEL_ec7245d07fc04622aea25f6f5359fd9b",
              "IPY_MODEL_fa3695f1eeef406597b3cca64104ae99"
            ]
          }
        },
        "ae026e2cc5924034876b4ecdd3b7b798": {
          "model_module": "@jupyter-widgets/base",
          "model_name": "LayoutModel",
          "state": {
            "_view_name": "LayoutView",
            "grid_template_rows": null,
            "right": null,
            "justify_content": null,
            "_view_module": "@jupyter-widgets/base",
            "overflow": null,
            "_model_module_version": "1.2.0",
            "_view_count": null,
            "flex_flow": null,
            "width": null,
            "min_width": null,
            "border": null,
            "align_items": null,
            "bottom": null,
            "_model_module": "@jupyter-widgets/base",
            "top": null,
            "grid_column": null,
            "overflow_y": null,
            "overflow_x": null,
            "grid_auto_flow": null,
            "grid_area": null,
            "grid_template_columns": null,
            "flex": null,
            "_model_name": "LayoutModel",
            "justify_items": null,
            "grid_row": null,
            "max_height": null,
            "align_content": null,
            "visibility": null,
            "align_self": null,
            "height": null,
            "min_height": null,
            "padding": null,
            "grid_auto_rows": null,
            "grid_gap": null,
            "max_width": null,
            "order": null,
            "_view_module_version": "1.2.0",
            "grid_template_areas": null,
            "object_position": null,
            "object_fit": null,
            "grid_auto_columns": null,
            "margin": null,
            "display": null,
            "left": null
          }
        },
        "ec7245d07fc04622aea25f6f5359fd9b": {
          "model_module": "@jupyter-widgets/controls",
          "model_name": "FloatProgressModel",
          "state": {
            "_view_name": "ProgressView",
            "style": "IPY_MODEL_c2afdd702e3a47eb8deeb896a4ba3009",
            "_dom_classes": [],
            "description": "100%",
            "_model_name": "FloatProgressModel",
            "bar_style": "success",
            "max": 27217,
            "_view_module": "@jupyter-widgets/controls",
            "_model_module_version": "1.5.0",
            "value": 27217,
            "_view_count": null,
            "_view_module_version": "1.5.0",
            "orientation": "horizontal",
            "min": 0,
            "description_tooltip": null,
            "_model_module": "@jupyter-widgets/controls",
            "layout": "IPY_MODEL_53ecab2fcf5e4c988b3c091120db9654"
          }
        },
        "fa3695f1eeef406597b3cca64104ae99": {
          "model_module": "@jupyter-widgets/controls",
          "model_name": "HTMLModel",
          "state": {
            "_view_name": "HTMLView",
            "style": "IPY_MODEL_1d0432516e554a50a52a2afa7d8f49e1",
            "_dom_classes": [],
            "description": "",
            "_model_name": "HTMLModel",
            "placeholder": "​",
            "_view_module": "@jupyter-widgets/controls",
            "_model_module_version": "1.5.0",
            "value": " 27217/27217 [2:44:23&lt;00:00,  2.76it/s]",
            "_view_count": null,
            "_view_module_version": "1.5.0",
            "description_tooltip": null,
            "_model_module": "@jupyter-widgets/controls",
            "layout": "IPY_MODEL_d0bdd5416fda4ea18ae31456b4f7a904"
          }
        },
        "c2afdd702e3a47eb8deeb896a4ba3009": {
          "model_module": "@jupyter-widgets/controls",
          "model_name": "ProgressStyleModel",
          "state": {
            "_view_name": "StyleView",
            "_model_name": "ProgressStyleModel",
            "description_width": "initial",
            "_view_module": "@jupyter-widgets/base",
            "_model_module_version": "1.5.0",
            "_view_count": null,
            "_view_module_version": "1.2.0",
            "bar_color": null,
            "_model_module": "@jupyter-widgets/controls"
          }
        },
        "53ecab2fcf5e4c988b3c091120db9654": {
          "model_module": "@jupyter-widgets/base",
          "model_name": "LayoutModel",
          "state": {
            "_view_name": "LayoutView",
            "grid_template_rows": null,
            "right": null,
            "justify_content": null,
            "_view_module": "@jupyter-widgets/base",
            "overflow": null,
            "_model_module_version": "1.2.0",
            "_view_count": null,
            "flex_flow": null,
            "width": null,
            "min_width": null,
            "border": null,
            "align_items": null,
            "bottom": null,
            "_model_module": "@jupyter-widgets/base",
            "top": null,
            "grid_column": null,
            "overflow_y": null,
            "overflow_x": null,
            "grid_auto_flow": null,
            "grid_area": null,
            "grid_template_columns": null,
            "flex": null,
            "_model_name": "LayoutModel",
            "justify_items": null,
            "grid_row": null,
            "max_height": null,
            "align_content": null,
            "visibility": null,
            "align_self": null,
            "height": null,
            "min_height": null,
            "padding": null,
            "grid_auto_rows": null,
            "grid_gap": null,
            "max_width": null,
            "order": null,
            "_view_module_version": "1.2.0",
            "grid_template_areas": null,
            "object_position": null,
            "object_fit": null,
            "grid_auto_columns": null,
            "margin": null,
            "display": null,
            "left": null
          }
        },
        "1d0432516e554a50a52a2afa7d8f49e1": {
          "model_module": "@jupyter-widgets/controls",
          "model_name": "DescriptionStyleModel",
          "state": {
            "_view_name": "StyleView",
            "_model_name": "DescriptionStyleModel",
            "description_width": "",
            "_view_module": "@jupyter-widgets/base",
            "_model_module_version": "1.5.0",
            "_view_count": null,
            "_view_module_version": "1.2.0",
            "_model_module": "@jupyter-widgets/controls"
          }
        },
        "d0bdd5416fda4ea18ae31456b4f7a904": {
          "model_module": "@jupyter-widgets/base",
          "model_name": "LayoutModel",
          "state": {
            "_view_name": "LayoutView",
            "grid_template_rows": null,
            "right": null,
            "justify_content": null,
            "_view_module": "@jupyter-widgets/base",
            "overflow": null,
            "_model_module_version": "1.2.0",
            "_view_count": null,
            "flex_flow": null,
            "width": null,
            "min_width": null,
            "border": null,
            "align_items": null,
            "bottom": null,
            "_model_module": "@jupyter-widgets/base",
            "top": null,
            "grid_column": null,
            "overflow_y": null,
            "overflow_x": null,
            "grid_auto_flow": null,
            "grid_area": null,
            "grid_template_columns": null,
            "flex": null,
            "_model_name": "LayoutModel",
            "justify_items": null,
            "grid_row": null,
            "max_height": null,
            "align_content": null,
            "visibility": null,
            "align_self": null,
            "height": null,
            "min_height": null,
            "padding": null,
            "grid_auto_rows": null,
            "grid_gap": null,
            "max_width": null,
            "order": null,
            "_view_module_version": "1.2.0",
            "grid_template_areas": null,
            "object_position": null,
            "object_fit": null,
            "grid_auto_columns": null,
            "margin": null,
            "display": null,
            "left": null
          }
        },
        "da460593eb1e454293769dc590d9103b": {
          "model_module": "@jupyter-widgets/controls",
          "model_name": "HBoxModel",
          "state": {
            "_view_name": "HBoxView",
            "_dom_classes": [],
            "_model_name": "HBoxModel",
            "_view_module": "@jupyter-widgets/controls",
            "_model_module_version": "1.5.0",
            "_view_count": null,
            "_view_module_version": "1.5.0",
            "box_style": "",
            "layout": "IPY_MODEL_d492b85b360842c6b8b4a1e6335638eb",
            "_model_module": "@jupyter-widgets/controls",
            "children": [
              "IPY_MODEL_7194ecfd3336481288d2d36f6f5d3695",
              "IPY_MODEL_06e8ae3208a14c07aad0159a8effec17"
            ]
          }
        },
        "d492b85b360842c6b8b4a1e6335638eb": {
          "model_module": "@jupyter-widgets/base",
          "model_name": "LayoutModel",
          "state": {
            "_view_name": "LayoutView",
            "grid_template_rows": null,
            "right": null,
            "justify_content": null,
            "_view_module": "@jupyter-widgets/base",
            "overflow": null,
            "_model_module_version": "1.2.0",
            "_view_count": null,
            "flex_flow": null,
            "width": null,
            "min_width": null,
            "border": null,
            "align_items": null,
            "bottom": null,
            "_model_module": "@jupyter-widgets/base",
            "top": null,
            "grid_column": null,
            "overflow_y": null,
            "overflow_x": null,
            "grid_auto_flow": null,
            "grid_area": null,
            "grid_template_columns": null,
            "flex": null,
            "_model_name": "LayoutModel",
            "justify_items": null,
            "grid_row": null,
            "max_height": null,
            "align_content": null,
            "visibility": null,
            "align_self": null,
            "height": null,
            "min_height": null,
            "padding": null,
            "grid_auto_rows": null,
            "grid_gap": null,
            "max_width": null,
            "order": null,
            "_view_module_version": "1.2.0",
            "grid_template_areas": null,
            "object_position": null,
            "object_fit": null,
            "grid_auto_columns": null,
            "margin": null,
            "display": null,
            "left": null
          }
        },
        "7194ecfd3336481288d2d36f6f5d3695": {
          "model_module": "@jupyter-widgets/controls",
          "model_name": "FloatProgressModel",
          "state": {
            "_view_name": "ProgressView",
            "style": "IPY_MODEL_ccbd5fc0a8a64462b52f64f8a3e89528",
            "_dom_classes": [],
            "description": "Downloading: 100%",
            "_model_name": "FloatProgressModel",
            "bar_style": "success",
            "max": 760,
            "_view_module": "@jupyter-widgets/controls",
            "_model_module_version": "1.5.0",
            "value": 760,
            "_view_count": null,
            "_view_module_version": "1.5.0",
            "orientation": "horizontal",
            "min": 0,
            "description_tooltip": null,
            "_model_module": "@jupyter-widgets/controls",
            "layout": "IPY_MODEL_4eb863d8e1f74bc9b3995a184a7e4107"
          }
        },
        "06e8ae3208a14c07aad0159a8effec17": {
          "model_module": "@jupyter-widgets/controls",
          "model_name": "HTMLModel",
          "state": {
            "_view_name": "HTMLView",
            "style": "IPY_MODEL_61f79cf8087947a59ff8a2fb9130ba94",
            "_dom_classes": [],
            "description": "",
            "_model_name": "HTMLModel",
            "placeholder": "​",
            "_view_module": "@jupyter-widgets/controls",
            "_model_module_version": "1.5.0",
            "value": " 760/760 [00:00&lt;00:00, 1.60kB/s]",
            "_view_count": null,
            "_view_module_version": "1.5.0",
            "description_tooltip": null,
            "_model_module": "@jupyter-widgets/controls",
            "layout": "IPY_MODEL_aecef467f5c64862ae4d3729bfe3585e"
          }
        },
        "ccbd5fc0a8a64462b52f64f8a3e89528": {
          "model_module": "@jupyter-widgets/controls",
          "model_name": "ProgressStyleModel",
          "state": {
            "_view_name": "StyleView",
            "_model_name": "ProgressStyleModel",
            "description_width": "initial",
            "_view_module": "@jupyter-widgets/base",
            "_model_module_version": "1.5.0",
            "_view_count": null,
            "_view_module_version": "1.2.0",
            "bar_color": null,
            "_model_module": "@jupyter-widgets/controls"
          }
        },
        "4eb863d8e1f74bc9b3995a184a7e4107": {
          "model_module": "@jupyter-widgets/base",
          "model_name": "LayoutModel",
          "state": {
            "_view_name": "LayoutView",
            "grid_template_rows": null,
            "right": null,
            "justify_content": null,
            "_view_module": "@jupyter-widgets/base",
            "overflow": null,
            "_model_module_version": "1.2.0",
            "_view_count": null,
            "flex_flow": null,
            "width": null,
            "min_width": null,
            "border": null,
            "align_items": null,
            "bottom": null,
            "_model_module": "@jupyter-widgets/base",
            "top": null,
            "grid_column": null,
            "overflow_y": null,
            "overflow_x": null,
            "grid_auto_flow": null,
            "grid_area": null,
            "grid_template_columns": null,
            "flex": null,
            "_model_name": "LayoutModel",
            "justify_items": null,
            "grid_row": null,
            "max_height": null,
            "align_content": null,
            "visibility": null,
            "align_self": null,
            "height": null,
            "min_height": null,
            "padding": null,
            "grid_auto_rows": null,
            "grid_gap": null,
            "max_width": null,
            "order": null,
            "_view_module_version": "1.2.0",
            "grid_template_areas": null,
            "object_position": null,
            "object_fit": null,
            "grid_auto_columns": null,
            "margin": null,
            "display": null,
            "left": null
          }
        },
        "61f79cf8087947a59ff8a2fb9130ba94": {
          "model_module": "@jupyter-widgets/controls",
          "model_name": "DescriptionStyleModel",
          "state": {
            "_view_name": "StyleView",
            "_model_name": "DescriptionStyleModel",
            "description_width": "",
            "_view_module": "@jupyter-widgets/base",
            "_model_module_version": "1.5.0",
            "_view_count": null,
            "_view_module_version": "1.2.0",
            "_model_module": "@jupyter-widgets/controls"
          }
        },
        "aecef467f5c64862ae4d3729bfe3585e": {
          "model_module": "@jupyter-widgets/base",
          "model_name": "LayoutModel",
          "state": {
            "_view_name": "LayoutView",
            "grid_template_rows": null,
            "right": null,
            "justify_content": null,
            "_view_module": "@jupyter-widgets/base",
            "overflow": null,
            "_model_module_version": "1.2.0",
            "_view_count": null,
            "flex_flow": null,
            "width": null,
            "min_width": null,
            "border": null,
            "align_items": null,
            "bottom": null,
            "_model_module": "@jupyter-widgets/base",
            "top": null,
            "grid_column": null,
            "overflow_y": null,
            "overflow_x": null,
            "grid_auto_flow": null,
            "grid_area": null,
            "grid_template_columns": null,
            "flex": null,
            "_model_name": "LayoutModel",
            "justify_items": null,
            "grid_row": null,
            "max_height": null,
            "align_content": null,
            "visibility": null,
            "align_self": null,
            "height": null,
            "min_height": null,
            "padding": null,
            "grid_auto_rows": null,
            "grid_gap": null,
            "max_width": null,
            "order": null,
            "_view_module_version": "1.2.0",
            "grid_template_areas": null,
            "object_position": null,
            "object_fit": null,
            "grid_auto_columns": null,
            "margin": null,
            "display": null,
            "left": null
          }
        },
        "f642aec3008543e596334c1eb5259e17": {
          "model_module": "@jupyter-widgets/controls",
          "model_name": "HBoxModel",
          "state": {
            "_view_name": "HBoxView",
            "_dom_classes": [],
            "_model_name": "HBoxModel",
            "_view_module": "@jupyter-widgets/controls",
            "_model_module_version": "1.5.0",
            "_view_count": null,
            "_view_module_version": "1.5.0",
            "box_style": "",
            "layout": "IPY_MODEL_18e3fa21d2c049769e5d88a27f02e872",
            "_model_module": "@jupyter-widgets/controls",
            "children": [
              "IPY_MODEL_67d187ea2d734648935790dd90c83a4f",
              "IPY_MODEL_8889e03527ea4d22907c9a8fc32872dd"
            ]
          }
        },
        "18e3fa21d2c049769e5d88a27f02e872": {
          "model_module": "@jupyter-widgets/base",
          "model_name": "LayoutModel",
          "state": {
            "_view_name": "LayoutView",
            "grid_template_rows": null,
            "right": null,
            "justify_content": null,
            "_view_module": "@jupyter-widgets/base",
            "overflow": null,
            "_model_module_version": "1.2.0",
            "_view_count": null,
            "flex_flow": null,
            "width": null,
            "min_width": null,
            "border": null,
            "align_items": null,
            "bottom": null,
            "_model_module": "@jupyter-widgets/base",
            "top": null,
            "grid_column": null,
            "overflow_y": null,
            "overflow_x": null,
            "grid_auto_flow": null,
            "grid_area": null,
            "grid_template_columns": null,
            "flex": null,
            "_model_name": "LayoutModel",
            "justify_items": null,
            "grid_row": null,
            "max_height": null,
            "align_content": null,
            "visibility": null,
            "align_self": null,
            "height": null,
            "min_height": null,
            "padding": null,
            "grid_auto_rows": null,
            "grid_gap": null,
            "max_width": null,
            "order": null,
            "_view_module_version": "1.2.0",
            "grid_template_areas": null,
            "object_position": null,
            "object_fit": null,
            "grid_auto_columns": null,
            "margin": null,
            "display": null,
            "left": null
          }
        },
        "67d187ea2d734648935790dd90c83a4f": {
          "model_module": "@jupyter-widgets/controls",
          "model_name": "FloatProgressModel",
          "state": {
            "_view_name": "ProgressView",
            "style": "IPY_MODEL_b83192353e7547018c8a8dbdd9ec4f66",
            "_dom_classes": [],
            "description": "Downloading: 100%",
            "_model_name": "FloatProgressModel",
            "bar_style": "success",
            "max": 467042463,
            "_view_module": "@jupyter-widgets/controls",
            "_model_module_version": "1.5.0",
            "value": 467042463,
            "_view_count": null,
            "_view_module_version": "1.5.0",
            "orientation": "horizontal",
            "min": 0,
            "description_tooltip": null,
            "_model_module": "@jupyter-widgets/controls",
            "layout": "IPY_MODEL_45a27fc2837b428c840fe64a1d1299b0"
          }
        },
        "8889e03527ea4d22907c9a8fc32872dd": {
          "model_module": "@jupyter-widgets/controls",
          "model_name": "HTMLModel",
          "state": {
            "_view_name": "HTMLView",
            "style": "IPY_MODEL_88f6149dc8c34fe890907bbd69511914",
            "_dom_classes": [],
            "description": "",
            "_model_name": "HTMLModel",
            "placeholder": "​",
            "_view_module": "@jupyter-widgets/controls",
            "_model_module_version": "1.5.0",
            "value": " 467M/467M [8:15:30&lt;00:00, 15.7kB/s]",
            "_view_count": null,
            "_view_module_version": "1.5.0",
            "description_tooltip": null,
            "_model_module": "@jupyter-widgets/controls",
            "layout": "IPY_MODEL_33aa2f45afb54cf3ae62ea066211c8f7"
          }
        },
        "b83192353e7547018c8a8dbdd9ec4f66": {
          "model_module": "@jupyter-widgets/controls",
          "model_name": "ProgressStyleModel",
          "state": {
            "_view_name": "StyleView",
            "_model_name": "ProgressStyleModel",
            "description_width": "initial",
            "_view_module": "@jupyter-widgets/base",
            "_model_module_version": "1.5.0",
            "_view_count": null,
            "_view_module_version": "1.2.0",
            "bar_color": null,
            "_model_module": "@jupyter-widgets/controls"
          }
        },
        "45a27fc2837b428c840fe64a1d1299b0": {
          "model_module": "@jupyter-widgets/base",
          "model_name": "LayoutModel",
          "state": {
            "_view_name": "LayoutView",
            "grid_template_rows": null,
            "right": null,
            "justify_content": null,
            "_view_module": "@jupyter-widgets/base",
            "overflow": null,
            "_model_module_version": "1.2.0",
            "_view_count": null,
            "flex_flow": null,
            "width": null,
            "min_width": null,
            "border": null,
            "align_items": null,
            "bottom": null,
            "_model_module": "@jupyter-widgets/base",
            "top": null,
            "grid_column": null,
            "overflow_y": null,
            "overflow_x": null,
            "grid_auto_flow": null,
            "grid_area": null,
            "grid_template_columns": null,
            "flex": null,
            "_model_name": "LayoutModel",
            "justify_items": null,
            "grid_row": null,
            "max_height": null,
            "align_content": null,
            "visibility": null,
            "align_self": null,
            "height": null,
            "min_height": null,
            "padding": null,
            "grid_auto_rows": null,
            "grid_gap": null,
            "max_width": null,
            "order": null,
            "_view_module_version": "1.2.0",
            "grid_template_areas": null,
            "object_position": null,
            "object_fit": null,
            "grid_auto_columns": null,
            "margin": null,
            "display": null,
            "left": null
          }
        },
        "88f6149dc8c34fe890907bbd69511914": {
          "model_module": "@jupyter-widgets/controls",
          "model_name": "DescriptionStyleModel",
          "state": {
            "_view_name": "StyleView",
            "_model_name": "DescriptionStyleModel",
            "description_width": "",
            "_view_module": "@jupyter-widgets/base",
            "_model_module_version": "1.5.0",
            "_view_count": null,
            "_view_module_version": "1.2.0",
            "_model_module": "@jupyter-widgets/controls"
          }
        },
        "33aa2f45afb54cf3ae62ea066211c8f7": {
          "model_module": "@jupyter-widgets/base",
          "model_name": "LayoutModel",
          "state": {
            "_view_name": "LayoutView",
            "grid_template_rows": null,
            "right": null,
            "justify_content": null,
            "_view_module": "@jupyter-widgets/base",
            "overflow": null,
            "_model_module_version": "1.2.0",
            "_view_count": null,
            "flex_flow": null,
            "width": null,
            "min_width": null,
            "border": null,
            "align_items": null,
            "bottom": null,
            "_model_module": "@jupyter-widgets/base",
            "top": null,
            "grid_column": null,
            "overflow_y": null,
            "overflow_x": null,
            "grid_auto_flow": null,
            "grid_area": null,
            "grid_template_columns": null,
            "flex": null,
            "_model_name": "LayoutModel",
            "justify_items": null,
            "grid_row": null,
            "max_height": null,
            "align_content": null,
            "visibility": null,
            "align_self": null,
            "height": null,
            "min_height": null,
            "padding": null,
            "grid_auto_rows": null,
            "grid_gap": null,
            "max_width": null,
            "order": null,
            "_view_module_version": "1.2.0",
            "grid_template_areas": null,
            "object_position": null,
            "object_fit": null,
            "grid_auto_columns": null,
            "margin": null,
            "display": null,
            "left": null
          }
        },
        "0056c019b40e42fea4030e8ae0eef48a": {
          "model_module": "@jupyter-widgets/controls",
          "model_name": "HBoxModel",
          "state": {
            "_view_name": "HBoxView",
            "_dom_classes": [],
            "_model_name": "HBoxModel",
            "_view_module": "@jupyter-widgets/controls",
            "_model_module_version": "1.5.0",
            "_view_count": null,
            "_view_module_version": "1.5.0",
            "box_style": "",
            "layout": "IPY_MODEL_08e0f1610a024dcfa2de6584dfff208e",
            "_model_module": "@jupyter-widgets/controls",
            "children": [
              "IPY_MODEL_88b67bd99ac9483797f175931555bf2a",
              "IPY_MODEL_a4f7a72a1fda449580da363d623d9610"
            ]
          }
        },
        "08e0f1610a024dcfa2de6584dfff208e": {
          "model_module": "@jupyter-widgets/base",
          "model_name": "LayoutModel",
          "state": {
            "_view_name": "LayoutView",
            "grid_template_rows": null,
            "right": null,
            "justify_content": null,
            "_view_module": "@jupyter-widgets/base",
            "overflow": null,
            "_model_module_version": "1.2.0",
            "_view_count": null,
            "flex_flow": null,
            "width": null,
            "min_width": null,
            "border": null,
            "align_items": null,
            "bottom": null,
            "_model_module": "@jupyter-widgets/base",
            "top": null,
            "grid_column": null,
            "overflow_y": null,
            "overflow_x": null,
            "grid_auto_flow": null,
            "grid_area": null,
            "grid_template_columns": null,
            "flex": null,
            "_model_name": "LayoutModel",
            "justify_items": null,
            "grid_row": null,
            "max_height": null,
            "align_content": null,
            "visibility": null,
            "align_self": null,
            "height": null,
            "min_height": null,
            "padding": null,
            "grid_auto_rows": null,
            "grid_gap": null,
            "max_width": null,
            "order": null,
            "_view_module_version": "1.2.0",
            "grid_template_areas": null,
            "object_position": null,
            "object_fit": null,
            "grid_auto_columns": null,
            "margin": null,
            "display": null,
            "left": null
          }
        },
        "88b67bd99ac9483797f175931555bf2a": {
          "model_module": "@jupyter-widgets/controls",
          "model_name": "FloatProgressModel",
          "state": {
            "_view_name": "ProgressView",
            "style": "IPY_MODEL_f18faf125263423f91413da1885f42a7",
            "_dom_classes": [],
            "description": "Downloading: 100%",
            "_model_name": "FloatProgressModel",
            "bar_style": "success",
            "max": 760,
            "_view_module": "@jupyter-widgets/controls",
            "_model_module_version": "1.5.0",
            "value": 760,
            "_view_count": null,
            "_view_module_version": "1.5.0",
            "orientation": "horizontal",
            "min": 0,
            "description_tooltip": null,
            "_model_module": "@jupyter-widgets/controls",
            "layout": "IPY_MODEL_0114b6001530491fbbe57f5d9413cd6a"
          }
        },
        "a4f7a72a1fda449580da363d623d9610": {
          "model_module": "@jupyter-widgets/controls",
          "model_name": "HTMLModel",
          "state": {
            "_view_name": "HTMLView",
            "style": "IPY_MODEL_5d1a3b0c4ca04a248a422d07e968f715",
            "_dom_classes": [],
            "description": "",
            "_model_name": "HTMLModel",
            "placeholder": "​",
            "_view_module": "@jupyter-widgets/controls",
            "_model_module_version": "1.5.0",
            "value": " 760/760 [00:06&lt;00:00, 119B/s]",
            "_view_count": null,
            "_view_module_version": "1.5.0",
            "description_tooltip": null,
            "_model_module": "@jupyter-widgets/controls",
            "layout": "IPY_MODEL_a2e82646865747b7a2d571c2a4bef7e3"
          }
        },
        "f18faf125263423f91413da1885f42a7": {
          "model_module": "@jupyter-widgets/controls",
          "model_name": "ProgressStyleModel",
          "state": {
            "_view_name": "StyleView",
            "_model_name": "ProgressStyleModel",
            "description_width": "initial",
            "_view_module": "@jupyter-widgets/base",
            "_model_module_version": "1.5.0",
            "_view_count": null,
            "_view_module_version": "1.2.0",
            "bar_color": null,
            "_model_module": "@jupyter-widgets/controls"
          }
        },
        "0114b6001530491fbbe57f5d9413cd6a": {
          "model_module": "@jupyter-widgets/base",
          "model_name": "LayoutModel",
          "state": {
            "_view_name": "LayoutView",
            "grid_template_rows": null,
            "right": null,
            "justify_content": null,
            "_view_module": "@jupyter-widgets/base",
            "overflow": null,
            "_model_module_version": "1.2.0",
            "_view_count": null,
            "flex_flow": null,
            "width": null,
            "min_width": null,
            "border": null,
            "align_items": null,
            "bottom": null,
            "_model_module": "@jupyter-widgets/base",
            "top": null,
            "grid_column": null,
            "overflow_y": null,
            "overflow_x": null,
            "grid_auto_flow": null,
            "grid_area": null,
            "grid_template_columns": null,
            "flex": null,
            "_model_name": "LayoutModel",
            "justify_items": null,
            "grid_row": null,
            "max_height": null,
            "align_content": null,
            "visibility": null,
            "align_self": null,
            "height": null,
            "min_height": null,
            "padding": null,
            "grid_auto_rows": null,
            "grid_gap": null,
            "max_width": null,
            "order": null,
            "_view_module_version": "1.2.0",
            "grid_template_areas": null,
            "object_position": null,
            "object_fit": null,
            "grid_auto_columns": null,
            "margin": null,
            "display": null,
            "left": null
          }
        },
        "5d1a3b0c4ca04a248a422d07e968f715": {
          "model_module": "@jupyter-widgets/controls",
          "model_name": "DescriptionStyleModel",
          "state": {
            "_view_name": "StyleView",
            "_model_name": "DescriptionStyleModel",
            "description_width": "",
            "_view_module": "@jupyter-widgets/base",
            "_model_module_version": "1.5.0",
            "_view_count": null,
            "_view_module_version": "1.2.0",
            "_model_module": "@jupyter-widgets/controls"
          }
        },
        "a2e82646865747b7a2d571c2a4bef7e3": {
          "model_module": "@jupyter-widgets/base",
          "model_name": "LayoutModel",
          "state": {
            "_view_name": "LayoutView",
            "grid_template_rows": null,
            "right": null,
            "justify_content": null,
            "_view_module": "@jupyter-widgets/base",
            "overflow": null,
            "_model_module_version": "1.2.0",
            "_view_count": null,
            "flex_flow": null,
            "width": null,
            "min_width": null,
            "border": null,
            "align_items": null,
            "bottom": null,
            "_model_module": "@jupyter-widgets/base",
            "top": null,
            "grid_column": null,
            "overflow_y": null,
            "overflow_x": null,
            "grid_auto_flow": null,
            "grid_area": null,
            "grid_template_columns": null,
            "flex": null,
            "_model_name": "LayoutModel",
            "justify_items": null,
            "grid_row": null,
            "max_height": null,
            "align_content": null,
            "visibility": null,
            "align_self": null,
            "height": null,
            "min_height": null,
            "padding": null,
            "grid_auto_rows": null,
            "grid_gap": null,
            "max_width": null,
            "order": null,
            "_view_module_version": "1.2.0",
            "grid_template_areas": null,
            "object_position": null,
            "object_fit": null,
            "grid_auto_columns": null,
            "margin": null,
            "display": null,
            "left": null
          }
        },
        "f43b3b626a984dbb8d0b1af2dd78e40e": {
          "model_module": "@jupyter-widgets/controls",
          "model_name": "HBoxModel",
          "state": {
            "_view_name": "HBoxView",
            "_dom_classes": [],
            "_model_name": "HBoxModel",
            "_view_module": "@jupyter-widgets/controls",
            "_model_module_version": "1.5.0",
            "_view_count": null,
            "_view_module_version": "1.5.0",
            "box_style": "",
            "layout": "IPY_MODEL_67db45bb4e1b4c51848f84952ea5733c",
            "_model_module": "@jupyter-widgets/controls",
            "children": [
              "IPY_MODEL_f76a3a038d62448cb69a391889e7169d",
              "IPY_MODEL_64564c010e4b443b977cf7225a5998e5"
            ]
          }
        },
        "67db45bb4e1b4c51848f84952ea5733c": {
          "model_module": "@jupyter-widgets/base",
          "model_name": "LayoutModel",
          "state": {
            "_view_name": "LayoutView",
            "grid_template_rows": null,
            "right": null,
            "justify_content": null,
            "_view_module": "@jupyter-widgets/base",
            "overflow": null,
            "_model_module_version": "1.2.0",
            "_view_count": null,
            "flex_flow": null,
            "width": null,
            "min_width": null,
            "border": null,
            "align_items": null,
            "bottom": null,
            "_model_module": "@jupyter-widgets/base",
            "top": null,
            "grid_column": null,
            "overflow_y": null,
            "overflow_x": null,
            "grid_auto_flow": null,
            "grid_area": null,
            "grid_template_columns": null,
            "flex": null,
            "_model_name": "LayoutModel",
            "justify_items": null,
            "grid_row": null,
            "max_height": null,
            "align_content": null,
            "visibility": null,
            "align_self": null,
            "height": null,
            "min_height": null,
            "padding": null,
            "grid_auto_rows": null,
            "grid_gap": null,
            "max_width": null,
            "order": null,
            "_view_module_version": "1.2.0",
            "grid_template_areas": null,
            "object_position": null,
            "object_fit": null,
            "grid_auto_columns": null,
            "margin": null,
            "display": null,
            "left": null
          }
        },
        "f76a3a038d62448cb69a391889e7169d": {
          "model_module": "@jupyter-widgets/controls",
          "model_name": "FloatProgressModel",
          "state": {
            "_view_name": "ProgressView",
            "style": "IPY_MODEL_a7fde4970dd74f89a78d2946e8d954a7",
            "_dom_classes": [],
            "description": "Downloading: 100%",
            "_model_name": "FloatProgressModel",
            "bar_style": "success",
            "max": 467042463,
            "_view_module": "@jupyter-widgets/controls",
            "_model_module_version": "1.5.0",
            "value": 467042463,
            "_view_count": null,
            "_view_module_version": "1.5.0",
            "orientation": "horizontal",
            "min": 0,
            "description_tooltip": null,
            "_model_module": "@jupyter-widgets/controls",
            "layout": "IPY_MODEL_9a6bfbe207174c8ca9f08b3ab3d60df7"
          }
        },
        "64564c010e4b443b977cf7225a5998e5": {
          "model_module": "@jupyter-widgets/controls",
          "model_name": "HTMLModel",
          "state": {
            "_view_name": "HTMLView",
            "style": "IPY_MODEL_503c57d8229e4eeaa6b5166b384b1676",
            "_dom_classes": [],
            "description": "",
            "_model_name": "HTMLModel",
            "placeholder": "​",
            "_view_module": "@jupyter-widgets/controls",
            "_model_module_version": "1.5.0",
            "value": " 467M/467M [00:06&lt;00:00, 75.9MB/s]",
            "_view_count": null,
            "_view_module_version": "1.5.0",
            "description_tooltip": null,
            "_model_module": "@jupyter-widgets/controls",
            "layout": "IPY_MODEL_a89450d30cb74790bb67e8fbd8cae254"
          }
        },
        "a7fde4970dd74f89a78d2946e8d954a7": {
          "model_module": "@jupyter-widgets/controls",
          "model_name": "ProgressStyleModel",
          "state": {
            "_view_name": "StyleView",
            "_model_name": "ProgressStyleModel",
            "description_width": "initial",
            "_view_module": "@jupyter-widgets/base",
            "_model_module_version": "1.5.0",
            "_view_count": null,
            "_view_module_version": "1.2.0",
            "bar_color": null,
            "_model_module": "@jupyter-widgets/controls"
          }
        },
        "9a6bfbe207174c8ca9f08b3ab3d60df7": {
          "model_module": "@jupyter-widgets/base",
          "model_name": "LayoutModel",
          "state": {
            "_view_name": "LayoutView",
            "grid_template_rows": null,
            "right": null,
            "justify_content": null,
            "_view_module": "@jupyter-widgets/base",
            "overflow": null,
            "_model_module_version": "1.2.0",
            "_view_count": null,
            "flex_flow": null,
            "width": null,
            "min_width": null,
            "border": null,
            "align_items": null,
            "bottom": null,
            "_model_module": "@jupyter-widgets/base",
            "top": null,
            "grid_column": null,
            "overflow_y": null,
            "overflow_x": null,
            "grid_auto_flow": null,
            "grid_area": null,
            "grid_template_columns": null,
            "flex": null,
            "_model_name": "LayoutModel",
            "justify_items": null,
            "grid_row": null,
            "max_height": null,
            "align_content": null,
            "visibility": null,
            "align_self": null,
            "height": null,
            "min_height": null,
            "padding": null,
            "grid_auto_rows": null,
            "grid_gap": null,
            "max_width": null,
            "order": null,
            "_view_module_version": "1.2.0",
            "grid_template_areas": null,
            "object_position": null,
            "object_fit": null,
            "grid_auto_columns": null,
            "margin": null,
            "display": null,
            "left": null
          }
        },
        "503c57d8229e4eeaa6b5166b384b1676": {
          "model_module": "@jupyter-widgets/controls",
          "model_name": "DescriptionStyleModel",
          "state": {
            "_view_name": "StyleView",
            "_model_name": "DescriptionStyleModel",
            "description_width": "",
            "_view_module": "@jupyter-widgets/base",
            "_model_module_version": "1.5.0",
            "_view_count": null,
            "_view_module_version": "1.2.0",
            "_model_module": "@jupyter-widgets/controls"
          }
        },
        "a89450d30cb74790bb67e8fbd8cae254": {
          "model_module": "@jupyter-widgets/base",
          "model_name": "LayoutModel",
          "state": {
            "_view_name": "LayoutView",
            "grid_template_rows": null,
            "right": null,
            "justify_content": null,
            "_view_module": "@jupyter-widgets/base",
            "overflow": null,
            "_model_module_version": "1.2.0",
            "_view_count": null,
            "flex_flow": null,
            "width": null,
            "min_width": null,
            "border": null,
            "align_items": null,
            "bottom": null,
            "_model_module": "@jupyter-widgets/base",
            "top": null,
            "grid_column": null,
            "overflow_y": null,
            "overflow_x": null,
            "grid_auto_flow": null,
            "grid_area": null,
            "grid_template_columns": null,
            "flex": null,
            "_model_name": "LayoutModel",
            "justify_items": null,
            "grid_row": null,
            "max_height": null,
            "align_content": null,
            "visibility": null,
            "align_self": null,
            "height": null,
            "min_height": null,
            "padding": null,
            "grid_auto_rows": null,
            "grid_gap": null,
            "max_width": null,
            "order": null,
            "_view_module_version": "1.2.0",
            "grid_template_areas": null,
            "object_position": null,
            "object_fit": null,
            "grid_auto_columns": null,
            "margin": null,
            "display": null,
            "left": null
          }
        },
        "a05f9dce63d14ffe8546c952c6e406e2": {
          "model_module": "@jupyter-widgets/controls",
          "model_name": "HBoxModel",
          "state": {
            "_view_name": "HBoxView",
            "_dom_classes": [],
            "_model_name": "HBoxModel",
            "_view_module": "@jupyter-widgets/controls",
            "_model_module_version": "1.5.0",
            "_view_count": null,
            "_view_module_version": "1.5.0",
            "box_style": "",
            "layout": "IPY_MODEL_7666b67837714adba20813a9dc5ece31",
            "_model_module": "@jupyter-widgets/controls",
            "children": [
              "IPY_MODEL_a6cc7ea59d62497490d05bf6b32ddf41",
              "IPY_MODEL_2d75fefec48c44fd99486a0fe271710d"
            ]
          }
        },
        "7666b67837714adba20813a9dc5ece31": {
          "model_module": "@jupyter-widgets/base",
          "model_name": "LayoutModel",
          "state": {
            "_view_name": "LayoutView",
            "grid_template_rows": null,
            "right": null,
            "justify_content": null,
            "_view_module": "@jupyter-widgets/base",
            "overflow": null,
            "_model_module_version": "1.2.0",
            "_view_count": null,
            "flex_flow": null,
            "width": null,
            "min_width": null,
            "border": null,
            "align_items": null,
            "bottom": null,
            "_model_module": "@jupyter-widgets/base",
            "top": null,
            "grid_column": null,
            "overflow_y": null,
            "overflow_x": null,
            "grid_auto_flow": null,
            "grid_area": null,
            "grid_template_columns": null,
            "flex": null,
            "_model_name": "LayoutModel",
            "justify_items": null,
            "grid_row": null,
            "max_height": null,
            "align_content": null,
            "visibility": null,
            "align_self": null,
            "height": null,
            "min_height": null,
            "padding": null,
            "grid_auto_rows": null,
            "grid_gap": null,
            "max_width": null,
            "order": null,
            "_view_module_version": "1.2.0",
            "grid_template_areas": null,
            "object_position": null,
            "object_fit": null,
            "grid_auto_columns": null,
            "margin": null,
            "display": null,
            "left": null
          }
        },
        "a6cc7ea59d62497490d05bf6b32ddf41": {
          "model_module": "@jupyter-widgets/controls",
          "model_name": "FloatProgressModel",
          "state": {
            "_view_name": "ProgressView",
            "style": "IPY_MODEL_a6afa81f4b8e46db84c6efe463760c66",
            "_dom_classes": [],
            "description": "Testing: 100%",
            "_model_name": "FloatProgressModel",
            "bar_style": "success",
            "max": 256,
            "_view_module": "@jupyter-widgets/controls",
            "_model_module_version": "1.5.0",
            "value": 256,
            "_view_count": null,
            "_view_module_version": "1.5.0",
            "orientation": "horizontal",
            "min": 0,
            "description_tooltip": null,
            "_model_module": "@jupyter-widgets/controls",
            "layout": "IPY_MODEL_e5d577f768f24d09b657131e64c15457"
          }
        },
        "2d75fefec48c44fd99486a0fe271710d": {
          "model_module": "@jupyter-widgets/controls",
          "model_name": "HTMLModel",
          "state": {
            "_view_name": "HTMLView",
            "style": "IPY_MODEL_45621043438c4c598316c4cfc439759a",
            "_dom_classes": [],
            "description": "",
            "_model_name": "HTMLModel",
            "placeholder": "​",
            "_view_module": "@jupyter-widgets/controls",
            "_model_module_version": "1.5.0",
            "value": " 256/256 [07:48&lt;00:00,  1.83s/it]",
            "_view_count": null,
            "_view_module_version": "1.5.0",
            "description_tooltip": null,
            "_model_module": "@jupyter-widgets/controls",
            "layout": "IPY_MODEL_89f1a9a0a7d9410887e7b385e4c6ebcb"
          }
        },
        "a6afa81f4b8e46db84c6efe463760c66": {
          "model_module": "@jupyter-widgets/controls",
          "model_name": "ProgressStyleModel",
          "state": {
            "_view_name": "StyleView",
            "_model_name": "ProgressStyleModel",
            "description_width": "initial",
            "_view_module": "@jupyter-widgets/base",
            "_model_module_version": "1.5.0",
            "_view_count": null,
            "_view_module_version": "1.2.0",
            "bar_color": null,
            "_model_module": "@jupyter-widgets/controls"
          }
        },
        "e5d577f768f24d09b657131e64c15457": {
          "model_module": "@jupyter-widgets/base",
          "model_name": "LayoutModel",
          "state": {
            "_view_name": "LayoutView",
            "grid_template_rows": null,
            "right": null,
            "justify_content": null,
            "_view_module": "@jupyter-widgets/base",
            "overflow": null,
            "_model_module_version": "1.2.0",
            "_view_count": null,
            "flex_flow": null,
            "width": null,
            "min_width": null,
            "border": null,
            "align_items": null,
            "bottom": null,
            "_model_module": "@jupyter-widgets/base",
            "top": null,
            "grid_column": null,
            "overflow_y": null,
            "overflow_x": null,
            "grid_auto_flow": null,
            "grid_area": null,
            "grid_template_columns": null,
            "flex": null,
            "_model_name": "LayoutModel",
            "justify_items": null,
            "grid_row": null,
            "max_height": null,
            "align_content": null,
            "visibility": null,
            "align_self": null,
            "height": null,
            "min_height": null,
            "padding": null,
            "grid_auto_rows": null,
            "grid_gap": null,
            "max_width": null,
            "order": null,
            "_view_module_version": "1.2.0",
            "grid_template_areas": null,
            "object_position": null,
            "object_fit": null,
            "grid_auto_columns": null,
            "margin": null,
            "display": null,
            "left": null
          }
        },
        "45621043438c4c598316c4cfc439759a": {
          "model_module": "@jupyter-widgets/controls",
          "model_name": "DescriptionStyleModel",
          "state": {
            "_view_name": "StyleView",
            "_model_name": "DescriptionStyleModel",
            "description_width": "",
            "_view_module": "@jupyter-widgets/base",
            "_model_module_version": "1.5.0",
            "_view_count": null,
            "_view_module_version": "1.2.0",
            "_model_module": "@jupyter-widgets/controls"
          }
        },
        "89f1a9a0a7d9410887e7b385e4c6ebcb": {
          "model_module": "@jupyter-widgets/base",
          "model_name": "LayoutModel",
          "state": {
            "_view_name": "LayoutView",
            "grid_template_rows": null,
            "right": null,
            "justify_content": null,
            "_view_module": "@jupyter-widgets/base",
            "overflow": null,
            "_model_module_version": "1.2.0",
            "_view_count": null,
            "flex_flow": null,
            "width": null,
            "min_width": null,
            "border": null,
            "align_items": null,
            "bottom": null,
            "_model_module": "@jupyter-widgets/base",
            "top": null,
            "grid_column": null,
            "overflow_y": null,
            "overflow_x": null,
            "grid_auto_flow": null,
            "grid_area": null,
            "grid_template_columns": null,
            "flex": null,
            "_model_name": "LayoutModel",
            "justify_items": null,
            "grid_row": null,
            "max_height": null,
            "align_content": null,
            "visibility": null,
            "align_self": null,
            "height": null,
            "min_height": null,
            "padding": null,
            "grid_auto_rows": null,
            "grid_gap": null,
            "max_width": null,
            "order": null,
            "_view_module_version": "1.2.0",
            "grid_template_areas": null,
            "object_position": null,
            "object_fit": null,
            "grid_auto_columns": null,
            "margin": null,
            "display": null,
            "left": null
          }
        },
        "d4b30dc9f02a40949f72b34684e70cca": {
          "model_module": "@jupyter-widgets/controls",
          "model_name": "HBoxModel",
          "state": {
            "_view_name": "HBoxView",
            "_dom_classes": [],
            "_model_name": "HBoxModel",
            "_view_module": "@jupyter-widgets/controls",
            "_model_module_version": "1.5.0",
            "_view_count": null,
            "_view_module_version": "1.5.0",
            "box_style": "",
            "layout": "IPY_MODEL_00f48abff03c435cb6da501d4efba1c5",
            "_model_module": "@jupyter-widgets/controls",
            "children": [
              "IPY_MODEL_d133cbd0439f4bfcb20c7f43fd0217c3",
              "IPY_MODEL_294e6952636f459db5da6bb369f42c6a"
            ]
          }
        },
        "00f48abff03c435cb6da501d4efba1c5": {
          "model_module": "@jupyter-widgets/base",
          "model_name": "LayoutModel",
          "state": {
            "_view_name": "LayoutView",
            "grid_template_rows": null,
            "right": null,
            "justify_content": null,
            "_view_module": "@jupyter-widgets/base",
            "overflow": null,
            "_model_module_version": "1.2.0",
            "_view_count": null,
            "flex_flow": null,
            "width": null,
            "min_width": null,
            "border": null,
            "align_items": null,
            "bottom": null,
            "_model_module": "@jupyter-widgets/base",
            "top": null,
            "grid_column": null,
            "overflow_y": null,
            "overflow_x": null,
            "grid_auto_flow": null,
            "grid_area": null,
            "grid_template_columns": null,
            "flex": null,
            "_model_name": "LayoutModel",
            "justify_items": null,
            "grid_row": null,
            "max_height": null,
            "align_content": null,
            "visibility": null,
            "align_self": null,
            "height": null,
            "min_height": null,
            "padding": null,
            "grid_auto_rows": null,
            "grid_gap": null,
            "max_width": null,
            "order": null,
            "_view_module_version": "1.2.0",
            "grid_template_areas": null,
            "object_position": null,
            "object_fit": null,
            "grid_auto_columns": null,
            "margin": null,
            "display": null,
            "left": null
          }
        },
        "d133cbd0439f4bfcb20c7f43fd0217c3": {
          "model_module": "@jupyter-widgets/controls",
          "model_name": "FloatProgressModel",
          "state": {
            "_view_name": "ProgressView",
            "style": "IPY_MODEL_39e4dde2c543481b90b4f75c4a79eb27",
            "_dom_classes": [],
            "description": "Testing: 100%",
            "_model_name": "FloatProgressModel",
            "bar_style": "success",
            "max": 256,
            "_view_module": "@jupyter-widgets/controls",
            "_model_module_version": "1.5.0",
            "value": 256,
            "_view_count": null,
            "_view_module_version": "1.5.0",
            "orientation": "horizontal",
            "min": 0,
            "description_tooltip": null,
            "_model_module": "@jupyter-widgets/controls",
            "layout": "IPY_MODEL_8331aabf27044cbda6535acc2d7f28f2"
          }
        },
        "294e6952636f459db5da6bb369f42c6a": {
          "model_module": "@jupyter-widgets/controls",
          "model_name": "HTMLModel",
          "state": {
            "_view_name": "HTMLView",
            "style": "IPY_MODEL_26ea53d04f6b4db08f57ef9455143948",
            "_dom_classes": [],
            "description": "",
            "_model_name": "HTMLModel",
            "placeholder": "​",
            "_view_module": "@jupyter-widgets/controls",
            "_model_module_version": "1.5.0",
            "value": " 256/256 [03:32&lt;00:00,  1.20it/s]",
            "_view_count": null,
            "_view_module_version": "1.5.0",
            "description_tooltip": null,
            "_model_module": "@jupyter-widgets/controls",
            "layout": "IPY_MODEL_ed98e5cae58349c485eeb2167d0d4004"
          }
        },
        "39e4dde2c543481b90b4f75c4a79eb27": {
          "model_module": "@jupyter-widgets/controls",
          "model_name": "ProgressStyleModel",
          "state": {
            "_view_name": "StyleView",
            "_model_name": "ProgressStyleModel",
            "description_width": "initial",
            "_view_module": "@jupyter-widgets/base",
            "_model_module_version": "1.5.0",
            "_view_count": null,
            "_view_module_version": "1.2.0",
            "bar_color": null,
            "_model_module": "@jupyter-widgets/controls"
          }
        },
        "8331aabf27044cbda6535acc2d7f28f2": {
          "model_module": "@jupyter-widgets/base",
          "model_name": "LayoutModel",
          "state": {
            "_view_name": "LayoutView",
            "grid_template_rows": null,
            "right": null,
            "justify_content": null,
            "_view_module": "@jupyter-widgets/base",
            "overflow": null,
            "_model_module_version": "1.2.0",
            "_view_count": null,
            "flex_flow": null,
            "width": null,
            "min_width": null,
            "border": null,
            "align_items": null,
            "bottom": null,
            "_model_module": "@jupyter-widgets/base",
            "top": null,
            "grid_column": null,
            "overflow_y": null,
            "overflow_x": null,
            "grid_auto_flow": null,
            "grid_area": null,
            "grid_template_columns": null,
            "flex": null,
            "_model_name": "LayoutModel",
            "justify_items": null,
            "grid_row": null,
            "max_height": null,
            "align_content": null,
            "visibility": null,
            "align_self": null,
            "height": null,
            "min_height": null,
            "padding": null,
            "grid_auto_rows": null,
            "grid_gap": null,
            "max_width": null,
            "order": null,
            "_view_module_version": "1.2.0",
            "grid_template_areas": null,
            "object_position": null,
            "object_fit": null,
            "grid_auto_columns": null,
            "margin": null,
            "display": null,
            "left": null
          }
        },
        "26ea53d04f6b4db08f57ef9455143948": {
          "model_module": "@jupyter-widgets/controls",
          "model_name": "DescriptionStyleModel",
          "state": {
            "_view_name": "StyleView",
            "_model_name": "DescriptionStyleModel",
            "description_width": "",
            "_view_module": "@jupyter-widgets/base",
            "_model_module_version": "1.5.0",
            "_view_count": null,
            "_view_module_version": "1.2.0",
            "_model_module": "@jupyter-widgets/controls"
          }
        },
        "ed98e5cae58349c485eeb2167d0d4004": {
          "model_module": "@jupyter-widgets/base",
          "model_name": "LayoutModel",
          "state": {
            "_view_name": "LayoutView",
            "grid_template_rows": null,
            "right": null,
            "justify_content": null,
            "_view_module": "@jupyter-widgets/base",
            "overflow": null,
            "_model_module_version": "1.2.0",
            "_view_count": null,
            "flex_flow": null,
            "width": null,
            "min_width": null,
            "border": null,
            "align_items": null,
            "bottom": null,
            "_model_module": "@jupyter-widgets/base",
            "top": null,
            "grid_column": null,
            "overflow_y": null,
            "overflow_x": null,
            "grid_auto_flow": null,
            "grid_area": null,
            "grid_template_columns": null,
            "flex": null,
            "_model_name": "LayoutModel",
            "justify_items": null,
            "grid_row": null,
            "max_height": null,
            "align_content": null,
            "visibility": null,
            "align_self": null,
            "height": null,
            "min_height": null,
            "padding": null,
            "grid_auto_rows": null,
            "grid_gap": null,
            "max_width": null,
            "order": null,
            "_view_module_version": "1.2.0",
            "grid_template_areas": null,
            "object_position": null,
            "object_fit": null,
            "grid_auto_columns": null,
            "margin": null,
            "display": null,
            "left": null
          }
        },
        "2f5b03891fb3451686dce08dfd34c7cf": {
          "model_module": "@jupyter-widgets/controls",
          "model_name": "HBoxModel",
          "state": {
            "_view_name": "HBoxView",
            "_dom_classes": [],
            "_model_name": "HBoxModel",
            "_view_module": "@jupyter-widgets/controls",
            "_model_module_version": "1.5.0",
            "_view_count": null,
            "_view_module_version": "1.5.0",
            "box_style": "",
            "layout": "IPY_MODEL_1a3d0e726f3445d99134137fd163a030",
            "_model_module": "@jupyter-widgets/controls",
            "children": [
              "IPY_MODEL_3a54671cff3f4789b07bd069c5edb849",
              "IPY_MODEL_199673b986a74227a0758f948fa3f72b"
            ]
          }
        },
        "1a3d0e726f3445d99134137fd163a030": {
          "model_module": "@jupyter-widgets/base",
          "model_name": "LayoutModel",
          "state": {
            "_view_name": "LayoutView",
            "grid_template_rows": null,
            "right": null,
            "justify_content": null,
            "_view_module": "@jupyter-widgets/base",
            "overflow": null,
            "_model_module_version": "1.2.0",
            "_view_count": null,
            "flex_flow": null,
            "width": null,
            "min_width": null,
            "border": null,
            "align_items": null,
            "bottom": null,
            "_model_module": "@jupyter-widgets/base",
            "top": null,
            "grid_column": null,
            "overflow_y": null,
            "overflow_x": null,
            "grid_auto_flow": null,
            "grid_area": null,
            "grid_template_columns": null,
            "flex": null,
            "_model_name": "LayoutModel",
            "justify_items": null,
            "grid_row": null,
            "max_height": null,
            "align_content": null,
            "visibility": null,
            "align_self": null,
            "height": null,
            "min_height": null,
            "padding": null,
            "grid_auto_rows": null,
            "grid_gap": null,
            "max_width": null,
            "order": null,
            "_view_module_version": "1.2.0",
            "grid_template_areas": null,
            "object_position": null,
            "object_fit": null,
            "grid_auto_columns": null,
            "margin": null,
            "display": null,
            "left": null
          }
        },
        "3a54671cff3f4789b07bd069c5edb849": {
          "model_module": "@jupyter-widgets/controls",
          "model_name": "FloatProgressModel",
          "state": {
            "_view_name": "ProgressView",
            "style": "IPY_MODEL_589a2364adef4be6a4ff0125b4c1ddc5",
            "_dom_classes": [],
            "description": "Testing: 100%",
            "_model_name": "FloatProgressModel",
            "bar_style": "success",
            "max": 41,
            "_view_module": "@jupyter-widgets/controls",
            "_model_module_version": "1.5.0",
            "value": 41,
            "_view_count": null,
            "_view_module_version": "1.5.0",
            "orientation": "horizontal",
            "min": 0,
            "description_tooltip": null,
            "_model_module": "@jupyter-widgets/controls",
            "layout": "IPY_MODEL_370e9d5b03884ed8aaeba5078681cfa8"
          }
        },
        "199673b986a74227a0758f948fa3f72b": {
          "model_module": "@jupyter-widgets/controls",
          "model_name": "HTMLModel",
          "state": {
            "_view_name": "HTMLView",
            "style": "IPY_MODEL_dee105fb0ba446579101d451b5768eae",
            "_dom_classes": [],
            "description": "",
            "_model_name": "HTMLModel",
            "placeholder": "​",
            "_view_module": "@jupyter-widgets/controls",
            "_model_module_version": "1.5.0",
            "value": " 41/41 [04:23&lt;00:00,  6.42s/it]",
            "_view_count": null,
            "_view_module_version": "1.5.0",
            "description_tooltip": null,
            "_model_module": "@jupyter-widgets/controls",
            "layout": "IPY_MODEL_670f913b0f8b4cee89c2dabd58dff74d"
          }
        },
        "589a2364adef4be6a4ff0125b4c1ddc5": {
          "model_module": "@jupyter-widgets/controls",
          "model_name": "ProgressStyleModel",
          "state": {
            "_view_name": "StyleView",
            "_model_name": "ProgressStyleModel",
            "description_width": "initial",
            "_view_module": "@jupyter-widgets/base",
            "_model_module_version": "1.5.0",
            "_view_count": null,
            "_view_module_version": "1.2.0",
            "bar_color": null,
            "_model_module": "@jupyter-widgets/controls"
          }
        },
        "370e9d5b03884ed8aaeba5078681cfa8": {
          "model_module": "@jupyter-widgets/base",
          "model_name": "LayoutModel",
          "state": {
            "_view_name": "LayoutView",
            "grid_template_rows": null,
            "right": null,
            "justify_content": null,
            "_view_module": "@jupyter-widgets/base",
            "overflow": null,
            "_model_module_version": "1.2.0",
            "_view_count": null,
            "flex_flow": null,
            "width": null,
            "min_width": null,
            "border": null,
            "align_items": null,
            "bottom": null,
            "_model_module": "@jupyter-widgets/base",
            "top": null,
            "grid_column": null,
            "overflow_y": null,
            "overflow_x": null,
            "grid_auto_flow": null,
            "grid_area": null,
            "grid_template_columns": null,
            "flex": null,
            "_model_name": "LayoutModel",
            "justify_items": null,
            "grid_row": null,
            "max_height": null,
            "align_content": null,
            "visibility": null,
            "align_self": null,
            "height": null,
            "min_height": null,
            "padding": null,
            "grid_auto_rows": null,
            "grid_gap": null,
            "max_width": null,
            "order": null,
            "_view_module_version": "1.2.0",
            "grid_template_areas": null,
            "object_position": null,
            "object_fit": null,
            "grid_auto_columns": null,
            "margin": null,
            "display": null,
            "left": null
          }
        },
        "dee105fb0ba446579101d451b5768eae": {
          "model_module": "@jupyter-widgets/controls",
          "model_name": "DescriptionStyleModel",
          "state": {
            "_view_name": "StyleView",
            "_model_name": "DescriptionStyleModel",
            "description_width": "",
            "_view_module": "@jupyter-widgets/base",
            "_model_module_version": "1.5.0",
            "_view_count": null,
            "_view_module_version": "1.2.0",
            "_model_module": "@jupyter-widgets/controls"
          }
        },
        "670f913b0f8b4cee89c2dabd58dff74d": {
          "model_module": "@jupyter-widgets/base",
          "model_name": "LayoutModel",
          "state": {
            "_view_name": "LayoutView",
            "grid_template_rows": null,
            "right": null,
            "justify_content": null,
            "_view_module": "@jupyter-widgets/base",
            "overflow": null,
            "_model_module_version": "1.2.0",
            "_view_count": null,
            "flex_flow": null,
            "width": null,
            "min_width": null,
            "border": null,
            "align_items": null,
            "bottom": null,
            "_model_module": "@jupyter-widgets/base",
            "top": null,
            "grid_column": null,
            "overflow_y": null,
            "overflow_x": null,
            "grid_auto_flow": null,
            "grid_area": null,
            "grid_template_columns": null,
            "flex": null,
            "_model_name": "LayoutModel",
            "justify_items": null,
            "grid_row": null,
            "max_height": null,
            "align_content": null,
            "visibility": null,
            "align_self": null,
            "height": null,
            "min_height": null,
            "padding": null,
            "grid_auto_rows": null,
            "grid_gap": null,
            "max_width": null,
            "order": null,
            "_view_module_version": "1.2.0",
            "grid_template_areas": null,
            "object_position": null,
            "object_fit": null,
            "grid_auto_columns": null,
            "margin": null,
            "display": null,
            "left": null
          }
        }
      }
    },
    "accelerator": "GPU"
  },
  "cells": [
    {
      "cell_type": "markdown",
      "metadata": {
        "id": "view-in-github",
        "colab_type": "text"
      },
      "source": [
        "<a href=\"https://colab.research.google.com/github/matthiasdialpad/pCSAT/blob/master/csatXLNet_768_ex3_v1.ipynb\" target=\"_parent\"><img src=\"https://colab.research.google.com/assets/colab-badge.svg\" alt=\"Open In Colab\"/></a>"
      ]
    },
    {
      "cell_type": "code",
      "metadata": {
        "id": "PfU1qRw0Wa_x",
        "colab_type": "code",
        "colab": {
          "base_uri": "https://localhost:8080/",
          "height": 357
        },
        "outputId": "bc853484-b88e-4ef0-f739-232bab548091"
      },
      "source": [
        "#Make sure to mount GPU. Go to Runtime > Change Runtime Type > Select GPU option from dropdown\n",
        "!nvidia-smi"
      ],
      "execution_count": 1,
      "outputs": [
        {
          "output_type": "stream",
          "text": [
            "Sat Aug 15 18:20:45 2020       \n",
            "+-----------------------------------------------------------------------------+\n",
            "| NVIDIA-SMI 450.57       Driver Version: 418.67       CUDA Version: 10.1     |\n",
            "|-------------------------------+----------------------+----------------------+\n",
            "| GPU  Name        Persistence-M| Bus-Id        Disp.A | Volatile Uncorr. ECC |\n",
            "| Fan  Temp  Perf  Pwr:Usage/Cap|         Memory-Usage | GPU-Util  Compute M. |\n",
            "|                               |                      |               MIG M. |\n",
            "|===============================+======================+======================|\n",
            "|   0  Tesla P100-PCIE...  Off  | 00000000:00:04.0 Off |                    0 |\n",
            "| N/A   33C    P0    26W / 250W |      0MiB / 16280MiB |      0%      Default |\n",
            "|                               |                      |                 ERR! |\n",
            "+-------------------------------+----------------------+----------------------+\n",
            "                                                                               \n",
            "+-----------------------------------------------------------------------------+\n",
            "| Processes:                                                                  |\n",
            "|  GPU   GI   CI        PID   Type   Process name                  GPU Memory |\n",
            "|        ID   ID                                                   Usage      |\n",
            "|=============================================================================|\n",
            "|  No running processes found                                                 |\n",
            "+-----------------------------------------------------------------------------+\n"
          ],
          "name": "stdout"
        }
      ]
    },
    {
      "cell_type": "code",
      "metadata": {
        "id": "rSGPsOT29k6F",
        "colab_type": "code",
        "colab": {
          "base_uri": "https://localhost:8080/",
          "height": 51
        },
        "outputId": "ff07557d-f92b-45ac-a12b-88a85a492824"
      },
      "source": [
        "import os\n",
        "import csv\n",
        "import json\n",
        "import pandas as pd\n",
        "import numpy as np\n",
        "import string\n",
        "import torch\n",
        "from torch.utils.data import TensorDataset\n",
        "from keras.preprocessing.sequence import pad_sequences\n",
        "from tqdm import notebook\n",
        "import itertools\n",
        "import seaborn as sns\n",
        "from google.cloud import bigquery\n",
        "from google.cloud import storage\n",
        "from datetime import date\n",
        "from google.colab import files, auth, drive\n",
        "import matplotlib.pyplot as plt\n",
        "from sklearn.model_selection import train_test_split\n",
        "from sklearn.metrics import accuracy_score, confusion_matrix, precision_recall_fscore_support\n",
        "auth.authenticate_user()"
      ],
      "execution_count": 2,
      "outputs": [
        {
          "output_type": "stream",
          "text": [
            "/usr/local/lib/python3.6/dist-packages/statsmodels/tools/_testing.py:19: FutureWarning: pandas.util.testing is deprecated. Use the functions in the public API at pandas.testing instead.\n",
            "  import pandas.util.testing as tm\n"
          ],
          "name": "stderr"
        }
      ]
    },
    {
      "cell_type": "code",
      "metadata": {
        "id": "mjPcQ1Ah-Gfv",
        "colab_type": "code",
        "colab": {
          "base_uri": "https://localhost:8080/",
          "height": 595
        },
        "outputId": "77fb2c35-ecba-40c9-8083-ba787f0203e0"
      },
      "source": [
        "!pip install transformers"
      ],
      "execution_count": 3,
      "outputs": [
        {
          "output_type": "stream",
          "text": [
            "Collecting transformers\n",
            "\u001b[?25l  Downloading https://files.pythonhosted.org/packages/27/3c/91ed8f5c4e7ef3227b4119200fc0ed4b4fd965b1f0172021c25701087825/transformers-3.0.2-py3-none-any.whl (769kB)\n",
            "\u001b[K     |████████████████████████████████| 778kB 2.8MB/s \n",
            "\u001b[?25hCollecting sacremoses\n",
            "\u001b[?25l  Downloading https://files.pythonhosted.org/packages/7d/34/09d19aff26edcc8eb2a01bed8e98f13a1537005d31e95233fd48216eed10/sacremoses-0.0.43.tar.gz (883kB)\n",
            "\u001b[K     |████████████████████████████████| 890kB 15.3MB/s \n",
            "\u001b[?25hRequirement already satisfied: packaging in /usr/local/lib/python3.6/dist-packages (from transformers) (20.4)\n",
            "Requirement already satisfied: dataclasses; python_version < \"3.7\" in /usr/local/lib/python3.6/dist-packages (from transformers) (0.7)\n",
            "Collecting tokenizers==0.8.1.rc1\n",
            "\u001b[?25l  Downloading https://files.pythonhosted.org/packages/40/d0/30d5f8d221a0ed981a186c8eb986ce1c94e3a6e87f994eae9f4aa5250217/tokenizers-0.8.1rc1-cp36-cp36m-manylinux1_x86_64.whl (3.0MB)\n",
            "\u001b[K     |████████████████████████████████| 3.0MB 18.7MB/s \n",
            "\u001b[?25hRequirement already satisfied: regex!=2019.12.17 in /usr/local/lib/python3.6/dist-packages (from transformers) (2019.12.20)\n",
            "Requirement already satisfied: requests in /usr/local/lib/python3.6/dist-packages (from transformers) (2.23.0)\n",
            "Collecting sentencepiece!=0.1.92\n",
            "\u001b[?25l  Downloading https://files.pythonhosted.org/packages/d4/a4/d0a884c4300004a78cca907a6ff9a5e9fe4f090f5d95ab341c53d28cbc58/sentencepiece-0.1.91-cp36-cp36m-manylinux1_x86_64.whl (1.1MB)\n",
            "\u001b[K     |████████████████████████████████| 1.1MB 44.3MB/s \n",
            "\u001b[?25hRequirement already satisfied: tqdm>=4.27 in /usr/local/lib/python3.6/dist-packages (from transformers) (4.41.1)\n",
            "Requirement already satisfied: filelock in /usr/local/lib/python3.6/dist-packages (from transformers) (3.0.12)\n",
            "Requirement already satisfied: numpy in /usr/local/lib/python3.6/dist-packages (from transformers) (1.18.5)\n",
            "Requirement already satisfied: six in /usr/local/lib/python3.6/dist-packages (from sacremoses->transformers) (1.15.0)\n",
            "Requirement already satisfied: click in /usr/local/lib/python3.6/dist-packages (from sacremoses->transformers) (7.1.2)\n",
            "Requirement already satisfied: joblib in /usr/local/lib/python3.6/dist-packages (from sacremoses->transformers) (0.16.0)\n",
            "Requirement already satisfied: pyparsing>=2.0.2 in /usr/local/lib/python3.6/dist-packages (from packaging->transformers) (2.4.7)\n",
            "Requirement already satisfied: idna<3,>=2.5 in /usr/local/lib/python3.6/dist-packages (from requests->transformers) (2.10)\n",
            "Requirement already satisfied: chardet<4,>=3.0.2 in /usr/local/lib/python3.6/dist-packages (from requests->transformers) (3.0.4)\n",
            "Requirement already satisfied: certifi>=2017.4.17 in /usr/local/lib/python3.6/dist-packages (from requests->transformers) (2020.6.20)\n",
            "Requirement already satisfied: urllib3!=1.25.0,!=1.25.1,<1.26,>=1.21.1 in /usr/local/lib/python3.6/dist-packages (from requests->transformers) (1.24.3)\n",
            "Building wheels for collected packages: sacremoses\n",
            "  Building wheel for sacremoses (setup.py) ... \u001b[?25l\u001b[?25hdone\n",
            "  Created wheel for sacremoses: filename=sacremoses-0.0.43-cp36-none-any.whl size=893260 sha256=683e47036219dd7e01bcb8ac22767cf5a48a0a719bcb3be0bcd08784df2aedf9\n",
            "  Stored in directory: /root/.cache/pip/wheels/29/3c/fd/7ce5c3f0666dab31a50123635e6fb5e19ceb42ce38d4e58f45\n",
            "Successfully built sacremoses\n",
            "Installing collected packages: sacremoses, tokenizers, sentencepiece, transformers\n",
            "Successfully installed sacremoses-0.0.43 sentencepiece-0.1.91 tokenizers-0.8.1rc1 transformers-3.0.2\n"
          ],
          "name": "stdout"
        }
      ]
    },
    {
      "cell_type": "code",
      "metadata": {
        "id": "92xpri2tAL5_",
        "colab_type": "code",
        "colab": {}
      },
      "source": [
        "from transformers import XLNetTokenizer"
      ],
      "execution_count": 4,
      "outputs": []
    },
    {
      "cell_type": "code",
      "metadata": {
        "id": "7H4PBUB895s_",
        "colab_type": "code",
        "colab": {
          "base_uri": "https://localhost:8080/",
          "height": 221
        },
        "outputId": "c4845616-5da3-4964-9c67-3cb323a2fee3"
      },
      "source": [
        "drive.mount('/content/gdrive')\n",
        "df= pd.read_csv('gdrive/My Drive/csat_final.csv',index_col=0)\n",
        "\n",
        "# project_id = 'talkiq-data'\n",
        "# client = bigquery.Client(project=project_id)\n",
        "\n",
        "# query = \"\"\"\n",
        "#   SELECT \n",
        "#     call_id,\n",
        "#     response_value,\n",
        "#     text\n",
        "#   FROM `talkiq-data.ai_research.csat_prediction`\n",
        "# \"\"\"\n",
        "\n",
        "# df = client.query(query).to_dataframe()  \n",
        "df.head()"
      ],
      "execution_count": 8,
      "outputs": [
        {
          "output_type": "stream",
          "text": [
            "Drive already mounted at /content/gdrive; to attempt to forcibly remount, call drive.mount(\"/content/gdrive\", force_remount=True).\n"
          ],
          "name": "stdout"
        },
        {
          "output_type": "execute_result",
          "data": {
            "text/html": [
              "<div>\n",
              "<style scoped>\n",
              "    .dataframe tbody tr th:only-of-type {\n",
              "        vertical-align: middle;\n",
              "    }\n",
              "\n",
              "    .dataframe tbody tr th {\n",
              "        vertical-align: top;\n",
              "    }\n",
              "\n",
              "    .dataframe thead th {\n",
              "        text-align: right;\n",
              "    }\n",
              "</style>\n",
              "<table border=\"1\" class=\"dataframe\">\n",
              "  <thead>\n",
              "    <tr style=\"text-align: right;\">\n",
              "      <th></th>\n",
              "      <th>call_id</th>\n",
              "      <th>response_value</th>\n",
              "      <th>final_utterance</th>\n",
              "      <th>duration</th>\n",
              "      <th>text_length</th>\n",
              "      <th>bert_tokenizer_length</th>\n",
              "      <th>text</th>\n",
              "      <th>bert_tokenizer_length_no_punc</th>\n",
              "    </tr>\n",
              "  </thead>\n",
              "  <tbody>\n",
              "    <tr>\n",
              "      <th>0</th>\n",
              "      <td>4503600102440960</td>\n",
              "      <td>1.0</td>\n",
              "      <td>this is daniel. how can i help? yes, no madam....</td>\n",
              "      <td>740.589</td>\n",
              "      <td>515</td>\n",
              "      <td>698</td>\n",
              "      <td>this is daniel how can i help yes no madam   b...</td>\n",
              "      <td>543</td>\n",
              "    </tr>\n",
              "    <tr>\n",
              "      <th>1</th>\n",
              "      <td>4503602697142272</td>\n",
              "      <td>0.0</td>\n",
              "      <td>for jacob speaking. how can i help you? hi, ho...</td>\n",
              "      <td>71.019</td>\n",
              "      <td>109</td>\n",
              "      <td>146</td>\n",
              "      <td>for jacob speaking how can i help you hi how y...</td>\n",
              "      <td>112</td>\n",
              "    </tr>\n",
              "    <tr>\n",
              "      <th>2</th>\n",
              "      <td>4503732200472576</td>\n",
              "      <td>1.0</td>\n",
              "      <td>thank you for calling the street, this is aman...</td>\n",
              "      <td>237.557</td>\n",
              "      <td>217</td>\n",
              "      <td>279</td>\n",
              "      <td>thank you for calling the street this is amand...</td>\n",
              "      <td>229</td>\n",
              "    </tr>\n",
              "    <tr>\n",
              "      <th>3</th>\n",
              "      <td>4503877562466304</td>\n",
              "      <td>1.0</td>\n",
              "      <td>help you today? yes, i'm just calling to confi...</td>\n",
              "      <td>265.920</td>\n",
              "      <td>588</td>\n",
              "      <td>753</td>\n",
              "      <td>help you today yes im just calling to confirm ...</td>\n",
              "      <td>616</td>\n",
              "    </tr>\n",
              "    <tr>\n",
              "      <th>4</th>\n",
              "      <td>4503914235691008</td>\n",
              "      <td>1.0</td>\n",
              "      <td>solution federal i'm an offer innovations, chr...</td>\n",
              "      <td>351.710</td>\n",
              "      <td>695</td>\n",
              "      <td>912</td>\n",
              "      <td>solution federal im an offer innovations chris...</td>\n",
              "      <td>721</td>\n",
              "    </tr>\n",
              "  </tbody>\n",
              "</table>\n",
              "</div>"
            ],
            "text/plain": [
              "            call_id  ...  bert_tokenizer_length_no_punc\n",
              "0  4503600102440960  ...                            543\n",
              "1  4503602697142272  ...                            112\n",
              "2  4503732200472576  ...                            229\n",
              "3  4503877562466304  ...                            616\n",
              "4  4503914235691008  ...                            721\n",
              "\n",
              "[5 rows x 8 columns]"
            ]
          },
          "metadata": {
            "tags": []
          },
          "execution_count": 8
        }
      ]
    },
    {
      "cell_type": "code",
      "metadata": {
        "id": "c5qSTnQGpfyc",
        "colab_type": "code",
        "colab": {}
      },
      "source": [
        "#We make the label the minority class as positive and label the majority class as negative.\n",
        "minority_as_positive = {0: 1, 1: 0}\n",
        "df.response_value.replace(minority_as_positive, inplace=True)\n",
        "\n",
        "# We tokenize the texts using XLNet's Tokenizer to get the total token length of each record\n",
        "# Load the XLNet tokenizer.\n",
        "tokenizer = XLNetTokenizer.from_pretrained('xlnet-base-cased')\n",
        "df['xlnet_tokenizer_length_no_punc'] = df.text.apply(lambda x: len(tokenizer.tokenize(x)))"
      ],
      "execution_count": 9,
      "outputs": []
    },
    {
      "cell_type": "code",
      "metadata": {
        "id": "j4FCoule6Yin",
        "colab_type": "code",
        "colab": {
          "base_uri": "https://localhost:8080/",
          "height": 289
        },
        "outputId": "2e2a9c6b-5ec0-49a6-f008-3864e39959b3"
      },
      "source": [
        "df.head()"
      ],
      "execution_count": 10,
      "outputs": [
        {
          "output_type": "execute_result",
          "data": {
            "text/html": [
              "<div>\n",
              "<style scoped>\n",
              "    .dataframe tbody tr th:only-of-type {\n",
              "        vertical-align: middle;\n",
              "    }\n",
              "\n",
              "    .dataframe tbody tr th {\n",
              "        vertical-align: top;\n",
              "    }\n",
              "\n",
              "    .dataframe thead th {\n",
              "        text-align: right;\n",
              "    }\n",
              "</style>\n",
              "<table border=\"1\" class=\"dataframe\">\n",
              "  <thead>\n",
              "    <tr style=\"text-align: right;\">\n",
              "      <th></th>\n",
              "      <th>call_id</th>\n",
              "      <th>response_value</th>\n",
              "      <th>final_utterance</th>\n",
              "      <th>duration</th>\n",
              "      <th>text_length</th>\n",
              "      <th>bert_tokenizer_length</th>\n",
              "      <th>text</th>\n",
              "      <th>bert_tokenizer_length_no_punc</th>\n",
              "      <th>xlnet_tokenizer_length_no_punc</th>\n",
              "    </tr>\n",
              "  </thead>\n",
              "  <tbody>\n",
              "    <tr>\n",
              "      <th>0</th>\n",
              "      <td>4503600102440960</td>\n",
              "      <td>0.0</td>\n",
              "      <td>this is daniel. how can i help? yes, no madam....</td>\n",
              "      <td>740.589</td>\n",
              "      <td>515</td>\n",
              "      <td>698</td>\n",
              "      <td>this is daniel how can i help yes no madam   b...</td>\n",
              "      <td>543</td>\n",
              "      <td>575</td>\n",
              "    </tr>\n",
              "    <tr>\n",
              "      <th>1</th>\n",
              "      <td>4503602697142272</td>\n",
              "      <td>1.0</td>\n",
              "      <td>for jacob speaking. how can i help you? hi, ho...</td>\n",
              "      <td>71.019</td>\n",
              "      <td>109</td>\n",
              "      <td>146</td>\n",
              "      <td>for jacob speaking how can i help you hi how y...</td>\n",
              "      <td>112</td>\n",
              "      <td>126</td>\n",
              "    </tr>\n",
              "    <tr>\n",
              "      <th>2</th>\n",
              "      <td>4503732200472576</td>\n",
              "      <td>0.0</td>\n",
              "      <td>thank you for calling the street, this is aman...</td>\n",
              "      <td>237.557</td>\n",
              "      <td>217</td>\n",
              "      <td>279</td>\n",
              "      <td>thank you for calling the street this is amand...</td>\n",
              "      <td>229</td>\n",
              "      <td>246</td>\n",
              "    </tr>\n",
              "    <tr>\n",
              "      <th>3</th>\n",
              "      <td>4503877562466304</td>\n",
              "      <td>0.0</td>\n",
              "      <td>help you today? yes, i'm just calling to confi...</td>\n",
              "      <td>265.920</td>\n",
              "      <td>588</td>\n",
              "      <td>753</td>\n",
              "      <td>help you today yes im just calling to confirm ...</td>\n",
              "      <td>616</td>\n",
              "      <td>638</td>\n",
              "    </tr>\n",
              "    <tr>\n",
              "      <th>4</th>\n",
              "      <td>4503914235691008</td>\n",
              "      <td>0.0</td>\n",
              "      <td>solution federal i'm an offer innovations, chr...</td>\n",
              "      <td>351.710</td>\n",
              "      <td>695</td>\n",
              "      <td>912</td>\n",
              "      <td>solution federal im an offer innovations chris...</td>\n",
              "      <td>721</td>\n",
              "      <td>771</td>\n",
              "    </tr>\n",
              "  </tbody>\n",
              "</table>\n",
              "</div>"
            ],
            "text/plain": [
              "            call_id  ...  xlnet_tokenizer_length_no_punc\n",
              "0  4503600102440960  ...                             575\n",
              "1  4503602697142272  ...                             126\n",
              "2  4503732200472576  ...                             246\n",
              "3  4503877562466304  ...                             638\n",
              "4  4503914235691008  ...                             771\n",
              "\n",
              "[5 rows x 9 columns]"
            ]
          },
          "metadata": {
            "tags": []
          },
          "execution_count": 10
        }
      ]
    },
    {
      "cell_type": "markdown",
      "metadata": {
        "id": "V2VBW9dUo1vr",
        "colab_type": "text"
      },
      "source": [
        "### Checking Class Distribution\n",
        "\n"
      ]
    },
    {
      "cell_type": "code",
      "metadata": {
        "id": "5DyEaIOG5gnd",
        "colab_type": "code",
        "colab": {
          "base_uri": "https://localhost:8080/",
          "height": 34
        },
        "outputId": "4c547a61-32d1-4fb1-d334-419646aacd5d"
      },
      "source": [
        "#12.9% = minority class\n",
        "df.groupby(['response_value'])['call_id'].nunique()[1] / (df.groupby(['response_value'])['call_id'].nunique()[0] + df.groupby(['response_value'])['call_id'].nunique()[1])"
      ],
      "execution_count": 12,
      "outputs": [
        {
          "output_type": "execute_result",
          "data": {
            "text/plain": [
              "0.12903699893448947"
            ]
          },
          "metadata": {
            "tags": []
          },
          "execution_count": 12
        }
      ]
    },
    {
      "cell_type": "code",
      "metadata": {
        "id": "1Yc0yThvATx2",
        "colab_type": "code",
        "colab": {}
      },
      "source": [
        "text = df.text.values\n",
        "label = df.response_value.values"
      ],
      "execution_count": 13,
      "outputs": []
    },
    {
      "cell_type": "markdown",
      "metadata": {
        "id": "vuxGcctcs3bn",
        "colab_type": "text"
      },
      "source": [
        "### Process data to be XLNet-ready"
      ]
    },
    {
      "cell_type": "code",
      "metadata": {
        "id": "dtUgavCQLQI3",
        "colab_type": "code",
        "colab": {
          "base_uri": "https://localhost:8080/",
          "height": 54
        },
        "outputId": "a6627ecd-b431-47c8-8b4f-bf21be0ce6e1"
      },
      "source": [
        "ss = 'for jacob speaking how can i help you hi how you doing today im doing good sir how about yourself i think today cant complain i was calling guys are supposed to come today or i dont know when you guys are going to do it i was calling to see if i can get some information on okay give me the order number so i can take a look sure one second pull it up no problem order number  is the volvo from delaware yup can you send me for the second let me see whats going on here ill get back to you sure thank you [SEP] [CLS]'\n",
        "print(tokenizer.convert_tokens_to_ids(tokenizer.tokenize(ss)))\n",
        "# tokenizer.encode_plus(ss, add_special_tokens = True, max_length=512, pad_to_max_length=True, truncation=True, return_tensors='pt')"
      ],
      "execution_count": 14,
      "outputs": [
        {
          "output_type": "stream",
          "text": [
            "[28, 17, 1653, 25709, 2777, 160, 64, 17, 150, 222, 44, 17, 2582, 160, 44, 690, 494, 7693, 690, 195, 8376, 160, 75, 1804, 17, 150, 232, 494, 64, 46, 9355, 17, 150, 30, 2149, 2500, 41, 2882, 22, 280, 494, 49, 17, 150, 220, 46, 175, 90, 44, 2500, 41, 223, 22, 112, 36, 17, 150, 30, 2149, 22, 197, 108, 17, 150, 64, 133, 106, 229, 31, 4968, 371, 110, 18, 374, 243, 102, 17, 150, 64, 182, 24, 338, 512, 65, 205, 2715, 36, 76, 116, 662, 374, 243, 27, 18, 17, 17324, 155, 40, 17, 28699, 17, 117, 499, 64, 44, 1409, 110, 28, 18, 205, 618, 110, 197, 113, 23, 223, 31, 193, 4195, 133, 126, 22, 44, 512, 4553, 44, 4145, 83, 8186, 3158, 4145, 7416, 83, 3158]\n"
          ],
          "name": "stdout"
        }
      ]
    },
    {
      "cell_type": "code",
      "metadata": {
        "id": "3EqtbrKe5Xmh",
        "colab_type": "code",
        "colab": {
          "base_uri": "https://localhost:8080/",
          "height": 115,
          "referenced_widgets": [
            "8272e98e15f747a2bd97092935af86e5",
            "0e1a61cd07914cfb8dfc656130eb4281",
            "68585922c2084a738027fa7a96729eae",
            "a98a999838dc431793db94bc7b6ee397",
            "57b72f438c304bf1838aa3caad762eef",
            "543bb0ccda404f23b1325edbdfe972a9",
            "003e773a23884e1d83495ea56bf64879",
            "68221cca6eca4f24aab003e171ef7c59",
            "9bb201c866e7497db0320b4164d535c2",
            "0de463d1118c4d8089f14cb8e4eb7e83",
            "b92a2b73148d465289266220c952cf55",
            "21312d9423004f5d966430ef8f9d267d",
            "252be02510db4923a1448163998fa86c",
            "647562ab763f460eb6228dc1a4e3250a",
            "3be2cdede4fe4230af9b3a1cc2327ec4",
            "a33092923934445eb1ea9fd8e7409db7"
          ]
        },
        "outputId": "769c9422-301e-44c9-89f6-9deda9dae26b"
      },
      "source": [
        "#We tokenize using XLNet's sentencepiece tokenizer into their respective ids and take only the last 768 tokens\n",
        "ids = [tokenizer.convert_tokens_to_ids(tokenizer.tokenize(inputs)[-768:]) for inputs in notebook.tqdm(text)]\n",
        "\n",
        "#We decode the ids back into text to use the encode_plus function\n",
        "ids_to_text = [tokenizer.decode(inputs) for inputs in notebook.tqdm(ids)]"
      ],
      "execution_count": 15,
      "outputs": [
        {
          "output_type": "display_data",
          "data": {
            "application/vnd.jupyter.widget-view+json": {
              "model_id": "8272e98e15f747a2bd97092935af86e5",
              "version_minor": 0,
              "version_major": 2
            },
            "text/plain": [
              "HBox(children=(FloatProgress(value=0.0, max=27217.0), HTML(value='')))"
            ]
          },
          "metadata": {
            "tags": []
          }
        },
        {
          "output_type": "stream",
          "text": [
            "\n"
          ],
          "name": "stdout"
        },
        {
          "output_type": "display_data",
          "data": {
            "application/vnd.jupyter.widget-view+json": {
              "model_id": "9bb201c866e7497db0320b4164d535c2",
              "version_minor": 0,
              "version_major": 2
            },
            "text/plain": [
              "HBox(children=(FloatProgress(value=0.0, max=27217.0), HTML(value='')))"
            ]
          },
          "metadata": {
            "tags": []
          }
        },
        {
          "output_type": "stream",
          "text": [
            "\n"
          ],
          "name": "stdout"
        }
      ]
    },
    {
      "cell_type": "code",
      "metadata": {
        "id": "wwb9mBF6Clhf",
        "colab_type": "code",
        "colab": {
          "base_uri": "https://localhost:8080/",
          "height": 66,
          "referenced_widgets": [
            "15d8c1117da140668ff3506902e2edc6",
            "ae026e2cc5924034876b4ecdd3b7b798",
            "ec7245d07fc04622aea25f6f5359fd9b",
            "fa3695f1eeef406597b3cca64104ae99",
            "c2afdd702e3a47eb8deeb896a4ba3009",
            "53ecab2fcf5e4c988b3c091120db9654",
            "1d0432516e554a50a52a2afa7d8f49e1",
            "d0bdd5416fda4ea18ae31456b4f7a904"
          ]
        },
        "outputId": "18b93ec5-414e-42e3-a44d-15d05ca17634"
      },
      "source": [
        "# Tokenize all of the sentences and map the tokens to thier word IDs. \n",
        "encoded_inputs = [tokenizer.encode_plus(inputs, max_length=770, pad_to_max_length=True, truncation=True, return_tensors='pt') for inputs in notebook.tqdm(ids_to_text)]"
      ],
      "execution_count": 16,
      "outputs": [
        {
          "output_type": "display_data",
          "data": {
            "application/vnd.jupyter.widget-view+json": {
              "model_id": "15d8c1117da140668ff3506902e2edc6",
              "version_minor": 0,
              "version_major": 2
            },
            "text/plain": [
              "HBox(children=(FloatProgress(value=0.0, max=27217.0), HTML(value='')))"
            ]
          },
          "metadata": {
            "tags": []
          }
        },
        {
          "output_type": "stream",
          "text": [
            "\n"
          ],
          "name": "stdout"
        }
      ]
    },
    {
      "cell_type": "code",
      "metadata": {
        "id": "mqx4OhYCA-kA",
        "colab_type": "code",
        "colab": {}
      },
      "source": [
        "#Creating a tensor dataset with the ENCODED inputs, labels and attention tensors.  \n",
        "inputs_tensor = torch.cat([x['input_ids'] for x in encoded_inputs])\n",
        "attn_tensor = torch.cat([x['attention_mask'] for x in encoded_inputs])\n",
        "labels_tensor = torch.LongTensor(label)"
      ],
      "execution_count": 17,
      "outputs": []
    },
    {
      "cell_type": "markdown",
      "metadata": {
        "id": "SXwBtAfzsrLg",
        "colab_type": "text"
      },
      "source": [
        "## Train / Valid / Test Stratified Split\n",
        "\n",
        "To get train, validation and test set, we need to perform 2 splits.\n",
        "* First, we split the original dataframe for a 80-20 split. \n",
        "* Next, we split the former 20%-split by 50/50 to get our validation and test set. \n",
        "\n",
        "**More importantly, we stratify the split so that we maintain the same class imbalance ratio for train, valid and test sets**"
      ]
    },
    {
      "cell_type": "code",
      "metadata": {
        "id": "0pApWppUHHYE",
        "colab_type": "code",
        "colab": {
          "base_uri": "https://localhost:8080/",
          "height": 272
        },
        "outputId": "64c9e0a0-dd3c-4eb0-b185-c5eca5a09f3b"
      },
      "source": [
        "# First split is a 80/20 (train / validation) split \n",
        "X_train, X_temp, attn_train, attn_temp, y_train, y_temp = train_test_split(inputs_tensor, attn_tensor, labels_tensor, random_state=42, test_size=0.15, stratify=labels_tensor)\n",
        "\n",
        "# Second split is a 50/50 (validation / test) split \n",
        "X_valid, X_test, attn_valid, attn_test, y_valid, y_test = train_test_split(X_temp, attn_temp, y_temp, random_state=42, test_size=0.5, stratify=y_temp)\n",
        "\n",
        "print(\"Train size:\", len(X_train), \"\\nValidation size:\", len(X_valid), \"\\nTest size:\", len(y_valid),\"\\n\")\n",
        "\n",
        "#Check to see that we have successfully divided and stratified the data correctly for train, validation, and test set\n",
        "print(\"Train negative class count:\", y_train.tolist().count(0))\n",
        "print(\"Train positive class count:\", y_train.tolist().count(1))\n",
        "print(\"Minority class imbalance %:\", y_train.tolist().count(1)/len(y_train),\"\\n\")\n",
        "\n",
        "print(\"Validation negative class count:\", y_valid.tolist().count(0))\n",
        "print(\"Validation positive class count:\", y_valid.tolist().count(1))\n",
        "print(\"Minority class imbalance %:\", y_valid.tolist().count(1)/len(y_valid),\"\\n\")\n",
        "\n",
        "print(\"Test negative class count:\", y_test.tolist().count(0))\n",
        "print(\"Test positive class count:\", y_test.tolist().count(1))\n",
        "print(\"Minority class imbalance %:\", y_test.tolist().count(1)/len(y_test))"
      ],
      "execution_count": 19,
      "outputs": [
        {
          "output_type": "stream",
          "text": [
            "Train size: 23134 \n",
            "Validation size: 2041 \n",
            "Test size: 2041 \n",
            "\n",
            "Train negative class count: 20149\n",
            "Train positive class count: 2985\n",
            "Minority class imbalance %: 0.12903086366387137 \n",
            "\n",
            "Validation negative class count: 1778\n",
            "Validation positive class count: 263\n",
            "Minority class imbalance %: 0.12885840274375307 \n",
            "\n",
            "Test negative class count: 1778\n",
            "Test positive class count: 264\n",
            "Minority class imbalance %: 0.12928501469147893\n"
          ],
          "name": "stdout"
        }
      ]
    },
    {
      "cell_type": "markdown",
      "metadata": {
        "id": "-b0DHAoMuFDG",
        "colab_type": "text"
      },
      "source": [
        "## Oversampling Training Data For Class Imbalance\n",
        "\n",
        "To deal with class imbalance, we will oversample the training data so that the classes will be balanced (50/50)"
      ]
    },
    {
      "cell_type": "code",
      "metadata": {
        "id": "x3n2eQ98X0wW",
        "colab_type": "code",
        "colab": {
          "base_uri": "https://localhost:8080/",
          "height": 190
        },
        "outputId": "edebf873-16ca-4f11-ab95-16c625061f20"
      },
      "source": [
        "from imblearn.over_sampling import RandomOverSampler\n",
        "\n",
        "ros = RandomOverSampler(sampling_strategy=\"minority\", random_state=42)\n",
        "\n",
        "#Resample our text and values data \n",
        "X_train_resampled, y_train_resampled = ros.fit_resample(X_train, y_train)\n",
        "\n",
        "#We also need to make sure we resample our attention tokens\n",
        "attn_train_resampled, _ = ros.fit_resample(attn_train, y_train)\n",
        "\n",
        "#Check to make sure the minority class is now balanced.\n",
        "print(\"Class balance:\", y_train_resampled.tolist().count(0) / (y_train_resampled.tolist().count(0) + y_train_resampled.tolist().count(1)))"
      ],
      "execution_count": 20,
      "outputs": [
        {
          "output_type": "stream",
          "text": [
            "/usr/local/lib/python3.6/dist-packages/sklearn/externals/six.py:31: FutureWarning: The module is deprecated in version 0.21 and will be removed in version 0.23 since we've dropped support for Python 2.7. Please rely on the official version of six (https://pypi.org/project/six/).\n",
            "  \"(https://pypi.org/project/six/).\", FutureWarning)\n",
            "/usr/local/lib/python3.6/dist-packages/sklearn/utils/deprecation.py:144: FutureWarning: The sklearn.neighbors.base module is  deprecated in version 0.22 and will be removed in version 0.24. The corresponding classes / functions should instead be imported from sklearn.neighbors. Anything that cannot be imported from sklearn.neighbors is now part of the private API.\n",
            "  warnings.warn(message, FutureWarning)\n",
            "/usr/local/lib/python3.6/dist-packages/sklearn/utils/deprecation.py:87: FutureWarning: Function safe_indexing is deprecated; safe_indexing is deprecated in version 0.22 and will be removed in version 0.24.\n",
            "  warnings.warn(msg, category=FutureWarning)\n"
          ],
          "name": "stderr"
        },
        {
          "output_type": "stream",
          "text": [
            "Class balance: 0.5\n"
          ],
          "name": "stdout"
        },
        {
          "output_type": "stream",
          "text": [
            "/usr/local/lib/python3.6/dist-packages/sklearn/utils/deprecation.py:87: FutureWarning: Function safe_indexing is deprecated; safe_indexing is deprecated in version 0.22 and will be removed in version 0.24.\n",
            "  warnings.warn(msg, category=FutureWarning)\n"
          ],
          "name": "stderr"
        }
      ]
    },
    {
      "cell_type": "code",
      "metadata": {
        "id": "iuCihbF_hZhU",
        "colab_type": "code",
        "colab": {}
      },
      "source": [
        "train_df = TensorDataset(torch.from_numpy(X_train_resampled), torch.from_numpy(attn_train_resampled), torch.from_numpy(y_train_resampled))\n",
        "valid_df = TensorDataset(X_valid, attn_valid, y_valid)\n",
        "test_df = TensorDataset(X_test, attn_test, y_test)\n",
        "\n",
        "#sample subset for debugging \n",
        "# aa_df = TensorDataset(torch.from_numpy(X_train_resampled[:1992]), torch.from_numpy(attn_train_resampled[:1992]), torch.from_numpy(y_train_resampled[:1992]))\n",
        "# bb_df = TensorDataset(X_test[:100], attn_test[:100], y_test[:100])"
      ],
      "execution_count": 21,
      "outputs": []
    },
    {
      "cell_type": "code",
      "metadata": {
        "id": "Khue52fmk3_C",
        "colab_type": "code",
        "colab": {}
      },
      "source": [
        "from torch.utils.data import DataLoader\n",
        "from transformers import (XLNetConfig,\n",
        "                        XLNetForSequenceClassification,\n",
        "                        AdamW,\n",
        "                        get_cosine_schedule_with_warmup)"
      ],
      "execution_count": 22,
      "outputs": []
    },
    {
      "cell_type": "markdown",
      "metadata": {
        "id": "-3R0M0rAy_yO",
        "colab_type": "text"
      },
      "source": [
        "## Freezing layers\n",
        "\n",
        "Before training, we make sure to freeze all the other layers except the classifier layer. In XLNet, the classifier layer is defined as `logits_proj.weight` and `logits_proj.bias`. To freeze all the other layers, we set `param.requires_grad = False`, leaving only the logit layers to be `True`"
      ]
    },
    {
      "cell_type": "code",
      "metadata": {
        "id": "kETg3_kvyOO9",
        "colab_type": "code",
        "colab": {
          "base_uri": "https://localhost:8080/",
          "height": 1000,
          "referenced_widgets": [
            "da460593eb1e454293769dc590d9103b",
            "d492b85b360842c6b8b4a1e6335638eb",
            "7194ecfd3336481288d2d36f6f5d3695",
            "06e8ae3208a14c07aad0159a8effec17",
            "ccbd5fc0a8a64462b52f64f8a3e89528",
            "4eb863d8e1f74bc9b3995a184a7e4107",
            "61f79cf8087947a59ff8a2fb9130ba94",
            "aecef467f5c64862ae4d3729bfe3585e",
            "f642aec3008543e596334c1eb5259e17",
            "18e3fa21d2c049769e5d88a27f02e872",
            "67d187ea2d734648935790dd90c83a4f",
            "8889e03527ea4d22907c9a8fc32872dd",
            "b83192353e7547018c8a8dbdd9ec4f66",
            "45a27fc2837b428c840fe64a1d1299b0",
            "88f6149dc8c34fe890907bbd69511914",
            "33aa2f45afb54cf3ae62ea066211c8f7"
          ]
        },
        "outputId": "5057c57e-e129-4912-8507-67ed7cf6d2f1"
      },
      "source": [
        "asd = XLNetForSequenceClassification.from_pretrained('xlnet-base-cased')\n",
        "for name, param in asd.named_parameters():\n",
        "  if 'logits_proj' not in name: # classifier layer for XLNet\n",
        "    param.requires_grad = False\n",
        "for name, param in asd.named_parameters():\n",
        "  print(name, \":\", param.requires_grad)"
      ],
      "execution_count": null,
      "outputs": [
        {
          "output_type": "display_data",
          "data": {
            "application/vnd.jupyter.widget-view+json": {
              "model_id": "da460593eb1e454293769dc590d9103b",
              "version_minor": 0,
              "version_major": 2
            },
            "text/plain": [
              "HBox(children=(FloatProgress(value=0.0, description='Downloading', max=760.0, style=ProgressStyle(description_…"
            ]
          },
          "metadata": {
            "tags": []
          }
        },
        {
          "output_type": "stream",
          "text": [
            "\n"
          ],
          "name": "stdout"
        },
        {
          "output_type": "display_data",
          "data": {
            "application/vnd.jupyter.widget-view+json": {
              "model_id": "f642aec3008543e596334c1eb5259e17",
              "version_minor": 0,
              "version_major": 2
            },
            "text/plain": [
              "HBox(children=(FloatProgress(value=0.0, description='Downloading', max=467042463.0, style=ProgressStyle(descri…"
            ]
          },
          "metadata": {
            "tags": []
          }
        },
        {
          "output_type": "stream",
          "text": [
            "\n"
          ],
          "name": "stdout"
        },
        {
          "output_type": "stream",
          "text": [
            "Some weights of the model checkpoint at xlnet-base-cased were not used when initializing XLNetForSequenceClassification: ['lm_loss.weight', 'lm_loss.bias']\n",
            "- This IS expected if you are initializing XLNetForSequenceClassification from the checkpoint of a model trained on another task or with another architecture (e.g. initializing a BertForSequenceClassification model from a BertForPretraining model).\n",
            "- This IS NOT expected if you are initializing XLNetForSequenceClassification from the checkpoint of a model that you expect to be exactly identical (initializing a BertForSequenceClassification model from a BertForSequenceClassification model).\n",
            "Some weights of XLNetForSequenceClassification were not initialized from the model checkpoint at xlnet-base-cased and are newly initialized: ['sequence_summary.summary.weight', 'sequence_summary.summary.bias', 'logits_proj.weight', 'logits_proj.bias']\n",
            "You should probably TRAIN this model on a down-stream task to be able to use it for predictions and inference.\n"
          ],
          "name": "stderr"
        },
        {
          "output_type": "stream",
          "text": [
            "transformer.mask_emb : False\n",
            "transformer.word_embedding.weight : False\n",
            "transformer.layer.0.rel_attn.q : False\n",
            "transformer.layer.0.rel_attn.k : False\n",
            "transformer.layer.0.rel_attn.v : False\n",
            "transformer.layer.0.rel_attn.o : False\n",
            "transformer.layer.0.rel_attn.r : False\n",
            "transformer.layer.0.rel_attn.r_r_bias : False\n",
            "transformer.layer.0.rel_attn.r_s_bias : False\n",
            "transformer.layer.0.rel_attn.r_w_bias : False\n",
            "transformer.layer.0.rel_attn.seg_embed : False\n",
            "transformer.layer.0.rel_attn.layer_norm.weight : False\n",
            "transformer.layer.0.rel_attn.layer_norm.bias : False\n",
            "transformer.layer.0.ff.layer_norm.weight : False\n",
            "transformer.layer.0.ff.layer_norm.bias : False\n",
            "transformer.layer.0.ff.layer_1.weight : False\n",
            "transformer.layer.0.ff.layer_1.bias : False\n",
            "transformer.layer.0.ff.layer_2.weight : False\n",
            "transformer.layer.0.ff.layer_2.bias : False\n",
            "transformer.layer.1.rel_attn.q : False\n",
            "transformer.layer.1.rel_attn.k : False\n",
            "transformer.layer.1.rel_attn.v : False\n",
            "transformer.layer.1.rel_attn.o : False\n",
            "transformer.layer.1.rel_attn.r : False\n",
            "transformer.layer.1.rel_attn.r_r_bias : False\n",
            "transformer.layer.1.rel_attn.r_s_bias : False\n",
            "transformer.layer.1.rel_attn.r_w_bias : False\n",
            "transformer.layer.1.rel_attn.seg_embed : False\n",
            "transformer.layer.1.rel_attn.layer_norm.weight : False\n",
            "transformer.layer.1.rel_attn.layer_norm.bias : False\n",
            "transformer.layer.1.ff.layer_norm.weight : False\n",
            "transformer.layer.1.ff.layer_norm.bias : False\n",
            "transformer.layer.1.ff.layer_1.weight : False\n",
            "transformer.layer.1.ff.layer_1.bias : False\n",
            "transformer.layer.1.ff.layer_2.weight : False\n",
            "transformer.layer.1.ff.layer_2.bias : False\n",
            "transformer.layer.2.rel_attn.q : False\n",
            "transformer.layer.2.rel_attn.k : False\n",
            "transformer.layer.2.rel_attn.v : False\n",
            "transformer.layer.2.rel_attn.o : False\n",
            "transformer.layer.2.rel_attn.r : False\n",
            "transformer.layer.2.rel_attn.r_r_bias : False\n",
            "transformer.layer.2.rel_attn.r_s_bias : False\n",
            "transformer.layer.2.rel_attn.r_w_bias : False\n",
            "transformer.layer.2.rel_attn.seg_embed : False\n",
            "transformer.layer.2.rel_attn.layer_norm.weight : False\n",
            "transformer.layer.2.rel_attn.layer_norm.bias : False\n",
            "transformer.layer.2.ff.layer_norm.weight : False\n",
            "transformer.layer.2.ff.layer_norm.bias : False\n",
            "transformer.layer.2.ff.layer_1.weight : False\n",
            "transformer.layer.2.ff.layer_1.bias : False\n",
            "transformer.layer.2.ff.layer_2.weight : False\n",
            "transformer.layer.2.ff.layer_2.bias : False\n",
            "transformer.layer.3.rel_attn.q : False\n",
            "transformer.layer.3.rel_attn.k : False\n",
            "transformer.layer.3.rel_attn.v : False\n",
            "transformer.layer.3.rel_attn.o : False\n",
            "transformer.layer.3.rel_attn.r : False\n",
            "transformer.layer.3.rel_attn.r_r_bias : False\n",
            "transformer.layer.3.rel_attn.r_s_bias : False\n",
            "transformer.layer.3.rel_attn.r_w_bias : False\n",
            "transformer.layer.3.rel_attn.seg_embed : False\n",
            "transformer.layer.3.rel_attn.layer_norm.weight : False\n",
            "transformer.layer.3.rel_attn.layer_norm.bias : False\n",
            "transformer.layer.3.ff.layer_norm.weight : False\n",
            "transformer.layer.3.ff.layer_norm.bias : False\n",
            "transformer.layer.3.ff.layer_1.weight : False\n",
            "transformer.layer.3.ff.layer_1.bias : False\n",
            "transformer.layer.3.ff.layer_2.weight : False\n",
            "transformer.layer.3.ff.layer_2.bias : False\n",
            "transformer.layer.4.rel_attn.q : False\n",
            "transformer.layer.4.rel_attn.k : False\n",
            "transformer.layer.4.rel_attn.v : False\n",
            "transformer.layer.4.rel_attn.o : False\n",
            "transformer.layer.4.rel_attn.r : False\n",
            "transformer.layer.4.rel_attn.r_r_bias : False\n",
            "transformer.layer.4.rel_attn.r_s_bias : False\n",
            "transformer.layer.4.rel_attn.r_w_bias : False\n",
            "transformer.layer.4.rel_attn.seg_embed : False\n",
            "transformer.layer.4.rel_attn.layer_norm.weight : False\n",
            "transformer.layer.4.rel_attn.layer_norm.bias : False\n",
            "transformer.layer.4.ff.layer_norm.weight : False\n",
            "transformer.layer.4.ff.layer_norm.bias : False\n",
            "transformer.layer.4.ff.layer_1.weight : False\n",
            "transformer.layer.4.ff.layer_1.bias : False\n",
            "transformer.layer.4.ff.layer_2.weight : False\n",
            "transformer.layer.4.ff.layer_2.bias : False\n",
            "transformer.layer.5.rel_attn.q : False\n",
            "transformer.layer.5.rel_attn.k : False\n",
            "transformer.layer.5.rel_attn.v : False\n",
            "transformer.layer.5.rel_attn.o : False\n",
            "transformer.layer.5.rel_attn.r : False\n",
            "transformer.layer.5.rel_attn.r_r_bias : False\n",
            "transformer.layer.5.rel_attn.r_s_bias : False\n",
            "transformer.layer.5.rel_attn.r_w_bias : False\n",
            "transformer.layer.5.rel_attn.seg_embed : False\n",
            "transformer.layer.5.rel_attn.layer_norm.weight : False\n",
            "transformer.layer.5.rel_attn.layer_norm.bias : False\n",
            "transformer.layer.5.ff.layer_norm.weight : False\n",
            "transformer.layer.5.ff.layer_norm.bias : False\n",
            "transformer.layer.5.ff.layer_1.weight : False\n",
            "transformer.layer.5.ff.layer_1.bias : False\n",
            "transformer.layer.5.ff.layer_2.weight : False\n",
            "transformer.layer.5.ff.layer_2.bias : False\n",
            "transformer.layer.6.rel_attn.q : False\n",
            "transformer.layer.6.rel_attn.k : False\n",
            "transformer.layer.6.rel_attn.v : False\n",
            "transformer.layer.6.rel_attn.o : False\n",
            "transformer.layer.6.rel_attn.r : False\n",
            "transformer.layer.6.rel_attn.r_r_bias : False\n",
            "transformer.layer.6.rel_attn.r_s_bias : False\n",
            "transformer.layer.6.rel_attn.r_w_bias : False\n",
            "transformer.layer.6.rel_attn.seg_embed : False\n",
            "transformer.layer.6.rel_attn.layer_norm.weight : False\n",
            "transformer.layer.6.rel_attn.layer_norm.bias : False\n",
            "transformer.layer.6.ff.layer_norm.weight : False\n",
            "transformer.layer.6.ff.layer_norm.bias : False\n",
            "transformer.layer.6.ff.layer_1.weight : False\n",
            "transformer.layer.6.ff.layer_1.bias : False\n",
            "transformer.layer.6.ff.layer_2.weight : False\n",
            "transformer.layer.6.ff.layer_2.bias : False\n",
            "transformer.layer.7.rel_attn.q : False\n",
            "transformer.layer.7.rel_attn.k : False\n",
            "transformer.layer.7.rel_attn.v : False\n",
            "transformer.layer.7.rel_attn.o : False\n",
            "transformer.layer.7.rel_attn.r : False\n",
            "transformer.layer.7.rel_attn.r_r_bias : False\n",
            "transformer.layer.7.rel_attn.r_s_bias : False\n",
            "transformer.layer.7.rel_attn.r_w_bias : False\n",
            "transformer.layer.7.rel_attn.seg_embed : False\n",
            "transformer.layer.7.rel_attn.layer_norm.weight : False\n",
            "transformer.layer.7.rel_attn.layer_norm.bias : False\n",
            "transformer.layer.7.ff.layer_norm.weight : False\n",
            "transformer.layer.7.ff.layer_norm.bias : False\n",
            "transformer.layer.7.ff.layer_1.weight : False\n",
            "transformer.layer.7.ff.layer_1.bias : False\n",
            "transformer.layer.7.ff.layer_2.weight : False\n",
            "transformer.layer.7.ff.layer_2.bias : False\n",
            "transformer.layer.8.rel_attn.q : False\n",
            "transformer.layer.8.rel_attn.k : False\n",
            "transformer.layer.8.rel_attn.v : False\n",
            "transformer.layer.8.rel_attn.o : False\n",
            "transformer.layer.8.rel_attn.r : False\n",
            "transformer.layer.8.rel_attn.r_r_bias : False\n",
            "transformer.layer.8.rel_attn.r_s_bias : False\n",
            "transformer.layer.8.rel_attn.r_w_bias : False\n",
            "transformer.layer.8.rel_attn.seg_embed : False\n",
            "transformer.layer.8.rel_attn.layer_norm.weight : False\n",
            "transformer.layer.8.rel_attn.layer_norm.bias : False\n",
            "transformer.layer.8.ff.layer_norm.weight : False\n",
            "transformer.layer.8.ff.layer_norm.bias : False\n",
            "transformer.layer.8.ff.layer_1.weight : False\n",
            "transformer.layer.8.ff.layer_1.bias : False\n",
            "transformer.layer.8.ff.layer_2.weight : False\n",
            "transformer.layer.8.ff.layer_2.bias : False\n",
            "transformer.layer.9.rel_attn.q : False\n",
            "transformer.layer.9.rel_attn.k : False\n",
            "transformer.layer.9.rel_attn.v : False\n",
            "transformer.layer.9.rel_attn.o : False\n",
            "transformer.layer.9.rel_attn.r : False\n",
            "transformer.layer.9.rel_attn.r_r_bias : False\n",
            "transformer.layer.9.rel_attn.r_s_bias : False\n",
            "transformer.layer.9.rel_attn.r_w_bias : False\n",
            "transformer.layer.9.rel_attn.seg_embed : False\n",
            "transformer.layer.9.rel_attn.layer_norm.weight : False\n",
            "transformer.layer.9.rel_attn.layer_norm.bias : False\n",
            "transformer.layer.9.ff.layer_norm.weight : False\n",
            "transformer.layer.9.ff.layer_norm.bias : False\n",
            "transformer.layer.9.ff.layer_1.weight : False\n",
            "transformer.layer.9.ff.layer_1.bias : False\n",
            "transformer.layer.9.ff.layer_2.weight : False\n",
            "transformer.layer.9.ff.layer_2.bias : False\n",
            "transformer.layer.10.rel_attn.q : False\n",
            "transformer.layer.10.rel_attn.k : False\n",
            "transformer.layer.10.rel_attn.v : False\n",
            "transformer.layer.10.rel_attn.o : False\n",
            "transformer.layer.10.rel_attn.r : False\n",
            "transformer.layer.10.rel_attn.r_r_bias : False\n",
            "transformer.layer.10.rel_attn.r_s_bias : False\n",
            "transformer.layer.10.rel_attn.r_w_bias : False\n",
            "transformer.layer.10.rel_attn.seg_embed : False\n",
            "transformer.layer.10.rel_attn.layer_norm.weight : False\n",
            "transformer.layer.10.rel_attn.layer_norm.bias : False\n",
            "transformer.layer.10.ff.layer_norm.weight : False\n",
            "transformer.layer.10.ff.layer_norm.bias : False\n",
            "transformer.layer.10.ff.layer_1.weight : False\n",
            "transformer.layer.10.ff.layer_1.bias : False\n",
            "transformer.layer.10.ff.layer_2.weight : False\n",
            "transformer.layer.10.ff.layer_2.bias : False\n",
            "transformer.layer.11.rel_attn.q : False\n",
            "transformer.layer.11.rel_attn.k : False\n",
            "transformer.layer.11.rel_attn.v : False\n",
            "transformer.layer.11.rel_attn.o : False\n",
            "transformer.layer.11.rel_attn.r : False\n",
            "transformer.layer.11.rel_attn.r_r_bias : False\n",
            "transformer.layer.11.rel_attn.r_s_bias : False\n",
            "transformer.layer.11.rel_attn.r_w_bias : False\n",
            "transformer.layer.11.rel_attn.seg_embed : False\n",
            "transformer.layer.11.rel_attn.layer_norm.weight : False\n",
            "transformer.layer.11.rel_attn.layer_norm.bias : False\n",
            "transformer.layer.11.ff.layer_norm.weight : False\n",
            "transformer.layer.11.ff.layer_norm.bias : False\n",
            "transformer.layer.11.ff.layer_1.weight : False\n",
            "transformer.layer.11.ff.layer_1.bias : False\n",
            "transformer.layer.11.ff.layer_2.weight : False\n",
            "transformer.layer.11.ff.layer_2.bias : False\n",
            "sequence_summary.summary.weight : False\n",
            "sequence_summary.summary.bias : False\n",
            "logits_proj.weight : True\n",
            "logits_proj.bias : True\n"
          ],
          "name": "stdout"
        }
      ]
    },
    {
      "cell_type": "code",
      "metadata": {
        "id": "vGw3Lk02OTJc",
        "colab_type": "code",
        "colab": {}
      },
      "source": [
        "import time\n",
        "import datetime\n",
        "\n",
        "def format_time(elapsed):\n",
        "    '''\n",
        "    Takes a time in seconds and returns a string hh:mm:ss\n",
        "    '''\n",
        "    # Round to the nearest second.\n",
        "    elapsed_rounded = int(round((elapsed)))\n",
        "    \n",
        "    # Format as hh:mm:ss\n",
        "    return str(datetime.timedelta(seconds=elapsed_rounded))\n",
        "\n",
        "class csatXLNet:\n",
        "  DEVICE = \"cuda\" if torch.cuda.is_available() else \"cpu\"\n",
        "\n",
        "  def __init__(self,\n",
        "               xlnet_pretrained_model='xlnet-base-cased', #'xlnet-base-cased'\n",
        "               freeze_layers = True,\n",
        "               train_batch_size=4,\n",
        "               eval_batch_size=4,\n",
        "               num_labels=2):\n",
        "\n",
        "      # define hyperparameters\n",
        "      self.train_batch_size = train_batch_size\n",
        "      self.eval_batch_size = eval_batch_size\n",
        "      self.num_labels = num_labels\n",
        "\n",
        "      # loading pre-trained models\n",
        "      self.config = XLNetConfig.from_pretrained(xlnet_pretrained_model)\n",
        "      self.config.num_labels = num_labels\n",
        "      self.model = XLNetForSequenceClassification.from_pretrained(xlnet_pretrained_model, config=self.config).to(self.DEVICE)\n",
        "\n",
        "      self.train_dset = train_df\n",
        "      self.eval_dset = valid_df\n",
        "      self.train_loader = DataLoader(self.train_dset,\n",
        "                                  batch_size=self.train_batch_size,\n",
        "                                  shuffle=True)\n",
        "      self.eval_loader = DataLoader(self.eval_dset,\n",
        "                                  batch_size=self.eval_batch_size)\n",
        "      \n",
        "      #Freezing all layers except classifier layer\n",
        "      if freeze_layers:\n",
        "        for name, param in self.model.named_parameters():\n",
        "          if 'logits_proj' not in name: # classifier layer for XLNet\n",
        "            param.requires_grad = False\n",
        "\n",
        "  def train_model(self,\n",
        "                  num_epochs=10,\n",
        "                  learning_rate=2e-4,\n",
        "                  warmup_ratio=0.1,\n",
        "                  experiment_path = '/content/gdrive/My Drive/csatBERT/Experiment3/XLNet_768_v1/',\n",
        "                  model_save_path = 'saved_model_epoch_%d/',\n",
        "                  train_valid_filename = 'train_valid_stats.csv'):\n",
        "    \n",
        "    if not os.path.exists(experiment_path):\n",
        "        os.makedirs(experiment_path)\n",
        "  \n",
        "    # Total number of training steps is [number of batches] x [number of epochs]. \n",
        "    num_total_steps = len(self.train_loader) * num_epochs \n",
        "\n",
        "    num_warmup_steps = int(num_total_steps * warmup_ratio)\n",
        "\n",
        "    # instantiate optimizer\n",
        "\n",
        "    # param_optimizer = list(self.model.named_parameters())\n",
        "    # no_decay = ['bias', 'gamma', 'beta']\n",
        "    # optimizer_grouped_parameters = [\n",
        "    #     {'params': [p for n, p in param_optimizer if not any(nd in n for nd in no_decay)],\n",
        "    #     'weight_decay_rate': 0.01},\n",
        "    #     {'params': [p for n, p in param_optimizer if any(nd in n for nd in no_decay)],\n",
        "    #     'weight_decay_rate': 0.0}\n",
        "    # ]\n",
        "\n",
        "    optimizer = AdamW(self.model.parameters(),\n",
        "                      lr=learning_rate) #default is 5e-5\n",
        "                      \n",
        "\n",
        "    scheduler = get_cosine_schedule_with_warmup(optimizer,\n",
        "                                      num_warmup_steps=num_warmup_steps,\n",
        "                                      num_training_steps=num_total_steps)\n",
        "\n",
        "    # define empty lists and counters to keep track of metrics\n",
        "    train_valid_stats = []\n",
        "    all_train_loss, all_train_accuracy, all_train_f1score, all_train_precision, all_train_recall = [], [], [], [], []\n",
        "    all_eval_loss, all_eval_accuracy, all_eval_f1score, all_eval_precision, all_eval_recall = [], [], [], [], []\n",
        "\n",
        "    self.model.train()\n",
        "\n",
        "    with open(experiment_path + train_valid_filename, 'w') as csvfile:\n",
        "      fieldnames = ['Epoch', 'train_loss', 'train_acc', 'train_f1', 'train_precision', 'train_recall', 'valid_loss', 'valid_acc', 'valid_f1', 'valid_precision', 'valid_recall', 'eval_confmat']\n",
        "      writer = csv.DictWriter(csvfile, fieldnames=fieldnames, delimiter=',')\n",
        "      writer.writeheader()\n",
        "\n",
        "      # loop over dataset for num_epochs\n",
        "      for epoch in notebook.tqdm(range(num_epochs), desc=\"Epoch  \"):\n",
        "          print(\"\")\n",
        "          print('======== Epoch {:} / {:} ========'.format(epoch + 1, num_epochs))\n",
        "\n",
        "          t0 = time.time()\n",
        "\n",
        "          # Reset the total loss for every new epoch.\n",
        "          total_train_loss = 0\n",
        "          total_train_acc = 0\n",
        "          total_train_f1 = 0\n",
        "          total_train_precision = 0\n",
        "          total_train_recall = 0\n",
        "\n",
        "          # loop over every batch within the training dataset\n",
        "          for iter, (inputs, attns, labels) in enumerate(notebook.tqdm(self.train_loader, desc=\"Training\")):\n",
        "            \n",
        "              # reset optimizer gradient\n",
        "              optimizer.zero_grad()\n",
        "\n",
        "              # putting inputs to device\n",
        "              inputs = inputs.to(self.DEVICE)\n",
        "              attns = attns.to(self.DEVICE)\n",
        "              labels = labels.to(self.DEVICE)\n",
        "\n",
        "              # feed to model\n",
        "              outputs = self.model(inputs,\n",
        "                              token_type_ids=None, \n",
        "                              attention_mask=attns,\n",
        "                              labels=labels)\n",
        "              \n",
        "              loss, scores = outputs[:2]\n",
        "\n",
        "              total_train_loss += loss.item()\n",
        "\n",
        "              predictions = torch.argmax(scores, dim=-1)\n",
        "\n",
        "              # backprop\n",
        "              loss.backward()\n",
        "              # clip the the gradients to 1.0. It helps in preventing the exploding gradient problem\n",
        "              torch.nn.utils.clip_grad_norm_(self.model.parameters(), 1.0)\n",
        "              # Update parameters and take a step using the computed gradient.\n",
        "              optimizer.step()\n",
        "              #Update learning rate\n",
        "              scheduler.step()\n",
        "\n",
        "              total_train_acc += accuracy_score(labels.cpu().detach().numpy(), predictions.cpu().detach().numpy())\n",
        "              _train_precision, _train_recall, _train_f1, _ = precision_recall_fscore_support(labels.cpu().detach().numpy(), predictions.cpu().detach().numpy(), average='weighted')\n",
        "              total_train_precision += _train_precision\n",
        "              total_train_recall += _train_recall\n",
        "              total_train_f1 += _train_f1\n",
        "\n",
        "              # Progress update every 1306 samples.\n",
        "              if iter % 1306 == 0 and not iter == 0:\n",
        "\n",
        "                  # Calculate elapsed time in minutes.\n",
        "                  elapsed = format_time(time.time() - t0)\n",
        "                  \n",
        "                  # Report progress.\n",
        "                  print('  Batch {:>5,}  of  {:>5,}.    Elapsed: {:}.'.format(iter, len(self.train_loader), elapsed))\n",
        "\n",
        "          # add to totals \n",
        "          avg_train_loss = total_train_loss/len(self.train_loader)\n",
        "          avg_train_acc = total_train_acc/len(self.train_loader)\n",
        "          avg_train_f1 = total_train_f1/len(self.train_loader)\n",
        "          avg_train_precision = total_train_precision/len(self.train_loader)\n",
        "          avg_train_recall = total_train_recall/len(self.train_loader)\n",
        "\n",
        "          # ========================================\n",
        "          #               Validation\n",
        "          # ========================================\n",
        "          # After the completion of each training epoch, measure our performance on our validation set.\n",
        "\n",
        "          eval_loss, eval_acc, eval_f1, eval_precision, eval_recall, eval_conf_matrix = self.evaluate_model()\n",
        "\n",
        "          print(\"  Training Loss: {0:.2f}\".format(avg_train_loss), \"||\", \"Evaluation Loss: {0:.2f}\".format(eval_loss)) \n",
        "          print(\"  Training Accuracy: {0:.2f}\".format(avg_train_acc), \"||\", \"Evaluation Accuracy: {0:.2f}\".format(eval_acc))\n",
        "          print(\"  Training F1: {0:.2f}\".format(avg_train_f1), \"||\", \"Evaluation F1: {0:.2f}\".format(eval_f1)) \n",
        "          print(\"  Training Precision: {0:.2f}\".format(avg_train_precision), \"||\", \"Evaluation Precision: {0:.2f}\".format(eval_precision))\n",
        "          print(\"  Training Recall: {0:.2f}\".format(avg_train_recall), \"||\", \"Evaluation Recall: {0:.2f}\".format(eval_recall))\n",
        "\n",
        "          #Saving train-validation stats for epoch\n",
        "          print(f\"Saving current epoch's training & validation metric file to\", experiment_path + train_valid_filename)\n",
        "          fieldnames = ['Epoch', 'train_loss', 'train_acc', 'train_f1', 'train_precision', 'train_recall', 'valid_loss', 'valid_acc', 'valid_f1', 'valid_precision', 'valid_recall', 'eval_confmat']\n",
        "          if os.path.isfile(experiment_path + train_valid_filename):         \n",
        "              with open(experiment_path + train_valid_filename, 'a', newline='') as csvfile:\n",
        "                  w = csv.DictWriter(csvfile, fieldnames= fieldnames)\n",
        "                  w.writerow({\n",
        "                      'Epoch': epoch + 1,\n",
        "                      'train_loss': avg_train_loss,\n",
        "                      'train_acc': avg_train_acc,\n",
        "                      'train_f1': avg_train_f1,\n",
        "                      'train_precision':avg_train_precision,\n",
        "                      'train_recall':avg_train_recall,\n",
        "                      'valid_loss': eval_loss,\n",
        "                      'valid_acc': eval_acc,\n",
        "                      'valid_f1': eval_f1,\n",
        "                      'valid_precision':eval_precision,\n",
        "                      'valid_recall':eval_recall,\n",
        "                      'eval_confmat':eval_conf_matrix.tolist()\n",
        "                  })\n",
        "          else:\n",
        "              with open(experiment_path + train_valid_filename, 'w', newline='') as csvfile:\n",
        "                  w = csv.DictWriter(csvfile, fieldnames=fieldnames)\n",
        "                  w.writeheader()\n",
        "                  w.writerow({\n",
        "                      'Epoch': epoch + 1,\n",
        "                      'train_loss': avg_train_loss,\n",
        "                      'train_acc': avg_train_acc,\n",
        "                      'train_f1': avg_train_f1,\n",
        "                      'train_precision':avg_train_precision,\n",
        "                      'train_recall':avg_train_recall,\n",
        "                      'valid_loss': eval_loss,\n",
        "                      'valid_acc': eval_acc,\n",
        "                      'valid_f1': eval_f1,\n",
        "                      'valid_precision':eval_precision,\n",
        "                      'valid_recall':eval_recall,\n",
        "                      'eval_confmat':eval_conf_matrix.tolist()\n",
        "                  })\n",
        "\n",
        "          #Saving model for epoch\n",
        "          modelsave_path_formatted = model_save_path % (epoch+1)\n",
        "          model_saved_path = os.path.join(experiment_path, modelsave_path_formatted)\n",
        "          print('Saving model from epoch {:} at {}'.format(epoch+1, model_saved_path))\n",
        "          if not os.path.exists(model_saved_path):\n",
        "              os.makedirs(model_saved_path)\n",
        "\n",
        "          self.model.save_pretrained(model_saved_path)\n",
        "          torch.save(optimizer.state_dict(), os.path.join(model_saved_path, 'optimizer.pt'))\n",
        "          torch.save(scheduler.state_dict(), os.path.join(model_saved_path, 'scheduler.pt'))\n",
        "\n",
        "  def evaluate_model(self):\n",
        "    self.model.eval()\n",
        "\n",
        "    total_eval_loss = 0\n",
        "    total_eval_acc = 0\n",
        "    total_eval_f1 = 0\n",
        "    total_eval_recall = 0\n",
        "    total_eval_precision = 0 \n",
        "    all_labels = []\n",
        "    all_predictions = [] \n",
        "\n",
        "    with torch.no_grad():\n",
        "        for (inputs, attns, labels) in notebook.tqdm(self.eval_loader, desc=\"Evaluate\"):\n",
        "\n",
        "            # putting inputs to device\n",
        "            inputs = inputs.to(self.DEVICE)\n",
        "            attns = attns.to(self.DEVICE)\n",
        "            labels = labels.to(self.DEVICE)\n",
        "\n",
        "            # feed to model\n",
        "            outputs = self.model(inputs,\n",
        "                                 token_type_ids=None,  \n",
        "                                 attention_mask=attns, \n",
        "                                 labels=labels)\n",
        "            \n",
        "            loss, scores = outputs[:2]\n",
        "\n",
        "            predictions = torch.argmax(scores, dim=-1)\n",
        "\n",
        "            # add loss to total loss\n",
        "            total_eval_loss += loss.item()\n",
        "\n",
        "            total_eval_acc += accuracy_score(labels.cpu().detach().numpy(), predictions.cpu().detach().numpy())\n",
        "            _eval_precision, _eval_recall, _eval_f1, _ = precision_recall_fscore_support(labels.cpu().detach().numpy(), predictions.cpu().detach().numpy(), average='macro')\n",
        "            total_eval_precision += _eval_precision\n",
        "            total_eval_recall += _eval_recall\n",
        "            total_eval_f1 += _eval_f1\n",
        "\n",
        "            # used to create confusion matrix\n",
        "            all_labels += labels.cpu().flatten().tolist()\n",
        "            all_predictions += predictions.cpu().flatten().tolist()\n",
        "    \n",
        "    avg_eval_loss = total_eval_loss/len(self.eval_loader)\n",
        "    avg_eval_acc = total_eval_acc/len(self.eval_loader)\n",
        "    avg_eval_f1 = total_eval_f1/len(self.eval_loader)\n",
        "    avg_eval_precision = total_eval_precision/len(self.eval_loader)\n",
        "    avg_eval_recall = total_eval_recall/len(self.eval_loader)\n",
        "    conf_matrix = confusion_matrix(all_labels, all_predictions)\n",
        "\n",
        "    return avg_eval_loss, avg_eval_acc, avg_eval_f1, avg_eval_precision, avg_eval_recall, conf_matrix"
      ],
      "execution_count": 23,
      "outputs": []
    },
    {
      "cell_type": "code",
      "metadata": {
        "id": "RXAab9BbSPt-",
        "colab_type": "code",
        "colab": {
          "base_uri": "https://localhost:8080/",
          "height": 357
        },
        "outputId": "aa551f31-6948-4353-ef2c-f22919c03d28"
      },
      "source": [
        "!nvidia-smi"
      ],
      "execution_count": 24,
      "outputs": [
        {
          "output_type": "stream",
          "text": [
            "Sat Aug 15 18:29:07 2020       \n",
            "+-----------------------------------------------------------------------------+\n",
            "| NVIDIA-SMI 450.57       Driver Version: 418.67       CUDA Version: 10.1     |\n",
            "|-------------------------------+----------------------+----------------------+\n",
            "| GPU  Name        Persistence-M| Bus-Id        Disp.A | Volatile Uncorr. ECC |\n",
            "| Fan  Temp  Perf  Pwr:Usage/Cap|         Memory-Usage | GPU-Util  Compute M. |\n",
            "|                               |                      |               MIG M. |\n",
            "|===============================+======================+======================|\n",
            "|   0  Tesla P100-PCIE...  Off  | 00000000:00:04.0 Off |                    0 |\n",
            "| N/A   34C    P0    26W / 250W |     10MiB / 16280MiB |      0%      Default |\n",
            "|                               |                      |                 ERR! |\n",
            "+-------------------------------+----------------------+----------------------+\n",
            "                                                                               \n",
            "+-----------------------------------------------------------------------------+\n",
            "| Processes:                                                                  |\n",
            "|  GPU   GI   CI        PID   Type   Process name                  GPU Memory |\n",
            "|        ID   ID                                                   Usage      |\n",
            "|=============================================================================|\n",
            "|  No running processes found                                                 |\n",
            "+-----------------------------------------------------------------------------+\n"
          ],
          "name": "stdout"
        }
      ]
    },
    {
      "cell_type": "code",
      "metadata": {
        "id": "kYMIe2DULtYL",
        "colab_type": "code",
        "colab": {
          "base_uri": "https://localhost:8080/",
          "height": 220,
          "referenced_widgets": [
            "0056c019b40e42fea4030e8ae0eef48a",
            "08e0f1610a024dcfa2de6584dfff208e",
            "88b67bd99ac9483797f175931555bf2a",
            "a4f7a72a1fda449580da363d623d9610",
            "f18faf125263423f91413da1885f42a7",
            "0114b6001530491fbbe57f5d9413cd6a",
            "5d1a3b0c4ca04a248a422d07e968f715",
            "a2e82646865747b7a2d571c2a4bef7e3",
            "f43b3b626a984dbb8d0b1af2dd78e40e",
            "67db45bb4e1b4c51848f84952ea5733c",
            "f76a3a038d62448cb69a391889e7169d",
            "64564c010e4b443b977cf7225a5998e5",
            "a7fde4970dd74f89a78d2946e8d954a7",
            "9a6bfbe207174c8ca9f08b3ab3d60df7",
            "503c57d8229e4eeaa6b5166b384b1676",
            "a89450d30cb74790bb67e8fbd8cae254"
          ]
        },
        "outputId": "6668d8a0-59ac-492c-e748-c237745e34fd"
      },
      "source": [
        "torch.cuda.empty_cache()\n",
        "model = csatXLNet()"
      ],
      "execution_count": 25,
      "outputs": [
        {
          "output_type": "display_data",
          "data": {
            "application/vnd.jupyter.widget-view+json": {
              "model_id": "0056c019b40e42fea4030e8ae0eef48a",
              "version_minor": 0,
              "version_major": 2
            },
            "text/plain": [
              "HBox(children=(FloatProgress(value=0.0, description='Downloading', max=760.0, style=ProgressStyle(description_…"
            ]
          },
          "metadata": {
            "tags": []
          }
        },
        {
          "output_type": "stream",
          "text": [
            "\n"
          ],
          "name": "stdout"
        },
        {
          "output_type": "display_data",
          "data": {
            "application/vnd.jupyter.widget-view+json": {
              "model_id": "f43b3b626a984dbb8d0b1af2dd78e40e",
              "version_minor": 0,
              "version_major": 2
            },
            "text/plain": [
              "HBox(children=(FloatProgress(value=0.0, description='Downloading', max=467042463.0, style=ProgressStyle(descri…"
            ]
          },
          "metadata": {
            "tags": []
          }
        },
        {
          "output_type": "stream",
          "text": [
            "\n"
          ],
          "name": "stdout"
        },
        {
          "output_type": "stream",
          "text": [
            "Some weights of the model checkpoint at xlnet-base-cased were not used when initializing XLNetForSequenceClassification: ['lm_loss.weight', 'lm_loss.bias']\n",
            "- This IS expected if you are initializing XLNetForSequenceClassification from the checkpoint of a model trained on another task or with another architecture (e.g. initializing a BertForSequenceClassification model from a BertForPretraining model).\n",
            "- This IS NOT expected if you are initializing XLNetForSequenceClassification from the checkpoint of a model that you expect to be exactly identical (initializing a BertForSequenceClassification model from a BertForSequenceClassification model).\n",
            "Some weights of XLNetForSequenceClassification were not initialized from the model checkpoint at xlnet-base-cased and are newly initialized: ['sequence_summary.summary.weight', 'sequence_summary.summary.bias', 'logits_proj.weight', 'logits_proj.bias']\n",
            "You should probably TRAIN this model on a down-stream task to be able to use it for predictions and inference.\n"
          ],
          "name": "stderr"
        }
      ]
    },
    {
      "cell_type": "code",
      "metadata": {
        "id": "5fX6jvLj91f4",
        "colab_type": "code",
        "colab": {
          "base_uri": "https://localhost:8080/"
        },
        "outputId": "8b04849c-af2c-4406-fc1a-d4e21a115018"
      },
      "source": [
        "model.train_model()"
      ],
      "execution_count": 26,
      "outputs": [
        {
          "output_type": "display_data",
          "data": {
            "application/vnd.jupyter.widget-view+json": {
              "model_id": "a50bede857f843ac98a3c32121a7a1fc",
              "version_minor": 0,
              "version_major": 2
            },
            "text/plain": [
              "HBox(children=(FloatProgress(value=0.0, description='Epoch  ', max=10.0, style=ProgressStyle(description_width…"
            ]
          },
          "metadata": {
            "tags": []
          }
        },
        {
          "output_type": "stream",
          "text": [
            "\n",
            "======== Epoch 1 / 10 ========\n"
          ],
          "name": "stdout"
        },
        {
          "output_type": "display_data",
          "data": {
            "application/vnd.jupyter.widget-view+json": {
              "model_id": "db9d9bed7fda4975bf8f449e46b22cea",
              "version_minor": 0,
              "version_major": 2
            },
            "text/plain": [
              "HBox(children=(FloatProgress(value=0.0, description='Training', max=10075.0, style=ProgressStyle(description_w…"
            ]
          },
          "metadata": {
            "tags": []
          }
        },
        {
          "output_type": "stream",
          "text": [
            "/usr/local/lib/python3.6/dist-packages/sklearn/metrics/_classification.py:1272: UndefinedMetricWarning: Precision and F-score are ill-defined and being set to 0.0 in labels with no predicted samples. Use `zero_division` parameter to control this behavior.\n",
            "  _warn_prf(average, modifier, msg_start, len(result))\n",
            "/usr/local/lib/python3.6/dist-packages/sklearn/metrics/_classification.py:1272: UndefinedMetricWarning: Recall and F-score are ill-defined and being set to 0.0 in labels with no true samples. Use `zero_division` parameter to control this behavior.\n",
            "  _warn_prf(average, modifier, msg_start, len(result))\n"
          ],
          "name": "stderr"
        },
        {
          "output_type": "stream",
          "text": [
            "  Batch 1,306  of  10,075.    Elapsed: 0:08:58.\n",
            "  Batch 2,612  of  10,075.    Elapsed: 0:17:54.\n",
            "  Batch 3,918  of  10,075.    Elapsed: 0:26:50.\n",
            "  Batch 5,224  of  10,075.    Elapsed: 0:35:46.\n",
            "  Batch 6,530  of  10,075.    Elapsed: 0:44:42.\n",
            "  Batch 7,836  of  10,075.    Elapsed: 0:53:38.\n",
            "  Batch 9,142  of  10,075.    Elapsed: 1:02:35.\n",
            "\n"
          ],
          "name": "stdout"
        },
        {
          "output_type": "display_data",
          "data": {
            "application/vnd.jupyter.widget-view+json": {
              "model_id": "971b4c16a5eb4531ad7863c9a5a19f9a",
              "version_minor": 0,
              "version_major": 2
            },
            "text/plain": [
              "HBox(children=(FloatProgress(value=0.0, description='Evaluate', max=511.0, style=ProgressStyle(description_wid…"
            ]
          },
          "metadata": {
            "tags": []
          }
        },
        {
          "output_type": "stream",
          "text": [
            "\n",
            "  Training Loss: 0.62 || Evaluation Loss: 0.52\n",
            "  Training Accuracy: 0.64 || Evaluation Accuracy: 0.81\n",
            "  Training F1: 0.63 || Evaluation F1: 0.69\n",
            "  Training Precision: 0.71 || Evaluation Precision: 0.71\n",
            "  Training Recall: 0.64 || Evaluation Recall: 0.69\n",
            "Saving current epoch's training & validation metric file to /content/gdrive/My Drive/csatBERT/Experiment3/XLNet_768_v1/train_valid_stats.csv\n",
            "Saving model from epoch 1 at /content/gdrive/My Drive/csatBERT/Experiment3/XLNet_768_v1/saved_model_epoch_1/\n"
          ],
          "name": "stdout"
        },
        {
          "output_type": "stream",
          "text": [
            "/usr/local/lib/python3.6/dist-packages/torch/optim/lr_scheduler.py:200: UserWarning: Please also save or load the state of the optimzer when saving or loading the scheduler.\n",
            "  warnings.warn(SAVE_STATE_WARNING, UserWarning)\n"
          ],
          "name": "stderr"
        },
        {
          "output_type": "stream",
          "text": [
            "\n",
            "======== Epoch 2 / 10 ========\n"
          ],
          "name": "stdout"
        },
        {
          "output_type": "display_data",
          "data": {
            "application/vnd.jupyter.widget-view+json": {
              "model_id": "2fc43dd5476341bc84cbd03d6cf3bfe1",
              "version_minor": 0,
              "version_major": 2
            },
            "text/plain": [
              "HBox(children=(FloatProgress(value=0.0, description='Training', max=10075.0, style=ProgressStyle(description_w…"
            ]
          },
          "metadata": {
            "tags": []
          }
        },
        {
          "output_type": "stream",
          "text": [
            "  Batch 1,306  of  10,075.    Elapsed: 0:08:44.\n",
            "  Batch 2,612  of  10,075.    Elapsed: 0:17:28.\n",
            "  Batch 3,918  of  10,075.    Elapsed: 0:26:12.\n",
            "  Batch 5,224  of  10,075.    Elapsed: 0:34:56.\n",
            "  Batch 6,530  of  10,075.    Elapsed: 0:43:41.\n",
            "  Batch 7,836  of  10,075.    Elapsed: 0:52:25.\n",
            "  Batch 9,142  of  10,075.    Elapsed: 1:01:10.\n",
            "\n"
          ],
          "name": "stdout"
        },
        {
          "output_type": "display_data",
          "data": {
            "application/vnd.jupyter.widget-view+json": {
              "model_id": "d7f3c5229843449a92c6eeec86f531bf",
              "version_minor": 0,
              "version_major": 2
            },
            "text/plain": [
              "HBox(children=(FloatProgress(value=0.0, description='Evaluate', max=511.0, style=ProgressStyle(description_wid…"
            ]
          },
          "metadata": {
            "tags": []
          }
        },
        {
          "output_type": "stream",
          "text": [
            "\n",
            "  Training Loss: 0.55 || Evaluation Loss: 0.60\n",
            "  Training Accuracy: 0.74 || Evaluation Accuracy: 0.74\n",
            "  Training F1: 0.73 || Evaluation F1: 0.62\n",
            "  Training Precision: 0.80 || Evaluation Precision: 0.68\n",
            "  Training Recall: 0.74 || Evaluation Recall: 0.62\n",
            "Saving current epoch's training & validation metric file to /content/gdrive/My Drive/csatBERT/Experiment3/XLNet_768_v1/train_valid_stats.csv\n",
            "Saving model from epoch 2 at /content/gdrive/My Drive/csatBERT/Experiment3/XLNet_768_v1/saved_model_epoch_2/\n",
            "\n",
            "======== Epoch 3 / 10 ========\n"
          ],
          "name": "stdout"
        },
        {
          "output_type": "display_data",
          "data": {
            "application/vnd.jupyter.widget-view+json": {
              "model_id": "151472c7a4974ab78210432ceb9b4479",
              "version_minor": 0,
              "version_major": 2
            },
            "text/plain": [
              "HBox(children=(FloatProgress(value=0.0, description='Training', max=10075.0, style=ProgressStyle(description_w…"
            ]
          },
          "metadata": {
            "tags": []
          }
        },
        {
          "output_type": "stream",
          "text": [
            "  Batch 1,306  of  10,075.    Elapsed: 0:08:46.\n",
            "  Batch 2,612  of  10,075.    Elapsed: 0:17:32.\n",
            "  Batch 3,918  of  10,075.    Elapsed: 0:26:17.\n",
            "  Batch 5,224  of  10,075.    Elapsed: 0:35:03.\n",
            "  Batch 6,530  of  10,075.    Elapsed: 0:43:48.\n",
            "  Batch 7,836  of  10,075.    Elapsed: 0:52:33.\n",
            "  Batch 9,142  of  10,075.    Elapsed: 1:01:18.\n",
            "\n"
          ],
          "name": "stdout"
        },
        {
          "output_type": "display_data",
          "data": {
            "application/vnd.jupyter.widget-view+json": {
              "model_id": "df22ed807a4d4f91abad4d5a5ff18cd5",
              "version_minor": 0,
              "version_major": 2
            },
            "text/plain": [
              "HBox(children=(FloatProgress(value=0.0, description='Evaluate', max=511.0, style=ProgressStyle(description_wid…"
            ]
          },
          "metadata": {
            "tags": []
          }
        },
        {
          "output_type": "stream",
          "text": [
            "\n",
            "  Training Loss: 0.54 || Evaluation Loss: 0.64\n",
            "  Training Accuracy: 0.75 || Evaluation Accuracy: 0.72\n",
            "  Training F1: 0.75 || Evaluation F1: 0.59\n",
            "  Training Precision: 0.81 || Evaluation Precision: 0.66\n",
            "  Training Recall: 0.75 || Evaluation Recall: 0.59\n",
            "Saving current epoch's training & validation metric file to /content/gdrive/My Drive/csatBERT/Experiment3/XLNet_768_v1/train_valid_stats.csv\n",
            "Saving model from epoch 3 at /content/gdrive/My Drive/csatBERT/Experiment3/XLNet_768_v1/saved_model_epoch_3/\n",
            "\n",
            "======== Epoch 4 / 10 ========\n"
          ],
          "name": "stdout"
        },
        {
          "output_type": "display_data",
          "data": {
            "application/vnd.jupyter.widget-view+json": {
              "model_id": "9868ebfe396d43fb9efe3bac7cd04383",
              "version_minor": 0,
              "version_major": 2
            },
            "text/plain": [
              "HBox(children=(FloatProgress(value=0.0, description='Training', max=10075.0, style=ProgressStyle(description_w…"
            ]
          },
          "metadata": {
            "tags": []
          }
        },
        {
          "output_type": "stream",
          "text": [
            "  Batch 1,306  of  10,075.    Elapsed: 0:08:46.\n",
            "  Batch 2,612  of  10,075.    Elapsed: 0:17:31.\n",
            "Buffered data was truncated after reaching the output size limit."
          ],
          "name": "stdout"
        }
      ]
    },
    {
      "cell_type": "code",
      "metadata": {
        "id": "rw8McWsXQ3um",
        "colab_type": "code",
        "colab": {
          "base_uri": "https://localhost:8080/",
          "height": 105
        },
        "outputId": "73af8826-6262-4fb7-fc41-45fee3e09a0e"
      },
      "source": [
        "# !ps -aux|grep python\n",
        "# !kill -9 121\n",
        "# !nvidia-smi"
      ],
      "execution_count": null,
      "outputs": [
        {
          "output_type": "stream",
          "text": [
            "root          18  1.0  0.7 418412 102832 ?       Sl   Aug01   5:27 /usr/bin/python2 /usr/local/bin/jupyter-notebook --ip=\"172.28.0.2\" --port=9000 --FileContentsManager.root_dir=\"/\" --LargeFileManager.delete_to_trash=False --MappingKernelManager.root_dir=\"/content\"\n",
            "root        2074 10.8  1.1 642036 152868 ?       Ssl  05:02   0:01 /usr/bin/python3 -m ipykernel_launcher -f /root/.local/share/jupyter/runtime/kernel-a6daaea4-ad58-419f-87ae-91564e2d2054.json\n",
            "root        2095  0.0  0.0  39192  6340 ?        S    05:03   0:00 /bin/bash -c ps -aux|grep python\n",
            "root        2097  0.0  0.0   5708   496 ?        D    05:03   0:00 grep python\n"
          ],
          "name": "stdout"
        }
      ]
    },
    {
      "cell_type": "code",
      "metadata": {
        "id": "J7ki4XpGOLpX",
        "colab_type": "code",
        "colab": {}
      },
      "source": [
        "model.train_model()"
      ],
      "execution_count": null,
      "outputs": []
    },
    {
      "cell_type": "code",
      "metadata": {
        "id": "ZLJ7r2dVjeI_",
        "colab_type": "code",
        "colab": {}
      },
      "source": [
        "res_df=pd.read_json('/content/gdrive/My Drive/csatBERT/Experiment3/XLNet_768_v1/train_valid_stats.json')\n",
        "res_df.head(10)\n",
        "\n",
        "# url = 'https://drive.google.com/file/d/11HZDTo0OxXAG_jWmljCHaWmrBI-q9k-2/view?usp=sharing'\n",
        "# path = 'https://drive.google.com/uc?export=download&id='+url.split('/')[-2]\n",
        "# res_df = pd.read_json(path)\n",
        "# res_df.head(10)"
      ],
      "execution_count": null,
      "outputs": []
    },
    {
      "cell_type": "code",
      "metadata": {
        "id": "eD-ORTgFjteR",
        "colab_type": "code",
        "colab": {
          "base_uri": "https://localhost:8080/",
          "height": 35
        },
        "outputId": "ec5992d4-fea7-4a62-aadf-00de5c6411b8"
      },
      "source": [
        "validation_loss_epoch = res_df.iloc[res_df['valid_loss'].idxmin()][0]\n",
        "validation_f1_epoch = res_df.iloc[res_df['valid_f1'].idxmax()][0]\n",
        "validation_precision_epoch = res_df.iloc[res_df['valid_precision'].idxmax()][0]\n",
        "validation_recall_epoch = res_df.iloc[res_df['valid_recall'].idxmax()][0]\n",
        "\n",
        "f\"Lowest Validation Loss: Epoch {validation_loss_epoch} || \\\n",
        "Highest Validation F1: Epoch {validation_f1_epoch} || \\\n",
        "Highest Validation Precicision: Epoch {validation_precision_epoch} || \\\n",
        "Highest Validation Recall: Epoch {validation_recall_epoch}\""
      ],
      "execution_count": null,
      "outputs": [
        {
          "output_type": "execute_result",
          "data": {
            "application/vnd.google.colaboratory.intrinsic+json": {
              "type": "string"
            },
            "text/plain": [
              "'Lowest Validation Loss: Epoch 4 || Highest Validation F1: Epoch 1 || Highest Validation Precicision: Epoch 1 || Highest Validation Recall: Epoch 1'"
            ]
          },
          "metadata": {
            "tags": []
          },
          "execution_count": 33
        }
      ]
    },
    {
      "cell_type": "code",
      "metadata": {
        "id": "c3KQLHYAWg3X",
        "colab_type": "code",
        "colab": {
          "base_uri": "https://localhost:8080/",
          "height": 970
        },
        "outputId": "997fa8bf-fc46-4f24-c178-402a22a0dd65"
      },
      "source": [
        "# Use plot styling from seaborn.\n",
        "sns.set(style='darkgrid')\n",
        "\n",
        "# Increase the plot size and font size.\n",
        "sns.set(font_scale=1.5)\n",
        "  \n",
        "fig, (ax1, ax2) = plt.subplots(nrows=2, sharey=True, figsize=(12, 16))\n",
        "\n",
        "# Plot the learning curve.\n",
        "ax1.plot(res_df['train_loss'], 'b-o', label=\"Train Loss\")\n",
        "ax1.plot(res_df['valid_loss'], 'g--o', label=\"Validation Loss\")\n",
        "\n",
        "ax1.plot(res_df['train_f1'], 'b->', label=\"Training F1\")\n",
        "ax1.plot(res_df['valid_f1'], 'g-->', label=\"Validation F1\")\n",
        "\n",
        "ax2.plot(res_df['train_precision'], 'b-o', label=\"Train Precision\")\n",
        "ax2.plot(res_df['valid_precision'], 'g--o', label=\"Validation Precision\")\n",
        "\n",
        "ax2.plot(res_df['train_recall'], 'b->', label=\"Training Recall\")\n",
        "ax2.plot(res_df['valid_recall'], 'g-->', label=\"Validation Recall\")\n",
        "\n",
        "# Label the plot.\n",
        "ax1.title.set_text(\"Training & Validation Loss & F1\")\n",
        "ax1.set_xlabel(\"Epoch\")\n",
        "ax1.set_ylabel(\"Loss-F1\")\n",
        "ax1.legend()\n",
        "ax1.set_xticks(res_df['Epoch']-1)\n",
        "\n",
        "ax2.title.set_text(\"Training & Validation Precision & Recall\")\n",
        "ax2.set_xlabel(\"Epoch\")\n",
        "ax2.set_ylabel(\"Precision-Recall\")\n",
        "ax2.legend()\n",
        "ax2.set_xticks(res_df['Epoch']-1)\n",
        "\n",
        "plt.show()"
      ],
      "execution_count": null,
      "outputs": [
        {
          "output_type": "display_data",
          "data": {
            "image/png": "[encoded data removed]",
            "text/plain": [
              "<Figure size 864x1152 with 2 Axes>"
            ]
          },
          "metadata": {
            "tags": []
          }
        }
      ]
    },
    {
      "cell_type": "markdown",
      "metadata": {
        "id": "PlW4F5of15zD",
        "colab_type": "text"
      },
      "source": [
        "## Evaluation on Test Set\n"
      ]
    },
    {
      "cell_type": "code",
      "metadata": {
        "id": "ndFUFg5agZlV",
        "colab_type": "code",
        "colab": {}
      },
      "source": [
        "def plot_confusion_matrix(cm, classes,\n",
        "                          normalize=False,\n",
        "                          path=None,\n",
        "                          title='Confusion matrix',\n",
        "                          cmap=plt.cm.Blues):\n",
        "    \"\"\"\n",
        "    This function prints and plots the confusion matrix.\n",
        "    Normalization can be applied by setting `normalize=True`.\n",
        "    Parameters\n",
        "    ----------\n",
        "    cm: Confusion matrix provided by sklearn\n",
        "\n",
        "    classes: list of class labels\n",
        "\n",
        "    normalize: 'True' to normalize confusion matrix. \"False\" by default.\n",
        "\n",
        "    path: String that contains the path to save the confusion matrix image\n",
        "\n",
        "    title: title of the plot\n",
        "\n",
        "    cmap: A matplotlib color map for the confusion matrix\n",
        "    \"\"\"\n",
        "    if normalize:\n",
        "        cm = cm.astype('float') / cm.sum(axis=1)[:, np.newaxis]\n",
        "        print(\"Normalized confusion matrix\")\n",
        "    else:\n",
        "        print('Confusion matrix, without normalization')\n",
        "    \n",
        "    plt.figure(figsize=(9,7))\n",
        "    plt.imshow(cm, interpolation='nearest', cmap=cmap)\n",
        "    plt.title(title)\n",
        "    plt.colorbar()\n",
        "    tick_marks = np.arange(len(classes))\n",
        "    plt.xticks(tick_marks, classes, fontsize=14)\n",
        "    plt.yticks(tick_marks, classes, fontsize=14)\n",
        "\n",
        "    fmt = '.2f' if normalize else 'd'\n",
        "    thresh = cm.max() / 2.\n",
        "    for i, j in itertools.product(range(cm.shape[0]), range(cm.shape[1])):\n",
        "        plt.text(j, i, format(cm[i, j], fmt),\n",
        "                 horizontalalignment=\"center\",\n",
        "                 color=\"white\" if cm[i, j] > thresh else \"black\", fontsize=14)\n",
        "\n",
        "    plt.ylabel('True label', fontsize=14)\n",
        "    plt.xlabel('Predicted label', fontsize=14)\n",
        "\n",
        "    print(\"Saving image..\")\n",
        "    plt.savefig(path)\n",
        "    print(\"Image saved at:\", path)\n",
        "\n",
        "    plt.show()\n",
        "\n",
        "def xlnet_predict(model, test_df, path):\n",
        "    \"\"\"Perform a forward pass on the trained XLNet model to predict probabilities\n",
        "    on the test set.\n",
        "\n",
        "    Parameters\n",
        "    ----------\n",
        "    model: best model from training/validation step\n",
        "\n",
        "    test_df: Dataframe for the test set being used\n",
        "\n",
        "    path: Path for the confusion to be saved used by `plot_confusion_matrix()`\n",
        "\n",
        "    \"\"\"\n",
        "    DEVICE = \"cuda\" if torch.cuda.is_available() else \"cpu\"\n",
        "    all_labels = []\n",
        "    all_predictions = []\n",
        "\n",
        "    # Put the model into the evaluation mode. The dropout layers are disabled during the test time.\n",
        "    model.eval()\n",
        "\n",
        "    test_loader = DataLoader(test_df, batch_size = 8)\n",
        "\n",
        "    for iter, (inputs, attns, labels) in enumerate(notebook.tqdm(test_loader, desc=\"Testing\")):\n",
        "        # putting inputs to device\n",
        "        inputs = inputs.to(DEVICE)\n",
        "        attns = attns.to(DEVICE)\n",
        "        labels = labels.to(DEVICE)\n",
        "\n",
        "        # feed to model\n",
        "        with torch.no_grad():\n",
        "            outputs = model(inputs,\n",
        "                          token_type_ids=None, \n",
        "                          attention_mask=attns)\n",
        "            logits = outputs[0]\n",
        "\n",
        "            predictions = torch.argmax(logits, dim=-1)\n",
        "            all_predictions += predictions.cpu().flatten().tolist()\n",
        "            all_labels += labels.cpu().flatten().tolist()\n",
        "            \n",
        "\n",
        "    precision, recall, f1, _ = precision_recall_fscore_support(all_labels, all_predictions, average='macro')\n",
        "    conf_mat = confusion_matrix(all_labels, all_predictions)\n",
        "    print(\"F1-score:\", \"%.2f%%\" % (f1*100), \"\\n\",\n",
        "          \"\\nPrecision:\", \"%.2f%%\" % (precision*100),\n",
        "          \"\\nPrecision (CSAT=1): \", \"%.2f%%\" % (conf_mat[1][1] / (conf_mat[1][1] + conf_mat[0][1]) * 100),\n",
        "          \"\\nPrecision (CSAT=0): \", \"%.2f%%\" % (conf_mat[0][0] / (conf_mat[0][0] + conf_mat[1][0]) * 100), \"\\n\", \n",
        "          \"\\nRecall:\", \"%.2f%%\" % (recall*100),\n",
        "          \"\\nRecall (CSAT=1): \", \"%.2f%%\" % (conf_mat[1][1] / (conf_mat[1][1] + conf_mat[1][0]) * 100),\n",
        "          \"\\nRecall (CSAT=0): \", \"%.2f%%\" % (conf_mat[0][0] / (conf_mat[0][0] + conf_mat[0][1]) * 100), \"\\n\"\n",
        "    )\n",
        "    plot_confusion_matrix(conf_mat, [\"0\",\"1\"],path=path)"
      ],
      "execution_count": 19,
      "outputs": []
    },
    {
      "cell_type": "code",
      "metadata": {
        "id": "KzFaEPPpjLWe",
        "colab_type": "code",
        "colab": {}
      },
      "source": [
        "torch.cuda.empty_cache()"
      ],
      "execution_count": null,
      "outputs": []
    },
    {
      "cell_type": "code",
      "metadata": {
        "id": "wAwSykvv1s70",
        "colab_type": "code",
        "colab": {
          "base_uri": "https://localhost:8080/",
          "height": 736,
          "referenced_widgets": [
            "a05f9dce63d14ffe8546c952c6e406e2",
            "7666b67837714adba20813a9dc5ece31",
            "a6cc7ea59d62497490d05bf6b32ddf41",
            "2d75fefec48c44fd99486a0fe271710d",
            "a6afa81f4b8e46db84c6efe463760c66",
            "e5d577f768f24d09b657131e64c15457",
            "45621043438c4c598316c4cfc439759a",
            "89f1a9a0a7d9410887e7b385e4c6ebcb"
          ]
        },
        "outputId": "7c943c55-893a-48c8-8ab1-6432a5854822"
      },
      "source": [
        "saved_conf_mat_path = \"/content/gdrive/My Drive/csatBERT/Experiment3/XLNet_768_v1/\"\n",
        "saved_model_path= \"/content/gdrive/My Drive/csatBERT/Experiment3/XLNet_768_v1/saved_model_epoch_3\"\n",
        "test_model = XLNetForSequenceClassification.from_pretrained(saved_model_path).to('cuda')\n",
        "xlnet_predict(test_model, test_df, saved_conf_mat_path)"
      ],
      "execution_count": 20,
      "outputs": [
        {
          "output_type": "display_data",
          "data": {
            "application/vnd.jupyter.widget-view+json": {
              "model_id": "a05f9dce63d14ffe8546c952c6e406e2",
              "version_minor": 0,
              "version_major": 2
            },
            "text/plain": [
              "HBox(children=(FloatProgress(value=0.0, description='Testing', max=256.0, style=ProgressStyle(description_widt…"
            ]
          },
          "metadata": {
            "tags": []
          }
        },
        {
          "output_type": "stream",
          "text": [
            "\n",
            "F1-score: 69.14% \n",
            " \n",
            "Precision: 66.65% \n",
            "Precision (CSAT=1):  94.67% \n",
            "Precision (CSAT=0):  38.63% \n",
            " \n",
            "Recall: 76.05% \n",
            "Recall (CSAT=1):  83.91% \n",
            "Recall (CSAT=0):  68.18% \n",
            "\n",
            "Confusion matrix, without normalization\n",
            "Saving image..\n",
            "Image saved at: /content/gdrive/My Drive/csatBERT/Experiment3/XLNet_768_v1/\n"
          ],
          "name": "stdout"
        },
        {
          "output_type": "display_data",
          "data": {
            "image/png": "[encoded data removed]",
            "text/plain": [
              "<Figure size 648x504 with 2 Axes>"
            ]
          },
          "metadata": {
            "tags": [],
            "needs_background": "light"
          }
        }
      ]
    },
    {
      "cell_type": "code",
      "metadata": {
        "id": "yywLfzpEmVM7",
        "colab_type": "code",
        "colab": {
          "base_uri": "https://localhost:8080/",
          "height": 736,
          "referenced_widgets": [
            "d4b30dc9f02a40949f72b34684e70cca",
            "00f48abff03c435cb6da501d4efba1c5",
            "d133cbd0439f4bfcb20c7f43fd0217c3",
            "294e6952636f459db5da6bb369f42c6a",
            "39e4dde2c543481b90b4f75c4a79eb27",
            "8331aabf27044cbda6535acc2d7f28f2",
            "26ea53d04f6b4db08f57ef9455143948",
            "ed98e5cae58349c485eeb2167d0d4004"
          ]
        },
        "outputId": "c3510ddd-7128-4bd8-ef38-7ee78c4a113d"
      },
      "source": [
        "saved_conf_mat_path = \"/content/gdrive/My Drive/csatBERT/Experiment3/XLNet_768_v1/\"\n",
        "saved_model_path= \"/content/gdrive/My Drive/csatBERT/Experiment3/XLNet_768_v1/saved_model_epoch_6\"\n",
        "test_model = XLNetForSequenceClassification.from_pretrained(saved_model_path).to('cuda')\n",
        "xlnet_predict(test_model, test_df, saved_conf_mat_path)"
      ],
      "execution_count": 22,
      "outputs": [
        {
          "output_type": "display_data",
          "data": {
            "application/vnd.jupyter.widget-view+json": {
              "model_id": "d4b30dc9f02a40949f72b34684e70cca",
              "version_minor": 0,
              "version_major": 2
            },
            "text/plain": [
              "HBox(children=(FloatProgress(value=0.0, description='Testing', max=256.0, style=ProgressStyle(description_widt…"
            ]
          },
          "metadata": {
            "tags": []
          }
        },
        {
          "output_type": "stream",
          "text": [
            "\n",
            "F1-score: 68.46% \n",
            " \n",
            "Precision: 66.08% \n",
            "Precision (CSAT=1):  94.68% \n",
            "Precision (CSAT=0):  37.47% \n",
            " \n",
            "Recall: 75.79% \n",
            "Recall (CSAT=1):  83.01% \n",
            "Recall (CSAT=0):  68.56% \n",
            "\n",
            "Confusion matrix, without normalization\n",
            "Saving image..\n",
            "Image saved at: /content/gdrive/My Drive/csatBERT/Experiment3/XLNet_768_v1/\n"
          ],
          "name": "stdout"
        },
        {
          "output_type": "display_data",
          "data": {
            "image/png": "[encoded data removed]",
            "text/plain": [
              "<Figure size 648x504 with 2 Axes>"
            ]
          },
          "metadata": {
            "tags": [],
            "needs_background": "light"
          }
        }
      ]
    },
    {
      "cell_type": "code",
      "metadata": {
        "id": "syUokNUVartZ",
        "colab_type": "code",
        "colab": {}
      },
      "source": [
        "def get_csat_ci(model, \n",
        "                test_df, \n",
        "                experiment_path = '/content/gdrive/My Drive/csatBERT/Experiment3/XLNet_768_v1/',\n",
        "                file_name = 'pred_lab.csv'):\n",
        "  \n",
        "    \"\"\"Similar to xlnet_predict(). This function calculates evaluates the model on a given test set and saves the predictions and labels into a csv .\n",
        "\n",
        "    Parameters\n",
        "    ----------\n",
        "    model: best model from training/validation step\n",
        "\n",
        "    test_df: Dataframe for the test set being used\n",
        "\n",
        "    experiment_path: Path where the desired model is stored\n",
        "\n",
        "    file_name: Name of the csv file being saved.\n",
        "\n",
        "    \"\"\"\n",
        "    DEVICE = \"cuda\" if torch.cuda.is_available() else \"cpu\"\n",
        "    all_labels = []\n",
        "    all_predictions = []\n",
        "\n",
        "    # Put the model into the evaluation mode. The dropout layers are disabled during the test time.\n",
        "    model.eval()\n",
        "\n",
        "    test_loader = DataLoader(test_df, batch_size = 50)\n",
        "\n",
        "    with open(experiment_path + file_name, 'w') as csvfile:\n",
        "      fieldnames = ['predictions', 'labels']\n",
        "      writer = csv.DictWriter(csvfile, fieldnames=fieldnames, delimiter=',')\n",
        "      writer.writeheader()\n",
        "\n",
        "      for iter, (inputs, attns, labels) in enumerate(notebook.tqdm(test_loader, desc=\"Testing\")):\n",
        "          # putting inputs to device\n",
        "          inputs = inputs.to(DEVICE)\n",
        "          attns = attns.to(DEVICE)\n",
        "          labels = labels.to(DEVICE)\n",
        "\n",
        "          # feed to model\n",
        "          with torch.no_grad():\n",
        "              outputs = model(inputs,\n",
        "                            token_type_ids=None, \n",
        "                            attention_mask=attns)\n",
        "              logits = outputs[0]\n",
        "\n",
        "              predictions = torch.argmax(logits, dim=-1)\n",
        "              all_predictions += predictions.cpu().flatten().tolist()\n",
        "              all_labels += labels.cpu().flatten().tolist()\n",
        "\n",
        "              for i in range(len(predictions.cpu().flatten().tolist())):\n",
        "                writer.writerow({'predictions': predictions.cpu().flatten().tolist()[i], 'labels': labels.cpu().flatten().tolist()[i]})\n",
        "\n",
        "      precision, recall, f1, _ = precision_recall_fscore_support(all_labels, all_predictions, average='macro')\n",
        "      conf_mat = confusion_matrix(all_labels, all_predictions)\n",
        "      print(\"F1-score:\", \"%.2f%%\" % (f1*100), \"\\n\",\n",
        "            \"\\nPrecision:\", \"%.2f%%\" % (precision*100),\n",
        "            \"\\nPrecision (CSAT=1): \", \"%.2f%%\" % (conf_mat[1][1] / (conf_mat[1][1] + conf_mat[0][1]) * 100),\n",
        "            \"\\nPrecision (CSAT=0): \", \"%.2f%%\" % (conf_mat[0][0] / (conf_mat[0][0] + conf_mat[1][0]) * 100), \"\\n\", \n",
        "            \"\\nRecall:\", \"%.2f%%\" % (recall*100),\n",
        "            \"\\nRecall (CSAT=1): \", \"%.2f%%\" % (conf_mat[1][1] / (conf_mat[1][1] + conf_mat[1][0]) * 100),\n",
        "            \"\\nRecall (CSAT=0): \", \"%.2f%%\" % (conf_mat[0][0] / (conf_mat[0][0] + conf_mat[0][1]) * 100), \"\\n\"\n",
        "      )"
      ],
      "execution_count": 23,
      "outputs": []
    },
    {
      "cell_type": "code",
      "metadata": {
        "id": "JkJUN__hPmUQ",
        "colab_type": "code",
        "colab": {}
      },
      "source": [
        "saved_model_path= \"/content/gdrive/My Drive/csatBERT/Experiment3/XLNet_768_v1/saved_model_epoch_3\"\n",
        "test_model = XLNetForSequenceClassification.from_pretrained(saved_model_path).to('cuda')"
      ],
      "execution_count": 24,
      "outputs": []
    },
    {
      "cell_type": "code",
      "metadata": {
        "id": "DdqwSYXiQAs_",
        "colab_type": "code",
        "colab": {
          "base_uri": "https://localhost:8080/",
          "height": 357
        },
        "outputId": "19647013-4f56-45d3-fdfb-27a44c9eee81"
      },
      "source": [
        "torch.cuda.empty_cache()\n",
        "!nvidia-smi"
      ],
      "execution_count": 25,
      "outputs": [
        {
          "output_type": "stream",
          "text": [
            "Fri Aug 14 16:00:34 2020       \n",
            "+-----------------------------------------------------------------------------+\n",
            "| NVIDIA-SMI 450.57       Driver Version: 418.67       CUDA Version: 10.1     |\n",
            "|-------------------------------+----------------------+----------------------+\n",
            "| GPU  Name        Persistence-M| Bus-Id        Disp.A | Volatile Uncorr. ECC |\n",
            "| Fan  Temp  Perf  Pwr:Usage/Cap|         Memory-Usage | GPU-Util  Compute M. |\n",
            "|                               |                      |               MIG M. |\n",
            "|===============================+======================+======================|\n",
            "|   0  Tesla P100-PCIE...  Off  | 00000000:00:04.0 Off |                    0 |\n",
            "| N/A   57C    P0    38W / 250W |   1381MiB / 16280MiB |      0%      Default |\n",
            "|                               |                      |                 ERR! |\n",
            "+-------------------------------+----------------------+----------------------+\n",
            "                                                                               \n",
            "+-----------------------------------------------------------------------------+\n",
            "| Processes:                                                                  |\n",
            "|  GPU   GI   CI        PID   Type   Process name                  GPU Memory |\n",
            "|        ID   ID                                                   Usage      |\n",
            "|=============================================================================|\n",
            "|  No running processes found                                                 |\n",
            "+-----------------------------------------------------------------------------+\n"
          ],
          "name": "stdout"
        }
      ]
    },
    {
      "cell_type": "code",
      "metadata": {
        "id": "ovTLDcJQP3AQ",
        "colab_type": "code",
        "colab": {
          "base_uri": "https://localhost:8080/",
          "height": 236,
          "referenced_widgets": [
            "2f5b03891fb3451686dce08dfd34c7cf",
            "1a3d0e726f3445d99134137fd163a030",
            "3a54671cff3f4789b07bd069c5edb849",
            "199673b986a74227a0758f948fa3f72b",
            "589a2364adef4be6a4ff0125b4c1ddc5",
            "370e9d5b03884ed8aaeba5078681cfa8",
            "dee105fb0ba446579101d451b5768eae",
            "670f913b0f8b4cee89c2dabd58dff74d"
          ]
        },
        "outputId": "112921ce-0093-40d9-bf4f-2841a97cd2f7"
      },
      "source": [
        "get_csat_ci(test_model, test_df)"
      ],
      "execution_count": 26,
      "outputs": [
        {
          "output_type": "display_data",
          "data": {
            "application/vnd.jupyter.widget-view+json": {
              "model_id": "2f5b03891fb3451686dce08dfd34c7cf",
              "version_minor": 0,
              "version_major": 2
            },
            "text/plain": [
              "HBox(children=(FloatProgress(value=0.0, description='Testing', max=41.0, style=ProgressStyle(description_width…"
            ]
          },
          "metadata": {
            "tags": []
          }
        },
        {
          "output_type": "stream",
          "text": [
            "\n",
            "F1-score: 69.14% \n",
            " \n",
            "Precision: 66.65% \n",
            "Precision (CSAT=1):  94.67% \n",
            "Precision (CSAT=0):  38.63% \n",
            " \n",
            "Recall: 76.05% \n",
            "Recall (CSAT=1):  83.91% \n",
            "Recall (CSAT=0):  68.18% \n",
            "\n"
          ],
          "name": "stdout"
        }
      ]
    },
    {
      "cell_type": "code",
      "metadata": {
        "id": "68-V6BElQEGG",
        "colab_type": "code",
        "colab": {
          "base_uri": "https://localhost:8080/",
          "height": 34
        },
        "outputId": "1c09434c-4cbb-47d9-b692-3072f0758c54"
      },
      "source": [
        "drive.mount('/content/gdrive')\n",
        "pred_lab_path = \"/content/gdrive/My Drive/csatBERT/Experiment3/XLNet_768_v1/pred_lab.csv\"\n",
        "ci_df= pd.read_csv(pred_lab_path)"
      ],
      "execution_count": 27,
      "outputs": [
        {
          "output_type": "stream",
          "text": [
            "Drive already mounted at /content/gdrive; to attempt to forcibly remount, call drive.mount(\"/content/gdrive\", force_remount=True).\n"
          ],
          "name": "stdout"
        }
      ]
    },
    {
      "cell_type": "code",
      "metadata": {
        "id": "a6oXrVw-RDWn",
        "colab_type": "code",
        "colab": {}
      },
      "source": [
        "iterations = 100000\n",
        "lowerbounds_95 = []\n",
        "upperbounds_95 = []\n",
        "mean_pred = []\n",
        "mean_lab = []\n",
        "\n",
        "for itn in range(iterations):\n",
        "  #get 100 random indices\n",
        "  idx = np.random.choice(len(ci_df), size=100, replace=True)\n",
        "  resampled_df = ci_df.iloc[idx]\n",
        "  mean_pred.append(np.mean(resampled_df.predictions))\n",
        "\n",
        "  mean_label = np.mean(resampled_df.labels)\n",
        "  mean_lab.append(mean_label)\n",
        "  std_error = np.std(resampled_df.labels) / np.sqrt(len(resampled_df))\n",
        "  lower_bound_95 = mean_label - 1.96*std_error\n",
        "  upper_bound_95 = mean_label + 1.96*std_error\n",
        "  lowerbounds_95.append(lower_bound_95)\n",
        "  upperbounds_95.append(upper_bound_95)\n",
        "\n",
        "d = {'mean_predictions': mean_pred, 'mean_labels':mean_lab, 'lower_bound':lowerbounds_95, 'upper_bound':upperbounds_95}\n",
        "df1 = pd.DataFrame(d, columns = [\"mean_predictions\", \"mean_labels\", \"lower_bound\", \"upper_bound\"])\n",
        "df1[\"within_range\"] = df1.mean_predictions.between(df1.lower_bound, df1.upper_bound)\n",
        "df1[\"above\"] = df1.mean_predictions.gt(df1.mean_labels)\n",
        "df1[\"equal\"] = df1.mean_predictions.eq(df1.mean_labels)\n",
        "df1[\"lower\"] = df1.mean_predictions.lt(df1.mean_labels)"
      ],
      "execution_count": 28,
      "outputs": []
    },
    {
      "cell_type": "code",
      "metadata": {
        "id": "0CyMcMPqWFyC",
        "colab_type": "code",
        "colab": {
          "base_uri": "https://localhost:8080/",
          "height": 204
        },
        "outputId": "3c2457ab-9b90-4c2f-9354-702351385062"
      },
      "source": [
        "df1.head()"
      ],
      "execution_count": 29,
      "outputs": [
        {
          "output_type": "execute_result",
          "data": {
            "text/html": [
              "<div>\n",
              "<style scoped>\n",
              "    .dataframe tbody tr th:only-of-type {\n",
              "        vertical-align: middle;\n",
              "    }\n",
              "\n",
              "    .dataframe tbody tr th {\n",
              "        vertical-align: top;\n",
              "    }\n",
              "\n",
              "    .dataframe thead th {\n",
              "        text-align: right;\n",
              "    }\n",
              "</style>\n",
              "<table border=\"1\" class=\"dataframe\">\n",
              "  <thead>\n",
              "    <tr style=\"text-align: right;\">\n",
              "      <th></th>\n",
              "      <th>mean_predictions</th>\n",
              "      <th>mean_labels</th>\n",
              "      <th>lower_bound</th>\n",
              "      <th>upper_bound</th>\n",
              "      <th>within_range</th>\n",
              "      <th>above</th>\n",
              "      <th>equal</th>\n",
              "      <th>lower</th>\n",
              "    </tr>\n",
              "  </thead>\n",
              "  <tbody>\n",
              "    <tr>\n",
              "      <th>0</th>\n",
              "      <td>0.77</td>\n",
              "      <td>0.82</td>\n",
              "      <td>0.744699</td>\n",
              "      <td>0.895301</td>\n",
              "      <td>True</td>\n",
              "      <td>False</td>\n",
              "      <td>False</td>\n",
              "      <td>True</td>\n",
              "    </tr>\n",
              "    <tr>\n",
              "      <th>1</th>\n",
              "      <td>0.83</td>\n",
              "      <td>0.91</td>\n",
              "      <td>0.853908</td>\n",
              "      <td>0.966092</td>\n",
              "      <td>False</td>\n",
              "      <td>False</td>\n",
              "      <td>False</td>\n",
              "      <td>True</td>\n",
              "    </tr>\n",
              "    <tr>\n",
              "      <th>2</th>\n",
              "      <td>0.69</td>\n",
              "      <td>0.82</td>\n",
              "      <td>0.744699</td>\n",
              "      <td>0.895301</td>\n",
              "      <td>False</td>\n",
              "      <td>False</td>\n",
              "      <td>False</td>\n",
              "      <td>True</td>\n",
              "    </tr>\n",
              "    <tr>\n",
              "      <th>3</th>\n",
              "      <td>0.76</td>\n",
              "      <td>0.91</td>\n",
              "      <td>0.853908</td>\n",
              "      <td>0.966092</td>\n",
              "      <td>False</td>\n",
              "      <td>False</td>\n",
              "      <td>False</td>\n",
              "      <td>True</td>\n",
              "    </tr>\n",
              "    <tr>\n",
              "      <th>4</th>\n",
              "      <td>0.84</td>\n",
              "      <td>0.92</td>\n",
              "      <td>0.866827</td>\n",
              "      <td>0.973173</td>\n",
              "      <td>False</td>\n",
              "      <td>False</td>\n",
              "      <td>False</td>\n",
              "      <td>True</td>\n",
              "    </tr>\n",
              "  </tbody>\n",
              "</table>\n",
              "</div>"
            ],
            "text/plain": [
              "   mean_predictions  mean_labels  lower_bound  ...  above  equal  lower\n",
              "0              0.77         0.82     0.744699  ...  False  False   True\n",
              "1              0.83         0.91     0.853908  ...  False  False   True\n",
              "2              0.69         0.82     0.744699  ...  False  False   True\n",
              "3              0.76         0.91     0.853908  ...  False  False   True\n",
              "4              0.84         0.92     0.866827  ...  False  False   True\n",
              "\n",
              "[5 rows x 8 columns]"
            ]
          },
          "metadata": {
            "tags": []
          },
          "execution_count": 29
        }
      ]
    },
    {
      "cell_type": "code",
      "metadata": {
        "id": "IIy4fgQkW5Q0",
        "colab_type": "code",
        "colab": {
          "base_uri": "https://localhost:8080/",
          "height": 102
        },
        "outputId": "9372a22d-d1bd-4da0-d6e9-905cc992eb68"
      },
      "source": [
        "print(\"Equal:\",df1.equal.value_counts()[1])\n",
        "print(\"Higher:\",df1.above.value_counts()[1])\n",
        "print(\"Lower:\",df1.lower.value_counts()[1])\n",
        "print(\"% of predictions that are HIGHER than true mean:\",  \"%.2f%%\" %(df1.above.value_counts()[1] / (df1.above.value_counts()[1] + df1.lower.value_counts()[1] + df1.equal.value_counts()[1])*100))\n",
        "print(\"% of predictions that are LOWER than true mean:\",  \"%.2f%%\" %(df1.lower.value_counts()[1] / (df1.above.value_counts()[1] + df1.lower.value_counts()[1] + df1.equal.value_counts()[1])*100))"
      ],
      "execution_count": 30,
      "outputs": [
        {
          "output_type": "stream",
          "text": [
            "Equal: 542\n",
            "Higher: 520\n",
            "Lower: 98938\n",
            "% of predictions that are HIGHER than true mean: 0.52%\n",
            "% of predictions that are LOWER than true mean: 98.94%\n"
          ],
          "name": "stdout"
        }
      ]
    },
    {
      "cell_type": "code",
      "metadata": {
        "id": "qUjYOLMTcQ8G",
        "colab_type": "code",
        "colab": {
          "base_uri": "https://localhost:8080/",
          "height": 34
        },
        "outputId": "6d2fb71a-0e7b-48c1-f717-b39719bf57a3"
      },
      "source": [
        "val = df1.within_range.value_counts()[1] / (df1.within_range.value_counts()[0] + df1.within_range.value_counts()[1])*100\n",
        "print(\"For {0:.2f}% of the 100-sample test set, the predicted mean is within the 95% confidence interval of the true CSAT mean \".format(val)) "
      ],
      "execution_count": 31,
      "outputs": [
        {
          "output_type": "stream",
          "text": [
            "For 22.21% of the 100-sample test set, the predicted mean is within the 95% confidence interval of the true CSAT mean \n"
          ],
          "name": "stdout"
        }
      ]
    },
    {
      "cell_type": "code",
      "metadata": {
        "id": "S0jRuwDwQX-m",
        "colab_type": "code",
        "colab": {}
      },
      "source": [
        "from sklearn.utils import resample"
      ],
      "execution_count": null,
      "outputs": []
    },
    {
      "cell_type": "code",
      "metadata": {
        "id": "IH1BY6vPQdeD",
        "colab_type": "code",
        "colab": {
          "base_uri": "https://localhost:8080/",
          "height": 68
        },
        "outputId": "b2519999-9a9d-4682-cd93-6fd02b1b8b60"
      },
      "source": [
        "iterations = 2000\n",
        "boot = []\n",
        "for itn in range(iterations):\n",
        "  #for each bootstrap iteration, get a bootstrap sample via resampling with replacements.\n",
        "  resampled_df = resample(ci_df.labels)\n",
        "  boot.append(np.mean(resampled_df))\n",
        "\n",
        "mean_std = np.std(boot)\n",
        "lower_bound_95 = np.mean(boot) - 1.96*(mean_std)\n",
        "upper_bound_95 = np.mean(boot) + 1.96*(mean_std)\n",
        "lower_bound_99 = np.mean(boot) - 2.576*(mean_std)\n",
        "upper_bound_99 = np.mean(boot) + 2.576*(mean_std)\n",
        "print(\"Mean of Predictons:\", np.mean(ci_df.predictions))\n",
        "print(\"95% Confidence Interval of True Labels:\", lower_bound_95, upper_bound_95)\n",
        "print(\"99% Confidence Interval of True Labels:\", lower_bound_99, upper_bound_99)"
      ],
      "execution_count": null,
      "outputs": [
        {
          "output_type": "stream",
          "text": [
            "Mean of Predictons: 0.8344612181155648\n",
            "95% Confidence Interval of True Labels: 0.8337203015697231 0.8660839670403754\n",
            "99% Confidence Interval of True Labels: 0.8286345827100492 0.8711696859000493\n"
          ],
          "name": "stdout"
        }
      ]
    }
  ]
}