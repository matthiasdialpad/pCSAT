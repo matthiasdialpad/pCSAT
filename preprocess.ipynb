{
  "nbformat": 4,
  "nbformat_minor": 0,
  "metadata": {
    "colab": {
      "name": "p_CSAT_preprocess",
      "provenance": [],
      "authorship_tag": "ABX9TyN2SDwl6f1urKcRKINapLa/",
      "include_colab_link": true
    },
    "kernelspec": {
      "name": "python3",
      "display_name": "Python 3"
    }
  },
  "cells": [
    {
      "cell_type": "markdown",
      "metadata": {
        "id": "view-in-github",
        "colab_type": "text"
      },
      "source": [
        "<a href=\"https://colab.research.google.com/github/matthiasdialpad/pCSAT/blob/master/preprocess.ipynb\" target=\"_parent\"><img src=\"https://colab.research.google.com/assets/colab-badge.svg\" alt=\"Open In Colab\"/></a>"
      ]
    },
    {
      "cell_type": "code",
      "metadata": {
        "id": "56QBejFPwxiE",
        "colab_type": "code",
        "colab": {
          "base_uri": "https://localhost:8080/",
          "height": 51
        },
        "outputId": "5107c301-f978-4194-f9d7-7368130cc3a5"
      },
      "source": [
        "import pandas as pd\n",
        "import numpy as np\n",
        "import string\n",
        "import torch\n",
        "import itertools\n",
        "import seaborn as sns\n",
        "from tqdm import tqdm\n",
        "from google.cloud import bigquery\n",
        "from google.cloud import storage\n",
        "from datetime import date\n",
        "from google.colab import files, auth\n",
        "import matplotlib.pyplot as plt\n",
        "auth.authenticate_user()"
      ],
      "execution_count": 1,
      "outputs": [
        {
          "output_type": "stream",
          "text": [
            "/usr/local/lib/python3.6/dist-packages/statsmodels/tools/_testing.py:19: FutureWarning: pandas.util.testing is deprecated. Use the functions in the public API at pandas.testing instead.\n",
            "  import pandas.util.testing as tm\n"
          ],
          "name": "stderr"
        }
      ]
    },
    {
      "cell_type": "code",
      "metadata": {
        "id": "7fzJC_pLAgdH",
        "colab_type": "code",
        "colab": {}
      },
      "source": [
        "#Annotating labels for plots\n",
        "def annotate_labels(ax, labels_list, **kwargs):\n",
        "    \"\"\"\n",
        "    Function to automatically add labels on bar charts.\n",
        "    It takes a plot axis, an ordered list of labels, and text kwargs.\n",
        "    \"\"\"\n",
        "    # Get y-axis height to calculate label position from.\n",
        "    (y_bottom, y_top) = ax.get_ylim()\n",
        "    y_height = y_top - y_bottom\n",
        "    \n",
        "    rects = ax.patches\n",
        "\n",
        "    for rect, label in zip(rects, labels_list):\n",
        "        height = rect.get_height()\n",
        "        p_height = (height / y_height) # Fraction of axis height taken up by this rectangle\n",
        "        label_position = height + (y_height * 0.01)\n",
        "        \n",
        "        # If we can fit the label above the column, do that;\n",
        "        # otherwise, put it inside the column (or else, change ylim)\n",
        "        #if p_height > 0.95:\n",
        "        #    label_position = height - (y_height * 0.05)\n",
        "        #else:\n",
        "        #    label_position = height + (y_height * 0.01)\n",
        "\n",
        "        ax.text(rect.get_x() + rect.get_width()/3, label_position, label, kwargs)\n",
        "    return None"
      ],
      "execution_count": 2,
      "outputs": []
    },
    {
      "cell_type": "code",
      "metadata": {
        "id": "TCAr81GcyXWK",
        "colab_type": "code",
        "colab": {}
      },
      "source": [
        "project_id = 'talkiq-data'\n",
        "metrics_dest_table = 'ai_research.csat_utterance'\n",
        "client = bigquery.Client(project=project_id)"
      ],
      "execution_count": 3,
      "outputs": []
    },
    {
      "cell_type": "code",
      "metadata": {
        "id": "qFhjlzPpyukx",
        "colab_type": "code",
        "colab": {}
      },
      "source": [
        "query = \"\"\"\n",
        "SELECT *\n",
        "FROM `talkiq-data.ai_research.csat_utterance`\n",
        "\"\"\""
      ],
      "execution_count": 4,
      "outputs": []
    },
    {
      "cell_type": "code",
      "metadata": {
        "id": "aEw5Q4MQy1GQ",
        "colab_type": "code",
        "colab": {}
      },
      "source": [
        "def read_from_database(query):\n",
        "    query_job = client.query(query)  \n",
        "    df = query_job.to_dataframe()\n",
        "    print('Done')\n",
        "    return df"
      ],
      "execution_count": 5,
      "outputs": []
    },
    {
      "cell_type": "code",
      "metadata": {
        "id": "mXl_H70Hzi6i",
        "colab_type": "code",
        "colab": {
          "base_uri": "https://localhost:8080/",
          "height": 34
        },
        "outputId": "96143bf1-7325-4de0-d878-49b879177df6"
      },
      "source": [
        "df = read_from_database(query)"
      ],
      "execution_count": 6,
      "outputs": [
        {
          "output_type": "stream",
          "text": [
            "Done\n"
          ],
          "name": "stdout"
        }
      ]
    },
    {
      "cell_type": "code",
      "metadata": {
        "id": "BoaH8ciLznip",
        "colab_type": "code",
        "colab": {
          "base_uri": "https://localhost:8080/",
          "height": 289
        },
        "outputId": "aa97e8c0-8df6-4f3f-aa56-1995046d0a3a"
      },
      "source": [
        "df.info()"
      ],
      "execution_count": 7,
      "outputs": [
        {
          "output_type": "stream",
          "text": [
            "<class 'pandas.core.frame.DataFrame'>\n",
            "RangeIndex: 1184993 entries, 0 to 1184992\n",
            "Data columns (total 9 columns):\n",
            " #   Column               Non-Null Count    Dtype              \n",
            "---  ------               --------------    -----              \n",
            " 0   call_id              1184993 non-null  object             \n",
            " 1   call_leg_id          1184993 non-null  object             \n",
            " 2   call_side            1184993 non-null  object             \n",
            " 3   response_value       1184993 non-null  object             \n",
            " 4   response_csat_value  23931 non-null    object             \n",
            " 5   final_utterance      1184993 non-null  object             \n",
            " 6   time_start           1184993 non-null  float64            \n",
            " 7   time_end             1184993 non-null  float64            \n",
            " 8   PARTITIONTIME        1184993 non-null  datetime64[ns, UTC]\n",
            "dtypes: datetime64[ns, UTC](1), float64(2), object(6)\n",
            "memory usage: 81.4+ MB\n"
          ],
          "name": "stdout"
        }
      ]
    },
    {
      "cell_type": "code",
      "metadata": {
        "id": "vXzNvG1N0bDZ",
        "colab_type": "code",
        "colab": {}
      },
      "source": [
        "df[['response_value']] = df[['response_value']].astype(str).astype(int)"
      ],
      "execution_count": null,
      "outputs": []
    },
    {
      "cell_type": "code",
      "metadata": {
        "id": "EpnS_oDR8LFz",
        "colab_type": "code",
        "colab": {
          "base_uri": "https://localhost:8080/",
          "height": 289
        },
        "outputId": "31fdb481-6bf9-4dcc-f0ab-52ee268edb85"
      },
      "source": [
        "df.info()"
      ],
      "execution_count": null,
      "outputs": [
        {
          "output_type": "stream",
          "text": [
            "<class 'pandas.core.frame.DataFrame'>\n",
            "RangeIndex: 1184993 entries, 0 to 1184992\n",
            "Data columns (total 9 columns):\n",
            " #   Column               Non-Null Count    Dtype              \n",
            "---  ------               --------------    -----              \n",
            " 0   call_id              1184993 non-null  object             \n",
            " 1   call_leg_id          1184993 non-null  object             \n",
            " 2   call_side            1184993 non-null  object             \n",
            " 3   response_value       1184993 non-null  int64              \n",
            " 4   response_csat_value  23931 non-null    object             \n",
            " 5   final_utterance      1184993 non-null  object             \n",
            " 6   time_start           1184993 non-null  float64            \n",
            " 7   time_end             1184993 non-null  float64            \n",
            " 8   PARTITIONTIME        1184993 non-null  datetime64[ns, UTC]\n",
            "dtypes: datetime64[ns, UTC](1), float64(2), int64(1), object(5)\n",
            "memory usage: 81.4+ MB\n"
          ],
          "name": "stdout"
        }
      ]
    },
    {
      "cell_type": "code",
      "metadata": {
        "id": "7Ylni7BA8OCm",
        "colab_type": "code",
        "colab": {
          "base_uri": "https://localhost:8080/",
          "height": 204
        },
        "outputId": "2898d348-f0c8-45ad-dce1-d865fc31f089"
      },
      "source": [
        "df.head()"
      ],
      "execution_count": null,
      "outputs": [
        {
          "output_type": "execute_result",
          "data": {
            "text/html": [
              "<div>\n",
              "<style scoped>\n",
              "    .dataframe tbody tr th:only-of-type {\n",
              "        vertical-align: middle;\n",
              "    }\n",
              "\n",
              "    .dataframe tbody tr th {\n",
              "        vertical-align: top;\n",
              "    }\n",
              "\n",
              "    .dataframe thead th {\n",
              "        text-align: right;\n",
              "    }\n",
              "</style>\n",
              "<table border=\"1\" class=\"dataframe\">\n",
              "  <thead>\n",
              "    <tr style=\"text-align: right;\">\n",
              "      <th></th>\n",
              "      <th>call_id</th>\n",
              "      <th>call_leg_id</th>\n",
              "      <th>call_side</th>\n",
              "      <th>response_value</th>\n",
              "      <th>response_csat_value</th>\n",
              "      <th>final_utterance</th>\n",
              "      <th>time_start</th>\n",
              "      <th>time_end</th>\n",
              "      <th>PARTITIONTIME</th>\n",
              "    </tr>\n",
              "  </thead>\n",
              "  <tbody>\n",
              "    <tr>\n",
              "      <th>0</th>\n",
              "      <td>4503600102440960</td>\n",
              "      <td>322a83c9-8a7d-4b4a-ba5b-3cb1528064bc</td>\n",
              "      <td>caller</td>\n",
              "      <td>5</td>\n",
              "      <td>None</td>\n",
              "      <td>This is Daniel. How can I help?</td>\n",
              "      <td>0.445</td>\n",
              "      <td>3.265</td>\n",
              "      <td>2019-12-26 00:00:00+00:00</td>\n",
              "    </tr>\n",
              "    <tr>\n",
              "      <th>1</th>\n",
              "      <td>4503600102440960</td>\n",
              "      <td>b19f3ce7-232b-45d6-94bd-0c1ae388b583</td>\n",
              "      <td>callee</td>\n",
              "      <td>5</td>\n",
              "      <td>None</td>\n",
              "      <td>Yes, no ma'am. Um, before the came to talk the...</td>\n",
              "      <td>4.335</td>\n",
              "      <td>16.725</td>\n",
              "      <td>2019-12-26 00:00:00+00:00</td>\n",
              "    </tr>\n",
              "    <tr>\n",
              "      <th>2</th>\n",
              "      <td>4503600102440960</td>\n",
              "      <td>322a83c9-8a7d-4b4a-ba5b-3cb1528064bc</td>\n",
              "      <td>caller</td>\n",
              "      <td>5</td>\n",
              "      <td>None</td>\n",
              "      <td>Okay, let me see here, let me pull up your ord...</td>\n",
              "      <td>17.845</td>\n",
              "      <td>21.955</td>\n",
              "      <td>2019-12-26 00:00:00+00:00</td>\n",
              "    </tr>\n",
              "    <tr>\n",
              "      <th>3</th>\n",
              "      <td>4503600102440960</td>\n",
              "      <td>322a83c9-8a7d-4b4a-ba5b-3cb1528064bc</td>\n",
              "      <td>caller</td>\n",
              "      <td>5</td>\n",
              "      <td>None</td>\n",
              "      <td>This is Graham.</td>\n",
              "      <td>26.245</td>\n",
              "      <td>28.045</td>\n",
              "      <td>2019-12-26 00:00:00+00:00</td>\n",
              "    </tr>\n",
              "    <tr>\n",
              "      <th>4</th>\n",
              "      <td>4503600102440960</td>\n",
              "      <td>b19f3ce7-232b-45d6-94bd-0c1ae388b583</td>\n",
              "      <td>callee</td>\n",
              "      <td>5</td>\n",
              "      <td>None</td>\n",
              "      <td>Yes.</td>\n",
              "      <td>28.935</td>\n",
              "      <td>29.475</td>\n",
              "      <td>2019-12-26 00:00:00+00:00</td>\n",
              "    </tr>\n",
              "  </tbody>\n",
              "</table>\n",
              "</div>"
            ],
            "text/plain": [
              "            call_id  ...             PARTITIONTIME\n",
              "0  4503600102440960  ... 2019-12-26 00:00:00+00:00\n",
              "1  4503600102440960  ... 2019-12-26 00:00:00+00:00\n",
              "2  4503600102440960  ... 2019-12-26 00:00:00+00:00\n",
              "3  4503600102440960  ... 2019-12-26 00:00:00+00:00\n",
              "4  4503600102440960  ... 2019-12-26 00:00:00+00:00\n",
              "\n",
              "[5 rows x 9 columns]"
            ]
          },
          "metadata": {
            "tags": []
          },
          "execution_count": 170
        }
      ]
    },
    {
      "cell_type": "code",
      "metadata": {
        "id": "2PH9bq3iEWmz",
        "colab_type": "code",
        "colab": {
          "base_uri": "https://localhost:8080/",
          "height": 136
        },
        "outputId": "96be4898-e919-450d-c9c4-f4f25dbb35ce"
      },
      "source": [
        "df.groupby(['response_value'])['call_id'].nunique()"
      ],
      "execution_count": null,
      "outputs": [
        {
          "output_type": "execute_result",
          "data": {
            "text/plain": [
              "response_value\n",
              "1     3217\n",
              "2      670\n",
              "3     1347\n",
              "4     2366\n",
              "5    21536\n",
              "Name: call_id, dtype: int64"
            ]
          },
          "metadata": {
            "tags": []
          },
          "execution_count": 171
        }
      ]
    },
    {
      "cell_type": "code",
      "metadata": {
        "id": "YyS87H37T1rx",
        "colab_type": "code",
        "colab": {
          "base_uri": "https://localhost:8080/",
          "height": 419
        },
        "outputId": "b85e851a-0dfb-4253-abbd-ffe97b8a9ba6"
      },
      "source": [
        "temp_df=df.groupby(['call_id','PARTITIONTIME']).response_value.nunique().reset_index()\n",
        "df2 = temp_df.groupby(['call_id'])['response_value'].count().sort_values(ascending=False).reset_index()\n",
        "df2[df2.response_value > 1]"
      ],
      "execution_count": null,
      "outputs": [
        {
          "output_type": "execute_result",
          "data": {
            "text/html": [
              "<div>\n",
              "<style scoped>\n",
              "    .dataframe tbody tr th:only-of-type {\n",
              "        vertical-align: middle;\n",
              "    }\n",
              "\n",
              "    .dataframe tbody tr th {\n",
              "        vertical-align: top;\n",
              "    }\n",
              "\n",
              "    .dataframe thead th {\n",
              "        text-align: right;\n",
              "    }\n",
              "</style>\n",
              "<table border=\"1\" class=\"dataframe\">\n",
              "  <thead>\n",
              "    <tr style=\"text-align: right;\">\n",
              "      <th></th>\n",
              "      <th>call_id</th>\n",
              "      <th>response_value</th>\n",
              "    </tr>\n",
              "  </thead>\n",
              "  <tbody>\n",
              "    <tr>\n",
              "      <th>0</th>\n",
              "      <td>6449392798007296</td>\n",
              "      <td>2</td>\n",
              "    </tr>\n",
              "    <tr>\n",
              "      <th>1</th>\n",
              "      <td>4644280161140736</td>\n",
              "      <td>2</td>\n",
              "    </tr>\n",
              "    <tr>\n",
              "      <th>2</th>\n",
              "      <td>5955473547067392</td>\n",
              "      <td>2</td>\n",
              "    </tr>\n",
              "    <tr>\n",
              "      <th>3</th>\n",
              "      <td>5090793660219392</td>\n",
              "      <td>2</td>\n",
              "    </tr>\n",
              "    <tr>\n",
              "      <th>4</th>\n",
              "      <td>6135111594409984</td>\n",
              "      <td>2</td>\n",
              "    </tr>\n",
              "    <tr>\n",
              "      <th>...</th>\n",
              "      <td>...</td>\n",
              "      <td>...</td>\n",
              "    </tr>\n",
              "    <tr>\n",
              "      <th>135</th>\n",
              "      <td>4830409573400576</td>\n",
              "      <td>2</td>\n",
              "    </tr>\n",
              "    <tr>\n",
              "      <th>136</th>\n",
              "      <td>5680734161207296</td>\n",
              "      <td>2</td>\n",
              "    </tr>\n",
              "    <tr>\n",
              "      <th>137</th>\n",
              "      <td>6504792381587456</td>\n",
              "      <td>2</td>\n",
              "    </tr>\n",
              "    <tr>\n",
              "      <th>138</th>\n",
              "      <td>4992292990550016</td>\n",
              "      <td>2</td>\n",
              "    </tr>\n",
              "    <tr>\n",
              "      <th>139</th>\n",
              "      <td>5763138893185024</td>\n",
              "      <td>2</td>\n",
              "    </tr>\n",
              "  </tbody>\n",
              "</table>\n",
              "<p>140 rows × 2 columns</p>\n",
              "</div>"
            ],
            "text/plain": [
              "              call_id  response_value\n",
              "0    6449392798007296               2\n",
              "1    4644280161140736               2\n",
              "2    5955473547067392               2\n",
              "3    5090793660219392               2\n",
              "4    6135111594409984               2\n",
              "..                ...             ...\n",
              "135  4830409573400576               2\n",
              "136  5680734161207296               2\n",
              "137  6504792381587456               2\n",
              "138  4992292990550016               2\n",
              "139  5763138893185024               2\n",
              "\n",
              "[140 rows x 2 columns]"
            ]
          },
          "metadata": {
            "tags": []
          },
          "execution_count": 172
        }
      ]
    },
    {
      "cell_type": "code",
      "metadata": {
        "id": "nsgc09hhYxmv",
        "colab_type": "code",
        "colab": {}
      },
      "source": [
        "temp_df = df.sort_values(by=['call_id','time_start','PARTITIONTIME'])\n",
        "df3 = temp_df.drop_duplicates(subset=['final_utterance','call_leg_id'], keep='last')"
      ],
      "execution_count": null,
      "outputs": []
    },
    {
      "cell_type": "code",
      "metadata": {
        "id": "kS7PYLm8sT_C",
        "colab_type": "code",
        "colab": {
          "base_uri": "https://localhost:8080/",
          "height": 419
        },
        "outputId": "144797f9-c26d-405b-e56a-0a43ceeea3fa"
      },
      "source": [
        "temp_df=df3.groupby(['call_id','PARTITIONTIME']).response_value.nunique().reset_index()\n",
        "df4 = temp_df.groupby('call_id')['response_value'].count().sort_values(ascending=False).reset_index()\n",
        "df4[df4.response_value > 1]"
      ],
      "execution_count": null,
      "outputs": [
        {
          "output_type": "execute_result",
          "data": {
            "text/html": [
              "<div>\n",
              "<style scoped>\n",
              "    .dataframe tbody tr th:only-of-type {\n",
              "        vertical-align: middle;\n",
              "    }\n",
              "\n",
              "    .dataframe tbody tr th {\n",
              "        vertical-align: top;\n",
              "    }\n",
              "\n",
              "    .dataframe thead th {\n",
              "        text-align: right;\n",
              "    }\n",
              "</style>\n",
              "<table border=\"1\" class=\"dataframe\">\n",
              "  <thead>\n",
              "    <tr style=\"text-align: right;\">\n",
              "      <th></th>\n",
              "      <th>call_id</th>\n",
              "      <th>response_value</th>\n",
              "    </tr>\n",
              "  </thead>\n",
              "  <tbody>\n",
              "    <tr>\n",
              "      <th>0</th>\n",
              "      <td>6699679976849408</td>\n",
              "      <td>2</td>\n",
              "    </tr>\n",
              "    <tr>\n",
              "      <th>1</th>\n",
              "      <td>5774478919204864</td>\n",
              "      <td>2</td>\n",
              "    </tr>\n",
              "    <tr>\n",
              "      <th>2</th>\n",
              "      <td>5955473547067392</td>\n",
              "      <td>2</td>\n",
              "    </tr>\n",
              "    <tr>\n",
              "      <th>3</th>\n",
              "      <td>4642921500246016</td>\n",
              "      <td>2</td>\n",
              "    </tr>\n",
              "    <tr>\n",
              "      <th>4</th>\n",
              "      <td>5198578406260736</td>\n",
              "      <td>2</td>\n",
              "    </tr>\n",
              "    <tr>\n",
              "      <th>...</th>\n",
              "      <td>...</td>\n",
              "      <td>...</td>\n",
              "    </tr>\n",
              "    <tr>\n",
              "      <th>70</th>\n",
              "      <td>5216491674664960</td>\n",
              "      <td>2</td>\n",
              "    </tr>\n",
              "    <tr>\n",
              "      <th>71</th>\n",
              "      <td>5378413982253056</td>\n",
              "      <td>2</td>\n",
              "    </tr>\n",
              "    <tr>\n",
              "      <th>72</th>\n",
              "      <td>4562408767029248</td>\n",
              "      <td>2</td>\n",
              "    </tr>\n",
              "    <tr>\n",
              "      <th>73</th>\n",
              "      <td>4674786265268224</td>\n",
              "      <td>2</td>\n",
              "    </tr>\n",
              "    <tr>\n",
              "      <th>74</th>\n",
              "      <td>5312920627838976</td>\n",
              "      <td>2</td>\n",
              "    </tr>\n",
              "  </tbody>\n",
              "</table>\n",
              "<p>75 rows × 2 columns</p>\n",
              "</div>"
            ],
            "text/plain": [
              "             call_id  response_value\n",
              "0   6699679976849408               2\n",
              "1   5774478919204864               2\n",
              "2   5955473547067392               2\n",
              "3   4642921500246016               2\n",
              "4   5198578406260736               2\n",
              "..               ...             ...\n",
              "70  5216491674664960               2\n",
              "71  5378413982253056               2\n",
              "72  4562408767029248               2\n",
              "73  4674786265268224               2\n",
              "74  5312920627838976               2\n",
              "\n",
              "[75 rows x 2 columns]"
            ]
          },
          "metadata": {
            "tags": []
          },
          "execution_count": 174
        }
      ]
    },
    {
      "cell_type": "code",
      "metadata": {
        "id": "bdZWZbHceQLL",
        "colab_type": "code",
        "colab": {
          "base_uri": "https://localhost:8080/",
          "height": 136
        },
        "outputId": "945e5cca-3934-4dbe-9348-c3c17ea222f9"
      },
      "source": [
        "df3.groupby(['response_value'])['call_id'].nunique()"
      ],
      "execution_count": null,
      "outputs": [
        {
          "output_type": "execute_result",
          "data": {
            "text/plain": [
              "response_value\n",
              "1     3217\n",
              "2      670\n",
              "3     1347\n",
              "4     2366\n",
              "5    21536\n",
              "Name: call_id, dtype: int64"
            ]
          },
          "metadata": {
            "tags": []
          },
          "execution_count": 175
        }
      ]
    },
    {
      "cell_type": "code",
      "metadata": {
        "id": "hICbpKKofinS",
        "colab_type": "code",
        "colab": {
          "base_uri": "https://localhost:8080/",
          "height": 483
        },
        "outputId": "f1fa133d-2d38-4c48-fb01-ac801648732d"
      },
      "source": [
        "df[df.call_id == '5774478919204864']"
      ],
      "execution_count": null,
      "outputs": [
        {
          "output_type": "execute_result",
          "data": {
            "text/html": [
              "<div>\n",
              "<style scoped>\n",
              "    .dataframe tbody tr th:only-of-type {\n",
              "        vertical-align: middle;\n",
              "    }\n",
              "\n",
              "    .dataframe tbody tr th {\n",
              "        vertical-align: top;\n",
              "    }\n",
              "\n",
              "    .dataframe thead th {\n",
              "        text-align: right;\n",
              "    }\n",
              "</style>\n",
              "<table border=\"1\" class=\"dataframe\">\n",
              "  <thead>\n",
              "    <tr style=\"text-align: right;\">\n",
              "      <th></th>\n",
              "      <th>call_id</th>\n",
              "      <th>call_leg_id</th>\n",
              "      <th>call_side</th>\n",
              "      <th>response_value</th>\n",
              "      <th>response_csat_value</th>\n",
              "      <th>final_utterance</th>\n",
              "      <th>time_start</th>\n",
              "      <th>time_end</th>\n",
              "      <th>PARTITIONTIME</th>\n",
              "    </tr>\n",
              "  </thead>\n",
              "  <tbody>\n",
              "    <tr>\n",
              "      <th>1046702</th>\n",
              "      <td>5774478919204864</td>\n",
              "      <td>bec52b6d-e9b2-4e6a-ab80-c7b58517278d</td>\n",
              "      <td>caller</td>\n",
              "      <td>4</td>\n",
              "      <td>None</td>\n",
              "      <td>Home Depot installations by Romanov. This is T...</td>\n",
              "      <td>0.16</td>\n",
              "      <td>3.94</td>\n",
              "      <td>2019-09-30 00:00:00+00:00</td>\n",
              "    </tr>\n",
              "    <tr>\n",
              "      <th>1046703</th>\n",
              "      <td>5774478919204864</td>\n",
              "      <td>514ed4ab-0bb0-483f-87c2-072d4910e61c</td>\n",
              "      <td>callee</td>\n",
              "      <td>4</td>\n",
              "      <td>None</td>\n",
              "      <td>Hi, yeah, um, my name is Yolanda and I have a,...</td>\n",
              "      <td>4.80</td>\n",
              "      <td>19.89</td>\n",
              "      <td>2019-10-01 00:00:00+00:00</td>\n",
              "    </tr>\n",
              "    <tr>\n",
              "      <th>1046704</th>\n",
              "      <td>5774478919204864</td>\n",
              "      <td>514ed4ab-0bb0-483f-87c2-072d4910e61c</td>\n",
              "      <td>callee</td>\n",
              "      <td>4</td>\n",
              "      <td>None</td>\n",
              "      <td>Hi, yeah, um, my name is Yolanda and I have a,...</td>\n",
              "      <td>4.80</td>\n",
              "      <td>19.89</td>\n",
              "      <td>2019-09-30 00:00:00+00:00</td>\n",
              "    </tr>\n",
              "    <tr>\n",
              "      <th>1046705</th>\n",
              "      <td>5774478919204864</td>\n",
              "      <td>bec52b6d-e9b2-4e6a-ab80-c7b58517278d</td>\n",
              "      <td>caller</td>\n",
              "      <td>4</td>\n",
              "      <td>None</td>\n",
              "      <td>Okay,</td>\n",
              "      <td>13.36</td>\n",
              "      <td>13.84</td>\n",
              "      <td>2019-09-30 00:00:00+00:00</td>\n",
              "    </tr>\n",
              "    <tr>\n",
              "      <th>1046706</th>\n",
              "      <td>5774478919204864</td>\n",
              "      <td>bec52b6d-e9b2-4e6a-ab80-c7b58517278d</td>\n",
              "      <td>caller</td>\n",
              "      <td>4</td>\n",
              "      <td>None</td>\n",
              "      <td>Alright, I'm sorry about that. Do you mind giv...</td>\n",
              "      <td>21.16</td>\n",
              "      <td>25.48</td>\n",
              "      <td>2019-09-30 00:00:00+00:00</td>\n",
              "    </tr>\n",
              "    <tr>\n",
              "      <th>1046707</th>\n",
              "      <td>5774478919204864</td>\n",
              "      <td>514ed4ab-0bb0-483f-87c2-072d4910e61c</td>\n",
              "      <td>callee</td>\n",
              "      <td>4</td>\n",
              "      <td>None</td>\n",
              "      <td>Yeah, just a second. I'll tell you one sec. I ...</td>\n",
              "      <td>25.80</td>\n",
              "      <td>30.63</td>\n",
              "      <td>2019-09-30 00:00:00+00:00</td>\n",
              "    </tr>\n",
              "    <tr>\n",
              "      <th>1046708</th>\n",
              "      <td>5774478919204864</td>\n",
              "      <td>514ed4ab-0bb0-483f-87c2-072d4910e61c</td>\n",
              "      <td>callee</td>\n",
              "      <td>4</td>\n",
              "      <td>None</td>\n",
              "      <td>Yeah, just a second. I'll tell you one sec. I ...</td>\n",
              "      <td>25.80</td>\n",
              "      <td>30.63</td>\n",
              "      <td>2019-10-01 00:00:00+00:00</td>\n",
              "    </tr>\n",
              "    <tr>\n",
              "      <th>1046709</th>\n",
              "      <td>5774478919204864</td>\n",
              "      <td>514ed4ab-0bb0-483f-87c2-072d4910e61c</td>\n",
              "      <td>callee</td>\n",
              "      <td>4</td>\n",
              "      <td>None</td>\n",
              "      <td>It's, uh, 815-997-7852.</td>\n",
              "      <td>34.20</td>\n",
              "      <td>41.28</td>\n",
              "      <td>2019-10-01 00:00:00+00:00</td>\n",
              "    </tr>\n",
              "    <tr>\n",
              "      <th>1046710</th>\n",
              "      <td>5774478919204864</td>\n",
              "      <td>514ed4ab-0bb0-483f-87c2-072d4910e61c</td>\n",
              "      <td>callee</td>\n",
              "      <td>4</td>\n",
              "      <td>None</td>\n",
              "      <td>It's, uh, 815-997-7852.</td>\n",
              "      <td>34.20</td>\n",
              "      <td>41.28</td>\n",
              "      <td>2019-09-30 00:00:00+00:00</td>\n",
              "    </tr>\n",
              "    <tr>\n",
              "      <th>1046711</th>\n",
              "      <td>5774478919204864</td>\n",
              "      <td>bec52b6d-e9b2-4e6a-ab80-c7b58517278d</td>\n",
              "      <td>caller</td>\n",
              "      <td>4</td>\n",
              "      <td>None</td>\n",
              "      <td>Okay,</td>\n",
              "      <td>42.76</td>\n",
              "      <td>43.39</td>\n",
              "      <td>2019-09-30 00:00:00+00:00</td>\n",
              "    </tr>\n",
              "    <tr>\n",
              "      <th>1046712</th>\n",
              "      <td>5774478919204864</td>\n",
              "      <td>bec52b6d-e9b2-4e6a-ab80-c7b58517278d</td>\n",
              "      <td>caller</td>\n",
              "      <td>4</td>\n",
              "      <td>None</td>\n",
              "      <td>Give me just a minute.</td>\n",
              "      <td>47.56</td>\n",
              "      <td>49.12</td>\n",
              "      <td>2019-09-30 00:00:00+00:00</td>\n",
              "    </tr>\n",
              "    <tr>\n",
              "      <th>1046713</th>\n",
              "      <td>5774478919204864</td>\n",
              "      <td>bec52b6d-e9b2-4e6a-ab80-c7b58517278d</td>\n",
              "      <td>caller</td>\n",
              "      <td>4</td>\n",
              "      <td>None</td>\n",
              "      <td>Alright, give me just a moment I'll reach out ...</td>\n",
              "      <td>70.96</td>\n",
              "      <td>73.69</td>\n",
              "      <td>2019-09-30 00:00:00+00:00</td>\n",
              "    </tr>\n",
              "    <tr>\n",
              "      <th>1046714</th>\n",
              "      <td>5774478919204864</td>\n",
              "      <td>514ed4ab-0bb0-483f-87c2-072d4910e61c</td>\n",
              "      <td>callee</td>\n",
              "      <td>4</td>\n",
              "      <td>None</td>\n",
              "      <td>To.</td>\n",
              "      <td>75.00</td>\n",
              "      <td>75.42</td>\n",
              "      <td>2019-09-30 00:00:00+00:00</td>\n",
              "    </tr>\n",
              "    <tr>\n",
              "      <th>1046715</th>\n",
              "      <td>5774478919204864</td>\n",
              "      <td>514ed4ab-0bb0-483f-87c2-072d4910e61c</td>\n",
              "      <td>callee</td>\n",
              "      <td>4</td>\n",
              "      <td>None</td>\n",
              "      <td>To.</td>\n",
              "      <td>75.00</td>\n",
              "      <td>75.42</td>\n",
              "      <td>2019-10-01 00:00:00+00:00</td>\n",
              "    </tr>\n",
              "  </tbody>\n",
              "</table>\n",
              "</div>"
            ],
            "text/plain": [
              "                  call_id  ...             PARTITIONTIME\n",
              "1046702  5774478919204864  ... 2019-09-30 00:00:00+00:00\n",
              "1046703  5774478919204864  ... 2019-10-01 00:00:00+00:00\n",
              "1046704  5774478919204864  ... 2019-09-30 00:00:00+00:00\n",
              "1046705  5774478919204864  ... 2019-09-30 00:00:00+00:00\n",
              "1046706  5774478919204864  ... 2019-09-30 00:00:00+00:00\n",
              "1046707  5774478919204864  ... 2019-09-30 00:00:00+00:00\n",
              "1046708  5774478919204864  ... 2019-10-01 00:00:00+00:00\n",
              "1046709  5774478919204864  ... 2019-10-01 00:00:00+00:00\n",
              "1046710  5774478919204864  ... 2019-09-30 00:00:00+00:00\n",
              "1046711  5774478919204864  ... 2019-09-30 00:00:00+00:00\n",
              "1046712  5774478919204864  ... 2019-09-30 00:00:00+00:00\n",
              "1046713  5774478919204864  ... 2019-09-30 00:00:00+00:00\n",
              "1046714  5774478919204864  ... 2019-09-30 00:00:00+00:00\n",
              "1046715  5774478919204864  ... 2019-10-01 00:00:00+00:00\n",
              "\n",
              "[14 rows x 9 columns]"
            ]
          },
          "metadata": {
            "tags": []
          },
          "execution_count": 176
        }
      ]
    },
    {
      "cell_type": "code",
      "metadata": {
        "id": "56twZSsHJaUU",
        "colab_type": "code",
        "colab": {
          "base_uri": "https://localhost:8080/",
          "height": 328
        },
        "outputId": "426b11c8-4a95-44a3-aba2-d24b4118d1ed"
      },
      "source": [
        "df3[df3.call_id == '5774478919204864']"
      ],
      "execution_count": null,
      "outputs": [
        {
          "output_type": "execute_result",
          "data": {
            "text/html": [
              "<div>\n",
              "<style scoped>\n",
              "    .dataframe tbody tr th:only-of-type {\n",
              "        vertical-align: middle;\n",
              "    }\n",
              "\n",
              "    .dataframe tbody tr th {\n",
              "        vertical-align: top;\n",
              "    }\n",
              "\n",
              "    .dataframe thead th {\n",
              "        text-align: right;\n",
              "    }\n",
              "</style>\n",
              "<table border=\"1\" class=\"dataframe\">\n",
              "  <thead>\n",
              "    <tr style=\"text-align: right;\">\n",
              "      <th></th>\n",
              "      <th>call_id</th>\n",
              "      <th>call_leg_id</th>\n",
              "      <th>call_side</th>\n",
              "      <th>response_value</th>\n",
              "      <th>response_csat_value</th>\n",
              "      <th>final_utterance</th>\n",
              "      <th>time_start</th>\n",
              "      <th>time_end</th>\n",
              "      <th>PARTITIONTIME</th>\n",
              "    </tr>\n",
              "  </thead>\n",
              "  <tbody>\n",
              "    <tr>\n",
              "      <th>1046702</th>\n",
              "      <td>5774478919204864</td>\n",
              "      <td>bec52b6d-e9b2-4e6a-ab80-c7b58517278d</td>\n",
              "      <td>caller</td>\n",
              "      <td>4</td>\n",
              "      <td>None</td>\n",
              "      <td>Home Depot installations by Romanov. This is T...</td>\n",
              "      <td>0.16</td>\n",
              "      <td>3.94</td>\n",
              "      <td>2019-09-30 00:00:00+00:00</td>\n",
              "    </tr>\n",
              "    <tr>\n",
              "      <th>1046703</th>\n",
              "      <td>5774478919204864</td>\n",
              "      <td>514ed4ab-0bb0-483f-87c2-072d4910e61c</td>\n",
              "      <td>callee</td>\n",
              "      <td>4</td>\n",
              "      <td>None</td>\n",
              "      <td>Hi, yeah, um, my name is Yolanda and I have a,...</td>\n",
              "      <td>4.80</td>\n",
              "      <td>19.89</td>\n",
              "      <td>2019-10-01 00:00:00+00:00</td>\n",
              "    </tr>\n",
              "    <tr>\n",
              "      <th>1046706</th>\n",
              "      <td>5774478919204864</td>\n",
              "      <td>bec52b6d-e9b2-4e6a-ab80-c7b58517278d</td>\n",
              "      <td>caller</td>\n",
              "      <td>4</td>\n",
              "      <td>None</td>\n",
              "      <td>Alright, I'm sorry about that. Do you mind giv...</td>\n",
              "      <td>21.16</td>\n",
              "      <td>25.48</td>\n",
              "      <td>2019-09-30 00:00:00+00:00</td>\n",
              "    </tr>\n",
              "    <tr>\n",
              "      <th>1046708</th>\n",
              "      <td>5774478919204864</td>\n",
              "      <td>514ed4ab-0bb0-483f-87c2-072d4910e61c</td>\n",
              "      <td>callee</td>\n",
              "      <td>4</td>\n",
              "      <td>None</td>\n",
              "      <td>Yeah, just a second. I'll tell you one sec. I ...</td>\n",
              "      <td>25.80</td>\n",
              "      <td>30.63</td>\n",
              "      <td>2019-10-01 00:00:00+00:00</td>\n",
              "    </tr>\n",
              "    <tr>\n",
              "      <th>1046709</th>\n",
              "      <td>5774478919204864</td>\n",
              "      <td>514ed4ab-0bb0-483f-87c2-072d4910e61c</td>\n",
              "      <td>callee</td>\n",
              "      <td>4</td>\n",
              "      <td>None</td>\n",
              "      <td>It's, uh, 815-997-7852.</td>\n",
              "      <td>34.20</td>\n",
              "      <td>41.28</td>\n",
              "      <td>2019-10-01 00:00:00+00:00</td>\n",
              "    </tr>\n",
              "    <tr>\n",
              "      <th>1046711</th>\n",
              "      <td>5774478919204864</td>\n",
              "      <td>bec52b6d-e9b2-4e6a-ab80-c7b58517278d</td>\n",
              "      <td>caller</td>\n",
              "      <td>4</td>\n",
              "      <td>None</td>\n",
              "      <td>Okay,</td>\n",
              "      <td>42.76</td>\n",
              "      <td>43.39</td>\n",
              "      <td>2019-09-30 00:00:00+00:00</td>\n",
              "    </tr>\n",
              "    <tr>\n",
              "      <th>1046712</th>\n",
              "      <td>5774478919204864</td>\n",
              "      <td>bec52b6d-e9b2-4e6a-ab80-c7b58517278d</td>\n",
              "      <td>caller</td>\n",
              "      <td>4</td>\n",
              "      <td>None</td>\n",
              "      <td>Give me just a minute.</td>\n",
              "      <td>47.56</td>\n",
              "      <td>49.12</td>\n",
              "      <td>2019-09-30 00:00:00+00:00</td>\n",
              "    </tr>\n",
              "    <tr>\n",
              "      <th>1046713</th>\n",
              "      <td>5774478919204864</td>\n",
              "      <td>bec52b6d-e9b2-4e6a-ab80-c7b58517278d</td>\n",
              "      <td>caller</td>\n",
              "      <td>4</td>\n",
              "      <td>None</td>\n",
              "      <td>Alright, give me just a moment I'll reach out ...</td>\n",
              "      <td>70.96</td>\n",
              "      <td>73.69</td>\n",
              "      <td>2019-09-30 00:00:00+00:00</td>\n",
              "    </tr>\n",
              "    <tr>\n",
              "      <th>1046715</th>\n",
              "      <td>5774478919204864</td>\n",
              "      <td>514ed4ab-0bb0-483f-87c2-072d4910e61c</td>\n",
              "      <td>callee</td>\n",
              "      <td>4</td>\n",
              "      <td>None</td>\n",
              "      <td>To.</td>\n",
              "      <td>75.00</td>\n",
              "      <td>75.42</td>\n",
              "      <td>2019-10-01 00:00:00+00:00</td>\n",
              "    </tr>\n",
              "  </tbody>\n",
              "</table>\n",
              "</div>"
            ],
            "text/plain": [
              "                  call_id  ...             PARTITIONTIME\n",
              "1046702  5774478919204864  ... 2019-09-30 00:00:00+00:00\n",
              "1046703  5774478919204864  ... 2019-10-01 00:00:00+00:00\n",
              "1046706  5774478919204864  ... 2019-09-30 00:00:00+00:00\n",
              "1046708  5774478919204864  ... 2019-10-01 00:00:00+00:00\n",
              "1046709  5774478919204864  ... 2019-10-01 00:00:00+00:00\n",
              "1046711  5774478919204864  ... 2019-09-30 00:00:00+00:00\n",
              "1046712  5774478919204864  ... 2019-09-30 00:00:00+00:00\n",
              "1046713  5774478919204864  ... 2019-09-30 00:00:00+00:00\n",
              "1046715  5774478919204864  ... 2019-10-01 00:00:00+00:00\n",
              "\n",
              "[9 rows x 9 columns]"
            ]
          },
          "metadata": {
            "tags": []
          },
          "execution_count": 177
        }
      ]
    },
    {
      "cell_type": "code",
      "metadata": {
        "id": "zjeZYNwBJVM0",
        "colab_type": "code",
        "colab": {}
      },
      "source": [
        "#df[df[\"final_utterance\"].str.lower().str.contains(r\"\\bum-hum\")].sort_values('PARTITIONTIME') #[6:11]"
      ],
      "execution_count": null,
      "outputs": []
    },
    {
      "cell_type": "code",
      "metadata": {
        "id": "m34-Iwt3y1gG",
        "colab_type": "code",
        "colab": {}
      },
      "source": [
        "# FILLER_WORDS: Set[str] = {\n",
        "#     'er', 'um', 'ah', 'uh', 'mm', 'hm', 'hmm'\n",
        "# }\n",
        "\n",
        "#turn strings into lower case\n",
        "df3[\"final_utterance\"] = df3[\"final_utterance\"].str.lower()\n",
        "\n",
        "regex_patterns={\n",
        "    r'(\\buh,)|(\\bum,)|(\\bah,)|(\\bmm,)|(\\boh,)': ' ', # replace \"uh,\" \"um,\" \"ah,\" \"mm\", \"oh\" with blank.\n",
        "    r'(\\s*(?:\\+?(\\d{1,3}))?[-. (]*(\\d{3})?[-. )]*(\\d{3})[-. ]*(\\d{4})(?: *x(\\d+))?\\s*)': ' ', # remove 10 digit and 7 digit numbers  e.g., 456-123-0000 and 123-0000\n",
        "    r'(\\d{3,})': '', # remove any numbers that has length 3 or more \n",
        "    #r'(\\[\\w+\\])':'' #remove anything with [] e.g., [number] > '' \n",
        "    r'\\b(\\w+)((?:\\W+?)(\\s+)?\\1\\b)+': r'\\1', # replaces duplicate words with a single instance of that word. \"yup, yup thank thank you. bye-bye\" -> \"yup thank you. bye\" \n",
        "    r'([a-zA-Z0-9._-]+(\\s+)?@[a-zA-Z0-9._-]+\\.[a-zA-Z0-9_-]+)': '[email]',\n",
        "    r'(\\bok\\b)': 'okay',  #replaces \"ok\" with \"okay\"\n",
        "    r'(ma\\'am)': 'madam', #replaces ma'am with madam \n",
        "    r'(\\s{2,})': ' '#replaces 2 or more whitespaces with a single one\n",
        "}\n",
        "    # #transform all negation into their full form\n",
        "    # r\"isn'\\t\":\"is not\", r\"aren\\'t\":\"are not\", r\"wasn\\'t\":\"was not\", r\"weren\\'t\":\"were not\",\n",
        "    # r\"haven\\'t\":\"have not\", r\"hasn\\'t\":\"has not\", r\"hadn\\'t\":\"had not\", r\"won\\'t\":\"will not\",\n",
        "    # r\"wouldn\\'t\":\"would not\", r\"don\\'t\":\"do not\", r\"doesn\\'t\":\"does not\", r\"didn\\'t\":\"did not\",\n",
        "    # r\"can\\'t\":\"can not\", r\"couldn\\'t\":\"could not\", r\"shouldn\\'t\":\"should not\", r\"mightn\\'t\":\"might not\",\n",
        "    # r\"mustn\\'t\":\"must not\""
      ],
      "execution_count": null,
      "outputs": []
    },
    {
      "cell_type": "code",
      "metadata": {
        "id": "V4rvgF2TyZv7",
        "colab_type": "code",
        "colab": {
          "base_uri": "https://localhost:8080/",
          "height": 51
        },
        "outputId": "31eca36b-10b1-455e-dc2b-b4c1091e5014"
      },
      "source": [
        "%%time\n",
        "df3['final_utterance'].replace(regex=regex_patterns, inplace=True)\n",
        "df3['final_utterance'] = df3['final_utterance'].str.strip() #remove any spaces in the front and at the end of each call. \n",
        "\n",
        "#df3[df3[\"final_utterance\"].str.contains(r'(ma\\'am)')]\n",
        "#res = df3[\"final_utterance\"].str.findall(r'(\\s*(?:\\+?(\\d{1,3}))?[-. (]*(\\d{3})?[-. )]*(\\d{3})[-. ]*(\\d{4})(?: *x(\\d+))?\\s*)').to_frame()\n",
        "#res.head()"
      ],
      "execution_count": null,
      "outputs": [
        {
          "output_type": "stream",
          "text": [
            "CPU times: user 1min 26s, sys: 17 ms, total: 1min 26s\n",
            "Wall time: 1min 26s\n"
          ],
          "name": "stdout"
        }
      ]
    },
    {
      "cell_type": "code",
      "metadata": {
        "id": "9t3M98xaOENS",
        "colab_type": "code",
        "colab": {
          "base_uri": "https://localhost:8080/",
          "height": 204
        },
        "outputId": "8821bcf0-fcd7-4775-a5e3-e76203a7ff65"
      },
      "source": [
        "df_min = df3.groupby(['call_id'])['time_start'].min().reset_index()\n",
        "df_max = df3.groupby(['call_id'])['time_end'].max().reset_index()\n",
        "df_time = pd.merge(df_min, df_max, on='call_id')\n",
        "df_time['duration'] = df_time.time_end - df_time.time_start\n",
        "df_time.head()"
      ],
      "execution_count": null,
      "outputs": [
        {
          "output_type": "execute_result",
          "data": {
            "text/html": [
              "<div>\n",
              "<style scoped>\n",
              "    .dataframe tbody tr th:only-of-type {\n",
              "        vertical-align: middle;\n",
              "    }\n",
              "\n",
              "    .dataframe tbody tr th {\n",
              "        vertical-align: top;\n",
              "    }\n",
              "\n",
              "    .dataframe thead th {\n",
              "        text-align: right;\n",
              "    }\n",
              "</style>\n",
              "<table border=\"1\" class=\"dataframe\">\n",
              "  <thead>\n",
              "    <tr style=\"text-align: right;\">\n",
              "      <th></th>\n",
              "      <th>call_id</th>\n",
              "      <th>time_start</th>\n",
              "      <th>time_end</th>\n",
              "      <th>duration</th>\n",
              "    </tr>\n",
              "  </thead>\n",
              "  <tbody>\n",
              "    <tr>\n",
              "      <th>0</th>\n",
              "      <td>4503600102440960</td>\n",
              "      <td>0.445</td>\n",
              "      <td>741.034</td>\n",
              "      <td>740.589</td>\n",
              "    </tr>\n",
              "    <tr>\n",
              "      <th>1</th>\n",
              "      <td>4503602697142272</td>\n",
              "      <td>0.590</td>\n",
              "      <td>71.609</td>\n",
              "      <td>71.019</td>\n",
              "    </tr>\n",
              "    <tr>\n",
              "      <th>2</th>\n",
              "      <td>4503732200472576</td>\n",
              "      <td>3.745</td>\n",
              "      <td>241.302</td>\n",
              "      <td>237.557</td>\n",
              "    </tr>\n",
              "    <tr>\n",
              "      <th>3</th>\n",
              "      <td>4503877562466304</td>\n",
              "      <td>0.836</td>\n",
              "      <td>266.756</td>\n",
              "      <td>265.920</td>\n",
              "    </tr>\n",
              "    <tr>\n",
              "      <th>4</th>\n",
              "      <td>4503914235691008</td>\n",
              "      <td>0.160</td>\n",
              "      <td>351.870</td>\n",
              "      <td>351.710</td>\n",
              "    </tr>\n",
              "  </tbody>\n",
              "</table>\n",
              "</div>"
            ],
            "text/plain": [
              "            call_id  time_start  time_end  duration\n",
              "0  4503600102440960       0.445   741.034   740.589\n",
              "1  4503602697142272       0.590    71.609    71.019\n",
              "2  4503732200472576       3.745   241.302   237.557\n",
              "3  4503877562466304       0.836   266.756   265.920\n",
              "4  4503914235691008       0.160   351.870   351.710"
            ]
          },
          "metadata": {
            "tags": []
          },
          "execution_count": 180
        }
      ]
    },
    {
      "cell_type": "code",
      "metadata": {
        "id": "GQRXH8OUm2fm",
        "colab_type": "code",
        "colab": {
          "base_uri": "https://localhost:8080/",
          "height": 204
        },
        "outputId": "c6953d99-2d8a-4c65-f735-72d46a54023b"
      },
      "source": [
        "# combine all the utterances grouped by the call_id into a single conversation. \n",
        "df_combined = df3.groupby(['call_id', 'response_value']).agg({'final_utterance': ' '.join}).reset_index()\n",
        "df4 = pd.merge(df_combined, df_time[['call_id', 'duration']], on='call_id')\n",
        "df4.head()"
      ],
      "execution_count": null,
      "outputs": [
        {
          "output_type": "execute_result",
          "data": {
            "text/html": [
              "<div>\n",
              "<style scoped>\n",
              "    .dataframe tbody tr th:only-of-type {\n",
              "        vertical-align: middle;\n",
              "    }\n",
              "\n",
              "    .dataframe tbody tr th {\n",
              "        vertical-align: top;\n",
              "    }\n",
              "\n",
              "    .dataframe thead th {\n",
              "        text-align: right;\n",
              "    }\n",
              "</style>\n",
              "<table border=\"1\" class=\"dataframe\">\n",
              "  <thead>\n",
              "    <tr style=\"text-align: right;\">\n",
              "      <th></th>\n",
              "      <th>call_id</th>\n",
              "      <th>response_value</th>\n",
              "      <th>final_utterance</th>\n",
              "      <th>duration</th>\n",
              "    </tr>\n",
              "  </thead>\n",
              "  <tbody>\n",
              "    <tr>\n",
              "      <th>0</th>\n",
              "      <td>4503600102440960</td>\n",
              "      <td>5</td>\n",
              "      <td>this is daniel. how can i help? yes, no madam....</td>\n",
              "      <td>740.589</td>\n",
              "    </tr>\n",
              "    <tr>\n",
              "      <th>1</th>\n",
              "      <td>4503602697142272</td>\n",
              "      <td>1</td>\n",
              "      <td>for jacob speaking. how can i help you? hi, ho...</td>\n",
              "      <td>71.019</td>\n",
              "    </tr>\n",
              "    <tr>\n",
              "      <th>2</th>\n",
              "      <td>4503732200472576</td>\n",
              "      <td>4</td>\n",
              "      <td>thank you for calling the street, this is aman...</td>\n",
              "      <td>237.557</td>\n",
              "    </tr>\n",
              "    <tr>\n",
              "      <th>3</th>\n",
              "      <td>4503877562466304</td>\n",
              "      <td>5</td>\n",
              "      <td>help you today? yes, i'm just calling to confi...</td>\n",
              "      <td>265.920</td>\n",
              "    </tr>\n",
              "    <tr>\n",
              "      <th>4</th>\n",
              "      <td>4503914235691008</td>\n",
              "      <td>5</td>\n",
              "      <td>solution federal i'm an offer innovations, chr...</td>\n",
              "      <td>351.710</td>\n",
              "    </tr>\n",
              "  </tbody>\n",
              "</table>\n",
              "</div>"
            ],
            "text/plain": [
              "            call_id  ...  duration\n",
              "0  4503600102440960  ...   740.589\n",
              "1  4503602697142272  ...    71.019\n",
              "2  4503732200472576  ...   237.557\n",
              "3  4503877562466304  ...   265.920\n",
              "4  4503914235691008  ...   351.710\n",
              "\n",
              "[5 rows x 4 columns]"
            ]
          },
          "metadata": {
            "tags": []
          },
          "execution_count": 181
        }
      ]
    },
    {
      "cell_type": "code",
      "metadata": {
        "id": "L7MV8So7OQ7L",
        "colab_type": "code",
        "colab": {}
      },
      "source": [
        "#!pip install transformers\n",
        "from transformers import BertTokenizer\n",
        "tokenizer = BertTokenizer.from_pretrained('bert-base-uncased', do_lower_case=True)"
      ],
      "execution_count": null,
      "outputs": []
    },
    {
      "cell_type": "code",
      "metadata": {
        "id": "MZxJ5_h2BLgj",
        "colab_type": "code",
        "colab": {
          "base_uri": "https://localhost:8080/",
          "height": 51
        },
        "outputId": "31cd4bae-3067-4bb1-e5d4-cffecbc455da"
      },
      "source": [
        "%%time \n",
        "df4['text_length'] = df4['final_utterance'].str.split().str.len()\n",
        "\n",
        "#Get length of text using BERT tokenizer\n",
        "df4['bert_tokenizer_length'] = df4.final_utterance.apply(lambda x: len(tokenizer.tokenize(x)))"
      ],
      "execution_count": null,
      "outputs": [
        {
          "output_type": "stream",
          "text": [
            "CPU times: user 3min 48s, sys: 521 ms, total: 3min 48s\n",
            "Wall time: 3min 49s\n"
          ],
          "name": "stdout"
        }
      ]
    },
    {
      "cell_type": "code",
      "metadata": {
        "id": "7j5FMqBRj8IB",
        "colab_type": "code",
        "colab": {
          "base_uri": "https://localhost:8080/",
          "height": 204
        },
        "outputId": "ec2345d8-060a-40d9-b06d-b6cc70f29298"
      },
      "source": [
        "df4.head()"
      ],
      "execution_count": null,
      "outputs": [
        {
          "output_type": "execute_result",
          "data": {
            "text/html": [
              "<div>\n",
              "<style scoped>\n",
              "    .dataframe tbody tr th:only-of-type {\n",
              "        vertical-align: middle;\n",
              "    }\n",
              "\n",
              "    .dataframe tbody tr th {\n",
              "        vertical-align: top;\n",
              "    }\n",
              "\n",
              "    .dataframe thead th {\n",
              "        text-align: right;\n",
              "    }\n",
              "</style>\n",
              "<table border=\"1\" class=\"dataframe\">\n",
              "  <thead>\n",
              "    <tr style=\"text-align: right;\">\n",
              "      <th></th>\n",
              "      <th>call_id</th>\n",
              "      <th>response_value</th>\n",
              "      <th>final_utterance</th>\n",
              "      <th>duration</th>\n",
              "      <th>text_length</th>\n",
              "      <th>bert_tokenizer_length</th>\n",
              "    </tr>\n",
              "  </thead>\n",
              "  <tbody>\n",
              "    <tr>\n",
              "      <th>0</th>\n",
              "      <td>4503600102440960</td>\n",
              "      <td>5</td>\n",
              "      <td>this is daniel. how can i help? yes, no madam....</td>\n",
              "      <td>740.589</td>\n",
              "      <td>515</td>\n",
              "      <td>698</td>\n",
              "    </tr>\n",
              "    <tr>\n",
              "      <th>1</th>\n",
              "      <td>4503602697142272</td>\n",
              "      <td>1</td>\n",
              "      <td>for jacob speaking. how can i help you? hi, ho...</td>\n",
              "      <td>71.019</td>\n",
              "      <td>109</td>\n",
              "      <td>146</td>\n",
              "    </tr>\n",
              "    <tr>\n",
              "      <th>2</th>\n",
              "      <td>4503732200472576</td>\n",
              "      <td>4</td>\n",
              "      <td>thank you for calling the street, this is aman...</td>\n",
              "      <td>237.557</td>\n",
              "      <td>217</td>\n",
              "      <td>279</td>\n",
              "    </tr>\n",
              "    <tr>\n",
              "      <th>3</th>\n",
              "      <td>4503877562466304</td>\n",
              "      <td>5</td>\n",
              "      <td>help you today? yes, i'm just calling to confi...</td>\n",
              "      <td>265.920</td>\n",
              "      <td>588</td>\n",
              "      <td>753</td>\n",
              "    </tr>\n",
              "    <tr>\n",
              "      <th>4</th>\n",
              "      <td>4503914235691008</td>\n",
              "      <td>5</td>\n",
              "      <td>solution federal i'm an offer innovations, chr...</td>\n",
              "      <td>351.710</td>\n",
              "      <td>695</td>\n",
              "      <td>912</td>\n",
              "    </tr>\n",
              "  </tbody>\n",
              "</table>\n",
              "</div>"
            ],
            "text/plain": [
              "            call_id  response_value  ... text_length  bert_tokenizer_length\n",
              "0  4503600102440960               5  ...         515                    698\n",
              "1  4503602697142272               1  ...         109                    146\n",
              "2  4503732200472576               4  ...         217                    279\n",
              "3  4503877562466304               5  ...         588                    753\n",
              "4  4503914235691008               5  ...         695                    912\n",
              "\n",
              "[5 rows x 6 columns]"
            ]
          },
          "metadata": {
            "tags": []
          },
          "execution_count": 184
        }
      ]
    },
    {
      "cell_type": "code",
      "metadata": {
        "id": "W6F2eBd-HoyV",
        "colab_type": "code",
        "colab": {
          "base_uri": "https://localhost:8080/",
          "height": 71
        },
        "outputId": "54a5b961-fed6-43ee-cb13-5a5b2650dbdb"
      },
      "source": [
        "# Print the sentence split into tokens.\n",
        "print('Tokenized: ', tokenizer.tokenize(df4['final_utterance'][0]))\n",
        "    \n",
        "len(tokenizer.tokenize(df4['final_utterance'][0]))"
      ],
      "execution_count": null,
      "outputs": [
        {
          "output_type": "stream",
          "text": [
            "Tokenized:  ['this', 'is', 'daniel', '.', 'how', 'can', 'i', 'help', '?', 'yes', ',', 'no', 'madam', '.', 'before', 'the', 'came', 'to', 'talk', 'them', 'or', 'twenty', 'third', 'but', 'they', \"'\", 're', 'just', 'applied', 'one', 'end', 'yet', '.', 'so', 'how', \"'\", 's', 'that', 'bye', 'we', 'did', 'run', 'the', 'whole', 'number', 'one', 'last', 'will', 'be', 'in', 'on', 'the', 'th', '##ir', '##tie', '##th', '.', 'okay', ',', 'let', 'me', 'see', 'here', ',', 'let', 'me', 'pull', 'up', 'your', 'order', 'quick', '.', 'this', 'is', 'graham', '.', 'yes', '.', 'okay', ',', 'let', \"'\", 's', 'see', 'here', '.', 'this', 'is', ',', 'was', 'lam', '##inate', 'floor', '##ing', 'and', 'you', 'say', 'should', 'be', 'in', 'on', 'the', 'th', '##ir', '##tie', '##th', 'and', 'then', 'i', 'have', 'the', 'schedule', 'delivery', '.', 'they', 'say', 'anything', 'about', 'but', 'you', \"'\", 're', 'picking', 'it', 'up', '.', 'okay', '.', 'no', ',', 'not', 'picking', 'it', 'up', '.', 'i', \"'\", 'm', 'picking', 'it', 'up', ',', 'yeah', ',', 'picking', 'it', 'up', 'on', 'the', 'th', '##ir', '##tie', '##th', '.', 'let', 'me', 'see', 'if', 'i', 'can', 'get', 'you', 'the', '.', 'so', 'that', 'i', 'had', 'to', 'get', 'that', '.', 'so', 'let', 'me', 'see', 'what', 'we', 'have', 'available', '.', 'do', 'you', 'have', 'a', 'date', 'in', 'mind', '?', 'this', ',', 'anytime', 'before', 'two', 'seven', 'be', 'great', 'because', 'i', 'go', 'adapt', 'hoover', 'i', \"'\", 'm', 'out', 'right', 'now', '.', 'okay', ',', 'i', \"'\", 'll', 'go', 'back', 'to', 'the', 'segment', 'this', '.', 'yeah', ',', 'bye', 'work', 'when', 'eighth', 'right', '?', 'on', 'a', ',', 'okay', ',', 'got', '##cha', 'on', 'a', 'way', '.', 'okay', ',', 'good', '.', 'alright', ',', 'let', \"'\", 's', 'see', 'here', ',', 'you', 'say', 'those', 'lam', '##mond', '.', 'is', 'too', '?', 'uh', '.', 'six', 'three', 'days', 'in', 'the', 'house', ',', 'so', '.', 'yeah', '.', 'so', 'he', \"'\", 's', 'got', 'it', 'and', 'so', 'what', ',', 'you', 'know', ',', 'if', 'it', 'comes', 'on', 'the', 'thirty', ',', 'let', \"'\", 's', 'see', 'it', 'come', 'from', 'the', 'thirty', '.', 'that', 'is', 'monday', '.', 'when', 'would', 'you', 'go', 'and', 'pick', 'it', 'up', '?', 'the', 'same', 'day', ',', 'that', 'same', 'day', '.', 'uh', '-', 'huh', '.', 'okay', ',', 'if', 'it', 'comes', 'in', ',', 'uh', '.', 'before', 'you', 'need', 'it', 'by', 'rather', 'seven', '.', 'let', \"'\", 's', 'see', 'if', 'he', 'can', 'give', 'me', 'something', 'really', 'quick', 'here', '.', 'kind', 'of', 'push', 'on', 'a', 'brief', 'hold', ',', 'one', 'moment', '.', 'thank', 'you', '.', 'yes', 'madam', '.', 'okay', ',', 'my', 'grandma', ',', 'you', 'there', '?', 'okay', ',', 'thank', 'you', 'for', 'holding', ',', 'bear', 'with', 'me', 'a', 'few', 'more', 'moments', '.', 'he', \"'\", 's', 'looking', 'at', 'the', 'schedule', '.', 'nice', 'checking', '.', 'yeah', ',', 'madam', '.', 'okay', '.', 'okay', ',', 'thank', 'you', '.', 'one', 'moment', '.', 'graham', ',', 'are', 'you', 'there', '?', 'hi', ',', 'thank', 'you', 'for', 'holding', '.', 'i', 'do', 'whatever', 'to', 'get', 'you', 'scheduled', 'for', 'january', 'the', 'six', 'that', 'monday', '.', 'yeah', '.', 'yeah', ',', 'that', \"'\", 's', 'great', '.', 'okay', '.', 'alright', ',', 'perfect', '.', 'so', 'got', 'you', 'down', 'for', 'that', '.', 'let', 'me', 'see', '.', 'is', 'there', 'anything', 'else', 'you', \"'\", 're', 'going', 'to', 'pick', 'up', 'the', 'material', '.', 'so', 'i', \"'\", 'll', 'go', 'ahead', 'and', 'hit', 'the', 'button', 'to', 'that', ',', 'and', 'then', 'lastly', ',', 'real', 'quick', 'once', 'your', 'install', 'this', 'complete', ',', 'you', \"'\", 're', 'gonna', 'receive', 'a', 'survey', 'from', 'home', 'depot', ',', 'just', 'to', 'make', 'sure', 'that', 'you', \"'\", 're', 'satisfied', 'with', 'your', 'install', ',', 'we', 'just', 'want', 'to', 'know', ',', 'we', 'strive', 'to', 'earn', 'the', 'extremely', 'satisfied', 'waiting', 'but', 'by', 'taking', 'the', 'survey', 'you', ',', 'the', 'entered', 'into', 'their', 'five', 'thousand', 'dollar', 'drawing', 'and', 'then', 'i', \"'\", 'll', 'go', 'here', 'in', 'a', 'moment', 'of', 'we', 'have', 'a', 'five', 'hundred', 'dollar', 'drawn', '.', 'so', 'what', \"'\", 's', 'your', 'install', 'is', 'complete', ',', 'make', 'sure', 'you', 'complete', 'the', 'survey', 'that', 'they', 'sing', 'you', 'get', 'you', 'into', 'that', 'role', 'line', ',', 'okay', '?', 'okay', ',', 'sure', '.', 'thank', 'you', 'very', 'much', '.', 'okay', '.', 'alright', ',', 'perfect', '.', 'you', \"'\", 're', 'welcome', '.', 'and', 'then', 'on', 'the', 'fifth', 'you', \"'\", 're', 'gonna', 'auto', '##mate', 'your', 'call', 'with', 'the', 'date', 'and', 'time', ',', 'the', 'arrival', 'one', 'though', 'for', 'the', 'six', '.', 'okay', ',', 'great', '.', 'okay', '.', 'alright', ',', 'perfect', '.', 'well', ',', 'we', \"'\", 'll', 'see', 'you', 'then', 'enjoy', ',', 'new', 'year', '.', 'thank', 'you', ',', 'bye', '.', 'you', 'too', ',', 'thank', 'you', '.']\n"
          ],
          "name": "stdout"
        },
        {
          "output_type": "execute_result",
          "data": {
            "text/plain": [
              "698"
            ]
          },
          "metadata": {
            "tags": []
          },
          "execution_count": 68
        }
      ]
    },
    {
      "cell_type": "code",
      "metadata": {
        "id": "0-jDOvWcA_Gf",
        "colab_type": "code",
        "colab": {
          "base_uri": "https://localhost:8080/",
          "height": 136
        },
        "outputId": "22f49750-a5aa-4c8b-8f05-8e87e2b3fc88"
      },
      "source": [
        "#There are only 13,275 calls where there are less than 512 tokens\n",
        "dfb = df4[df4.bert_tokenizer_length <= 512]\n",
        "dfb.groupby(['response_value'])['call_id'].nunique()"
      ],
      "execution_count": null,
      "outputs": [
        {
          "output_type": "execute_result",
          "data": {
            "text/plain": [
              "response_value\n",
              "1    2153\n",
              "2     456\n",
              "3     798\n",
              "4    1152\n",
              "5    8811\n",
              "Name: call_id, dtype: int64"
            ]
          },
          "metadata": {
            "tags": []
          },
          "execution_count": 185
        }
      ]
    },
    {
      "cell_type": "code",
      "metadata": {
        "id": "urc6rnsalCoO",
        "colab_type": "code",
        "colab": {
          "base_uri": "https://localhost:8080/",
          "height": 675
        },
        "outputId": "20a817c0-7895-4aa1-9d5b-05a76343f924"
      },
      "source": [
        "plt.figure(figsize=(10,10))\n",
        "plt.style.use('fivethirtyeight')\n",
        "\n",
        "#there are 5 conversations where there are more than 8,000 words\n",
        "sns.boxplot(x='response_value', y='text_length', data=df4[df4.text_length < 8000], palette='Accent')\n",
        "\n",
        "plt.ylabel('Length of Text', fontsize=17)\n",
        "plt.xlabel('CSAT Labels',fontsize=17)\n",
        "plt.title('Distribution of Words in Calls by CSAT labels')\n",
        "\n",
        "plt.show()"
      ],
      "execution_count": null,
      "outputs": [
        {
          "output_type": "display_data",
          "data": {
            "image/png": "[encoded data removed]",
            "text/plain": [
              "<Figure size 720x720 with 1 Axes>"
            ]
          },
          "metadata": {
            "tags": []
          }
        }
      ]
    },
    {
      "cell_type": "code",
      "metadata": {
        "id": "P_ZDlxH9yWJ3",
        "colab_type": "code",
        "colab": {
          "base_uri": "https://localhost:8080/",
          "height": 204
        },
        "outputId": "44cc7687-981c-43b2-aeb1-498f5892ffb3"
      },
      "source": [
        "df4.groupby('response_value')['text_length'].describe().reset_index()"
      ],
      "execution_count": null,
      "outputs": [
        {
          "output_type": "execute_result",
          "data": {
            "text/html": [
              "<div>\n",
              "<style scoped>\n",
              "    .dataframe tbody tr th:only-of-type {\n",
              "        vertical-align: middle;\n",
              "    }\n",
              "\n",
              "    .dataframe tbody tr th {\n",
              "        vertical-align: top;\n",
              "    }\n",
              "\n",
              "    .dataframe thead th {\n",
              "        text-align: right;\n",
              "    }\n",
              "</style>\n",
              "<table border=\"1\" class=\"dataframe\">\n",
              "  <thead>\n",
              "    <tr style=\"text-align: right;\">\n",
              "      <th></th>\n",
              "      <th>response_value</th>\n",
              "      <th>count</th>\n",
              "      <th>mean</th>\n",
              "      <th>std</th>\n",
              "      <th>min</th>\n",
              "      <th>25%</th>\n",
              "      <th>50%</th>\n",
              "      <th>75%</th>\n",
              "      <th>max</th>\n",
              "    </tr>\n",
              "  </thead>\n",
              "  <tbody>\n",
              "    <tr>\n",
              "      <th>0</th>\n",
              "      <td>1</td>\n",
              "      <td>3217.0</td>\n",
              "      <td>385.100093</td>\n",
              "      <td>517.655401</td>\n",
              "      <td>0.0</td>\n",
              "      <td>41.00</td>\n",
              "      <td>215.0</td>\n",
              "      <td>503.00</td>\n",
              "      <td>5026.0</td>\n",
              "    </tr>\n",
              "    <tr>\n",
              "      <th>1</th>\n",
              "      <td>2</td>\n",
              "      <td>670.0</td>\n",
              "      <td>420.662687</td>\n",
              "      <td>577.171009</td>\n",
              "      <td>0.0</td>\n",
              "      <td>142.25</td>\n",
              "      <td>286.0</td>\n",
              "      <td>474.50</td>\n",
              "      <td>6000.0</td>\n",
              "    </tr>\n",
              "    <tr>\n",
              "      <th>2</th>\n",
              "      <td>3</td>\n",
              "      <td>1347.0</td>\n",
              "      <td>439.959169</td>\n",
              "      <td>459.982985</td>\n",
              "      <td>0.0</td>\n",
              "      <td>172.50</td>\n",
              "      <td>319.0</td>\n",
              "      <td>558.50</td>\n",
              "      <td>5988.0</td>\n",
              "    </tr>\n",
              "    <tr>\n",
              "      <th>3</th>\n",
              "      <td>4</td>\n",
              "      <td>2366.0</td>\n",
              "      <td>529.536348</td>\n",
              "      <td>449.161799</td>\n",
              "      <td>1.0</td>\n",
              "      <td>242.25</td>\n",
              "      <td>399.0</td>\n",
              "      <td>677.75</td>\n",
              "      <td>4211.0</td>\n",
              "    </tr>\n",
              "    <tr>\n",
              "      <th>4</th>\n",
              "      <td>5</td>\n",
              "      <td>21536.0</td>\n",
              "      <td>634.759983</td>\n",
              "      <td>602.780600</td>\n",
              "      <td>0.0</td>\n",
              "      <td>275.00</td>\n",
              "      <td>471.0</td>\n",
              "      <td>799.25</td>\n",
              "      <td>12635.0</td>\n",
              "    </tr>\n",
              "  </tbody>\n",
              "</table>\n",
              "</div>"
            ],
            "text/plain": [
              "   response_value    count        mean  ...    50%     75%      max\n",
              "0               1   3217.0  385.100093  ...  215.0  503.00   5026.0\n",
              "1               2    670.0  420.662687  ...  286.0  474.50   6000.0\n",
              "2               3   1347.0  439.959169  ...  319.0  558.50   5988.0\n",
              "3               4   2366.0  529.536348  ...  399.0  677.75   4211.0\n",
              "4               5  21536.0  634.759983  ...  471.0  799.25  12635.0\n",
              "\n",
              "[5 rows x 9 columns]"
            ]
          },
          "metadata": {
            "tags": []
          },
          "execution_count": 76
        }
      ]
    },
    {
      "cell_type": "code",
      "metadata": {
        "id": "4ma07s-xl6qW",
        "colab_type": "code",
        "colab": {
          "base_uri": "https://localhost:8080/",
          "height": 204
        },
        "outputId": "fbc1fa40-93e2-41b7-bca6-c8825ce7bf23"
      },
      "source": [
        "df4.groupby('response_value')['bert_tokenizer_length'].describe().reset_index()"
      ],
      "execution_count": null,
      "outputs": [
        {
          "output_type": "execute_result",
          "data": {
            "text/html": [
              "<div>\n",
              "<style scoped>\n",
              "    .dataframe tbody tr th:only-of-type {\n",
              "        vertical-align: middle;\n",
              "    }\n",
              "\n",
              "    .dataframe tbody tr th {\n",
              "        vertical-align: top;\n",
              "    }\n",
              "\n",
              "    .dataframe thead th {\n",
              "        text-align: right;\n",
              "    }\n",
              "</style>\n",
              "<table border=\"1\" class=\"dataframe\">\n",
              "  <thead>\n",
              "    <tr style=\"text-align: right;\">\n",
              "      <th></th>\n",
              "      <th>response_value</th>\n",
              "      <th>count</th>\n",
              "      <th>mean</th>\n",
              "      <th>std</th>\n",
              "      <th>min</th>\n",
              "      <th>25%</th>\n",
              "      <th>50%</th>\n",
              "      <th>75%</th>\n",
              "      <th>max</th>\n",
              "    </tr>\n",
              "  </thead>\n",
              "  <tbody>\n",
              "    <tr>\n",
              "      <th>0</th>\n",
              "      <td>1</td>\n",
              "      <td>3217.0</td>\n",
              "      <td>504.732670</td>\n",
              "      <td>674.397058</td>\n",
              "      <td>0.0</td>\n",
              "      <td>54.0</td>\n",
              "      <td>287.0</td>\n",
              "      <td>661.00</td>\n",
              "      <td>6739.0</td>\n",
              "    </tr>\n",
              "    <tr>\n",
              "      <th>1</th>\n",
              "      <td>2</td>\n",
              "      <td>670.0</td>\n",
              "      <td>549.480597</td>\n",
              "      <td>738.144520</td>\n",
              "      <td>0.0</td>\n",
              "      <td>194.5</td>\n",
              "      <td>378.0</td>\n",
              "      <td>623.00</td>\n",
              "      <td>7313.0</td>\n",
              "    </tr>\n",
              "    <tr>\n",
              "      <th>2</th>\n",
              "      <td>3</td>\n",
              "      <td>1347.0</td>\n",
              "      <td>575.235338</td>\n",
              "      <td>588.718870</td>\n",
              "      <td>0.0</td>\n",
              "      <td>231.5</td>\n",
              "      <td>421.0</td>\n",
              "      <td>735.50</td>\n",
              "      <td>7593.0</td>\n",
              "    </tr>\n",
              "    <tr>\n",
              "      <th>3</th>\n",
              "      <td>4</td>\n",
              "      <td>2366.0</td>\n",
              "      <td>691.735841</td>\n",
              "      <td>577.338313</td>\n",
              "      <td>2.0</td>\n",
              "      <td>323.0</td>\n",
              "      <td>526.0</td>\n",
              "      <td>881.75</td>\n",
              "      <td>5218.0</td>\n",
              "    </tr>\n",
              "    <tr>\n",
              "      <th>4</th>\n",
              "      <td>5</td>\n",
              "      <td>21536.0</td>\n",
              "      <td>828.027210</td>\n",
              "      <td>779.318344</td>\n",
              "      <td>0.0</td>\n",
              "      <td>364.0</td>\n",
              "      <td>616.0</td>\n",
              "      <td>1044.00</td>\n",
              "      <td>15919.0</td>\n",
              "    </tr>\n",
              "  </tbody>\n",
              "</table>\n",
              "</div>"
            ],
            "text/plain": [
              "   response_value    count        mean  ...    50%      75%      max\n",
              "0               1   3217.0  504.732670  ...  287.0   661.00   6739.0\n",
              "1               2    670.0  549.480597  ...  378.0   623.00   7313.0\n",
              "2               3   1347.0  575.235338  ...  421.0   735.50   7593.0\n",
              "3               4   2366.0  691.735841  ...  526.0   881.75   5218.0\n",
              "4               5  21536.0  828.027210  ...  616.0  1044.00  15919.0\n",
              "\n",
              "[5 rows x 9 columns]"
            ]
          },
          "metadata": {
            "tags": []
          },
          "execution_count": 70
        }
      ]
    },
    {
      "cell_type": "code",
      "metadata": {
        "id": "lXMZA7xJPPFX",
        "colab_type": "code",
        "colab": {
          "base_uri": "https://localhost:8080/",
          "height": 675
        },
        "outputId": "04442bcb-0de4-4df4-e691-63b9e7990390"
      },
      "source": [
        "plt.figure(figsize=(10,10))\n",
        "plt.style.use('fivethirtyeight')\n",
        "\n",
        "#there are 5 conversations where there are more than 8,000 words\n",
        "sns.boxplot(x='response_value', y='text_length', data=df4[df4.text_length < 2000], palette='Accent')\n",
        "\n",
        "plt.ylabel('Length of Text', fontsize=17)\n",
        "plt.xlabel('CSAT Labels',fontsize=17)\n",
        "plt.title('Distribution of Words in Calls by CSAT labels')\n",
        "\n",
        "plt.show()"
      ],
      "execution_count": null,
      "outputs": [
        {
          "output_type": "display_data",
          "data": {
            "image/png": "[encoded data removed]",
            "text/plain": [
              "<Figure size 720x720 with 1 Axes>"
            ]
          },
          "metadata": {
            "tags": []
          }
        }
      ]
    },
    {
      "cell_type": "code",
      "metadata": {
        "id": "voYHW6aZwpdp",
        "colab_type": "code",
        "colab": {
          "base_uri": "https://localhost:8080/",
          "height": 557
        },
        "outputId": "30fbedef-debd-4a8d-9b54-62f94d16d4c2"
      },
      "source": [
        "plt.figure(figsize=(8,8))\n",
        "\n",
        "xc=df4['response_value'].value_counts()\n",
        "axc= sns.barplot(xc.index, xc.values)\n",
        "\n",
        "xc_labels= xc.reset_index().sort_values('index',ascending=True)['response_value'].values.tolist()\n",
        "annotate_labels(axc, xc_labels)\n",
        "\n",
        "plt.title(\"Distribution of calls over CSAT score\", fontsize=17)\n",
        "plt.ylabel('# of Calls', fontsize=17)\n",
        "plt.xlabel('CSAT Labels', fontsize=17)\n",
        "\n",
        "plt.show()"
      ],
      "execution_count": null,
      "outputs": [
        {
          "output_type": "display_data",
          "data": {
            "image/png": "[encoded data removed]",
            "text/plain": [
              "<Figure size 576x576 with 1 Axes>"
            ]
          },
          "metadata": {
            "tags": []
          }
        }
      ]
    },
    {
      "cell_type": "markdown",
      "metadata": {
        "id": "e1v7Wf3kACg_",
        "colab_type": "text"
      },
      "source": [
        "#### Creating 2 classes for negative and positive reviews\n",
        "\n",
        "* Reviews that are 1 and 2 stars will be encoded as a NEGATIVE CSAT, 0\n",
        "* Reviews that are 4 and 5 stars will be encoded as a POSITIVE CSAT, 1\n",
        "\n",
        "We left out 3 because for some reason has many calls that are related to cancellation of a service (based on manual inspection of calls in BQ). Why is this? Is it intentional or merely a coincidence? "
      ]
    },
    {
      "cell_type": "code",
      "metadata": {
        "id": "74rIE8QE9pNX",
        "colab_type": "code",
        "colab": {}
      },
      "source": [
        "# Encode calls with labels = 1, 2 to be negative CSAT (0) and calls with labels (4,5) to be positive CSAT (1). We left out 3 because \n",
        "filter_method = lambda x: 0 if x < 3 else 1 if (x >3) else None\n",
        "dff = df4.copy()\n",
        "dff['response_value'] = dff.response_value.apply(filter_method)"
      ],
      "execution_count": null,
      "outputs": []
    },
    {
      "cell_type": "code",
      "metadata": {
        "id": "YaRuCu1jGSZv",
        "colab_type": "code",
        "colab": {}
      },
      "source": [
        "#short_df = df4[df4.text_length.between(7,100)]\n",
        "#df4[df4.text_length.between(71,100)].groupby(['response_value'])['call_id'].nunique()\n",
        "#short_df.info()"
      ],
      "execution_count": null,
      "outputs": []
    },
    {
      "cell_type": "code",
      "metadata": {
        "id": "jlU99wCNh-qT",
        "colab_type": "code",
        "colab": {}
      },
      "source": [
        "dff = dff[dff['response_value'].notna()]\n",
        "dff = dff[dff.text_length > 5]"
      ],
      "execution_count": null,
      "outputs": []
    },
    {
      "cell_type": "code",
      "metadata": {
        "id": "KtzQXDRBydtU",
        "colab_type": "code",
        "colab": {
          "base_uri": "https://localhost:8080/",
          "height": 272
        },
        "outputId": "b025cbc7-5486-438f-fd7a-ac4f612cfdf3"
      },
      "source": [
        "dff.info()"
      ],
      "execution_count": null,
      "outputs": [
        {
          "output_type": "stream",
          "text": [
            "<class 'pandas.core.frame.DataFrame'>\n",
            "Int64Index: 27217 entries, 0 to 29135\n",
            "Data columns (total 8 columns):\n",
            " #   Column                         Non-Null Count  Dtype  \n",
            "---  ------                         --------------  -----  \n",
            " 0   call_id                        27217 non-null  object \n",
            " 1   response_value                 27217 non-null  float64\n",
            " 2   final_utterance                27217 non-null  object \n",
            " 3   duration                       27217 non-null  float64\n",
            " 4   text_length                    27217 non-null  int64  \n",
            " 5   bert_tokenizer_length          27217 non-null  int64  \n",
            " 6   text                           27217 non-null  object \n",
            " 7   bert_tokenizer_length_no_punc  27217 non-null  int64  \n",
            "dtypes: float64(2), int64(3), object(3)\n",
            "memory usage: 1.9+ MB\n"
          ],
          "name": "stdout"
        }
      ]
    },
    {
      "cell_type": "code",
      "metadata": {
        "id": "u-WGH_DjzZVQ",
        "colab_type": "code",
        "colab": {
          "base_uri": "https://localhost:8080/",
          "height": 557
        },
        "outputId": "1085baa2-c697-4a29-c414-139b130f08d6"
      },
      "source": [
        "plt.figure(figsize=(8,8))\n",
        "\n",
        "xc=dff['response_value'].value_counts()\n",
        "axc= sns.barplot(xc.index, xc.values)\n",
        "\n",
        "xc_labels= xc.reset_index().sort_values('index',ascending=True)['response_value'].values.tolist()\n",
        "annotate_labels(axc, xc_labels)\n",
        "\n",
        "plt.title(\"Distribution of calls over CSAT score\", fontsize=17)\n",
        "plt.ylabel('# of Calls', fontsize=17)\n",
        "plt.xlabel('CSAT Labels', fontsize=17)\n",
        "\n",
        "plt.show()"
      ],
      "execution_count": null,
      "outputs": [
        {
          "output_type": "display_data",
          "data": {
            "image/png": "[encoded data removed]",
            "text/plain": [
              "<Figure size 576x576 with 1 Axes>"
            ]
          },
          "metadata": {
            "tags": []
          }
        }
      ]
    },
    {
      "cell_type": "code",
      "metadata": {
        "id": "07DE4c6K1Epo",
        "colab_type": "code",
        "colab": {
          "base_uri": "https://localhost:8080/",
          "height": 204
        },
        "outputId": "a10eb7d5-b9fc-4263-b992-4cd4cd43c828"
      },
      "source": [
        "dff.head()"
      ],
      "execution_count": null,
      "outputs": [
        {
          "output_type": "execute_result",
          "data": {
            "text/html": [
              "<div>\n",
              "<style scoped>\n",
              "    .dataframe tbody tr th:only-of-type {\n",
              "        vertical-align: middle;\n",
              "    }\n",
              "\n",
              "    .dataframe tbody tr th {\n",
              "        vertical-align: top;\n",
              "    }\n",
              "\n",
              "    .dataframe thead th {\n",
              "        text-align: right;\n",
              "    }\n",
              "</style>\n",
              "<table border=\"1\" class=\"dataframe\">\n",
              "  <thead>\n",
              "    <tr style=\"text-align: right;\">\n",
              "      <th></th>\n",
              "      <th>call_id</th>\n",
              "      <th>response_value</th>\n",
              "      <th>final_utterance</th>\n",
              "      <th>duration</th>\n",
              "      <th>text_length</th>\n",
              "      <th>bert_tokenizer_length</th>\n",
              "    </tr>\n",
              "  </thead>\n",
              "  <tbody>\n",
              "    <tr>\n",
              "      <th>0</th>\n",
              "      <td>4503600102440960</td>\n",
              "      <td>1.0</td>\n",
              "      <td>this is daniel. how can i help? yes, no madam....</td>\n",
              "      <td>740.589</td>\n",
              "      <td>515</td>\n",
              "      <td>698</td>\n",
              "    </tr>\n",
              "    <tr>\n",
              "      <th>1</th>\n",
              "      <td>4503602697142272</td>\n",
              "      <td>0.0</td>\n",
              "      <td>for jacob speaking. how can i help you? hi, ho...</td>\n",
              "      <td>71.019</td>\n",
              "      <td>109</td>\n",
              "      <td>149</td>\n",
              "    </tr>\n",
              "    <tr>\n",
              "      <th>2</th>\n",
              "      <td>4503732200472576</td>\n",
              "      <td>1.0</td>\n",
              "      <td>thank you for calling the street, this is aman...</td>\n",
              "      <td>237.557</td>\n",
              "      <td>217</td>\n",
              "      <td>279</td>\n",
              "    </tr>\n",
              "    <tr>\n",
              "      <th>3</th>\n",
              "      <td>4503877562466304</td>\n",
              "      <td>1.0</td>\n",
              "      <td>help you today? yes, i'm just calling to confi...</td>\n",
              "      <td>265.920</td>\n",
              "      <td>588</td>\n",
              "      <td>753</td>\n",
              "    </tr>\n",
              "    <tr>\n",
              "      <th>4</th>\n",
              "      <td>4503914235691008</td>\n",
              "      <td>1.0</td>\n",
              "      <td>solution federal i'm an offer innovations, chr...</td>\n",
              "      <td>351.710</td>\n",
              "      <td>697</td>\n",
              "      <td>921</td>\n",
              "    </tr>\n",
              "  </tbody>\n",
              "</table>\n",
              "</div>"
            ],
            "text/plain": [
              "            call_id  response_value  ... text_length  bert_tokenizer_length\n",
              "0  4503600102440960             1.0  ...         515                    698\n",
              "1  4503602697142272             0.0  ...         109                    149\n",
              "2  4503732200472576             1.0  ...         217                    279\n",
              "3  4503877562466304             1.0  ...         588                    753\n",
              "4  4503914235691008             1.0  ...         697                    921\n",
              "\n",
              "[5 rows x 6 columns]"
            ]
          },
          "metadata": {
            "tags": []
          },
          "execution_count": 117
        }
      ]
    },
    {
      "cell_type": "code",
      "metadata": {
        "id": "eYroLxKr8r7-",
        "colab_type": "code",
        "colab": {}
      },
      "source": [
        "dff['text'] = dff['final_utterance'].str.replace(r'[^\\w\\s]+', '')\n",
        "dff['bert_tokenizer_length_no_punc'] = dff.text.apply(lambda x: len(tokenizer.tokenize(x)))"
      ],
      "execution_count": null,
      "outputs": []
    },
    {
      "cell_type": "code",
      "metadata": {
        "id": "M6CJA3Pg-Hkn",
        "colab_type": "code",
        "colab": {
          "base_uri": "https://localhost:8080/",
          "height": 204
        },
        "outputId": "8b611feb-c255-43da-903f-2e1be8acebac"
      },
      "source": [
        "dff.head()"
      ],
      "execution_count": null,
      "outputs": [
        {
          "output_type": "execute_result",
          "data": {
            "text/html": [
              "<div>\n",
              "<style scoped>\n",
              "    .dataframe tbody tr th:only-of-type {\n",
              "        vertical-align: middle;\n",
              "    }\n",
              "\n",
              "    .dataframe tbody tr th {\n",
              "        vertical-align: top;\n",
              "    }\n",
              "\n",
              "    .dataframe thead th {\n",
              "        text-align: right;\n",
              "    }\n",
              "</style>\n",
              "<table border=\"1\" class=\"dataframe\">\n",
              "  <thead>\n",
              "    <tr style=\"text-align: right;\">\n",
              "      <th></th>\n",
              "      <th>call_id</th>\n",
              "      <th>response_value</th>\n",
              "      <th>final_utterance</th>\n",
              "      <th>duration</th>\n",
              "      <th>text_length</th>\n",
              "      <th>bert_tokenizer_length</th>\n",
              "      <th>text</th>\n",
              "      <th>bert_tokenizer_length_no_punc</th>\n",
              "    </tr>\n",
              "  </thead>\n",
              "  <tbody>\n",
              "    <tr>\n",
              "      <th>0</th>\n",
              "      <td>4503600102440960</td>\n",
              "      <td>1.0</td>\n",
              "      <td>this is daniel. how can i help? yes, no madam....</td>\n",
              "      <td>740.589</td>\n",
              "      <td>515</td>\n",
              "      <td>698</td>\n",
              "      <td>this is daniel how can i help yes no madam   b...</td>\n",
              "      <td>543</td>\n",
              "    </tr>\n",
              "    <tr>\n",
              "      <th>1</th>\n",
              "      <td>4503602697142272</td>\n",
              "      <td>0.0</td>\n",
              "      <td>for jacob speaking. how can i help you? hi, ho...</td>\n",
              "      <td>71.019</td>\n",
              "      <td>109</td>\n",
              "      <td>146</td>\n",
              "      <td>for jacob speaking how can i help you hi how y...</td>\n",
              "      <td>112</td>\n",
              "    </tr>\n",
              "    <tr>\n",
              "      <th>2</th>\n",
              "      <td>4503732200472576</td>\n",
              "      <td>1.0</td>\n",
              "      <td>thank you for calling the street, this is aman...</td>\n",
              "      <td>237.557</td>\n",
              "      <td>217</td>\n",
              "      <td>279</td>\n",
              "      <td>thank you for calling the street this is amand...</td>\n",
              "      <td>229</td>\n",
              "    </tr>\n",
              "    <tr>\n",
              "      <th>3</th>\n",
              "      <td>4503877562466304</td>\n",
              "      <td>1.0</td>\n",
              "      <td>help you today? yes, i'm just calling to confi...</td>\n",
              "      <td>265.920</td>\n",
              "      <td>588</td>\n",
              "      <td>753</td>\n",
              "      <td>help you today yes im just calling to confirm ...</td>\n",
              "      <td>616</td>\n",
              "    </tr>\n",
              "    <tr>\n",
              "      <th>4</th>\n",
              "      <td>4503914235691008</td>\n",
              "      <td>1.0</td>\n",
              "      <td>solution federal i'm an offer innovations, chr...</td>\n",
              "      <td>351.710</td>\n",
              "      <td>695</td>\n",
              "      <td>912</td>\n",
              "      <td>solution federal im an offer innovations chris...</td>\n",
              "      <td>721</td>\n",
              "    </tr>\n",
              "  </tbody>\n",
              "</table>\n",
              "</div>"
            ],
            "text/plain": [
              "            call_id  ...  bert_tokenizer_length_no_punc\n",
              "0  4503600102440960  ...                            543\n",
              "1  4503602697142272  ...                            112\n",
              "2  4503732200472576  ...                            229\n",
              "3  4503877562466304  ...                            616\n",
              "4  4503914235691008  ...                            721\n",
              "\n",
              "[5 rows x 8 columns]"
            ]
          },
          "metadata": {
            "tags": []
          },
          "execution_count": 209
        }
      ]
    },
    {
      "cell_type": "code",
      "metadata": {
        "id": "is3L5axbS7xl",
        "colab_type": "code",
        "colab": {
          "base_uri": "https://localhost:8080/",
          "height": 122
        },
        "outputId": "d5fa305f-098f-44cb-e926-7caee14e04b5"
      },
      "source": [
        "# Import Drive API and authenticate.\n",
        "from google.colab import drive\n",
        "\n",
        "# Mount your Drive to the Colab VM.\n",
        "drive.mount('/gdrive')\n",
        "\n",
        "# Write the DataFrame to CSV file.\n",
        "with open('/gdrive/My Drive/csat_final.csv', 'w') as f:\n",
        "  dff.to_csv(f)"
      ],
      "execution_count": null,
      "outputs": [
        {
          "output_type": "stream",
          "text": [
            "Go to this URL in a browser: https://accounts.google.com/o/oauth2/auth?client_id=947318989803-6bn6qk8qdgf4n4g3pfee6491hc0brc4i.apps.googleusercontent.com&redirect_uri=urn%3aietf%3awg%3aoauth%3a2.0%3aoob&response_type=code&scope=email%20https%3a%2f%2fwww.googleapis.com%2fauth%2fdocs.test%20https%3a%2f%2fwww.googleapis.com%2fauth%2fdrive%20https%3a%2f%2fwww.googleapis.com%2fauth%2fdrive.photos.readonly%20https%3a%2f%2fwww.googleapis.com%2fauth%2fpeopleapi.readonly\n",
            "\n",
            "Enter your authorization code:\n",
            "··········\n",
            "Mounted at /gdrive\n"
          ],
          "name": "stdout"
        }
      ]
    },
    {
      "cell_type": "code",
      "metadata": {
        "id": "dvMjkAxC-KBY",
        "colab_type": "code",
        "colab": {
          "base_uri": "https://localhost:8080/",
          "height": 85
        },
        "outputId": "33717b61-858f-4bdc-fd55-3a19508670ee"
      },
      "source": [
        "dfb = dff[dff.bert_tokenizer_length_no_punc <= 512]\n",
        "dfb.groupby(['response_value'])['call_id'].nunique() #16.9% = minority class"
      ],
      "execution_count": null,
      "outputs": [
        {
          "output_type": "execute_result",
          "data": {
            "text/plain": [
              "response_value\n",
              "0.0     2527\n",
              "1.0    12452\n",
              "Name: call_id, dtype: int64"
            ]
          },
          "metadata": {
            "tags": []
          },
          "execution_count": 201
        }
      ]
    },
    {
      "cell_type": "code",
      "metadata": {
        "id": "OwBSJpLJNn0k",
        "colab_type": "code",
        "colab": {}
      },
      "source": [
        "from sklearn.feature_extraction.text import CountVectorizer, TfidfVectorizer"
      ],
      "execution_count": null,
      "outputs": []
    },
    {
      "cell_type": "code",
      "metadata": {
        "id": "WmAE8FVBRhLR",
        "colab_type": "code",
        "colab": {
          "base_uri": "https://localhost:8080/",
          "height": 68
        },
        "outputId": "4dbe83e4-e210-41fb-971b-21114fe16f79"
      },
      "source": [
        "%%time\n",
        "vect = CountVectorizer()\n",
        "vect.fit(dff.text)\n",
        "print(len(vect.vocabulary_)) #The count vectorizer has extracted 50,667 words out of the corpus!"
      ],
      "execution_count": null,
      "outputs": [
        {
          "output_type": "stream",
          "text": [
            "50667\n",
            "CPU times: user 8.92 s, sys: 134 ms, total: 9.05 s\n",
            "Wall time: 9.07 s\n"
          ],
          "name": "stdout"
        }
      ]
    },
    {
      "cell_type": "code",
      "metadata": {
        "id": "byeWrDBtR7Vy",
        "colab_type": "code",
        "colab": {
          "base_uri": "https://localhost:8080/",
          "height": 51
        },
        "outputId": "fbf2e955-f48f-4b86-e72c-fc3483f701ca"
      },
      "source": [
        "%%time\n",
        "neg_mat = vect.transform(dff[dff.response_value == 0].text)\n",
        "pos_mat = vect.transform(dff[dff.response_value == 1].text)\n",
        "neg_tf = np.sum(neg_mat,axis=0)\n",
        "pos_tf = np.sum(pos_mat,axis=0)\n",
        "neg = np.squeeze(np.asarray(neg_tf))\n",
        "pos = np.squeeze(np.asarray(pos_tf))\n",
        "term_freq_df = pd.DataFrame([neg,pos],columns=vect.get_feature_names()).transpose()"
      ],
      "execution_count": null,
      "outputs": [
        {
          "output_type": "stream",
          "text": [
            "CPU times: user 13.4 s, sys: 67.9 ms, total: 13.5 s\n",
            "Wall time: 13.5 s\n"
          ],
          "name": "stdout"
        }
      ]
    },
    {
      "cell_type": "code",
      "metadata": {
        "id": "VnJhXJibSJgh",
        "colab_type": "code",
        "colab": {}
      },
      "source": [
        "with open('/gdrive/My Drive/term_freq_df.csv', 'w') as f:\n",
        "  term_freq_df.to_csv(f)"
      ],
      "execution_count": null,
      "outputs": []
    },
    {
      "cell_type": "code",
      "metadata": {
        "id": "JJ3SNoB3TbPg",
        "colab_type": "code",
        "colab": {
          "base_uri": "https://localhost:8080/",
          "height": 34
        },
        "outputId": "20031c4b-feca-4b3d-b453-ca680674e902"
      },
      "source": [
        "from google.colab import drive \n",
        "drive.mount('/content/gdrive')\n",
        "df2=pd.read_csv('gdrive/My Drive/term_freq_df.csv',header=None, skiprows=1,index_col=0)"
      ],
      "execution_count": null,
      "outputs": [
        {
          "output_type": "stream",
          "text": [
            "Drive already mounted at /content/gdrive; to attempt to forcibly remount, call drive.mount(\"/content/gdrive\", force_remount=True).\n"
          ],
          "name": "stdout"
        }
      ]
    },
    {
      "cell_type": "code",
      "metadata": {
        "id": "x69QDpk-TuPO",
        "colab_type": "code",
        "colab": {
          "base_uri": "https://localhost:8080/",
          "height": 235
        },
        "outputId": "fee3a90c-cae6-45ea-8296-9d426af5476d"
      },
      "source": [
        "df2.head()"
      ],
      "execution_count": null,
      "outputs": [
        {
          "output_type": "execute_result",
          "data": {
            "text/html": [
              "<div>\n",
              "<style scoped>\n",
              "    .dataframe tbody tr th:only-of-type {\n",
              "        vertical-align: middle;\n",
              "    }\n",
              "\n",
              "    .dataframe tbody tr th {\n",
              "        vertical-align: top;\n",
              "    }\n",
              "\n",
              "    .dataframe thead th {\n",
              "        text-align: right;\n",
              "    }\n",
              "</style>\n",
              "<table border=\"1\" class=\"dataframe\">\n",
              "  <thead>\n",
              "    <tr style=\"text-align: right;\">\n",
              "      <th></th>\n",
              "      <th>1</th>\n",
              "      <th>2</th>\n",
              "    </tr>\n",
              "    <tr>\n",
              "      <th>0</th>\n",
              "      <th></th>\n",
              "      <th></th>\n",
              "    </tr>\n",
              "  </thead>\n",
              "  <tbody>\n",
              "    <tr>\n",
              "      <th>00</th>\n",
              "      <td>0</td>\n",
              "      <td>9</td>\n",
              "    </tr>\n",
              "    <tr>\n",
              "      <th>01</th>\n",
              "      <td>1</td>\n",
              "      <td>9</td>\n",
              "    </tr>\n",
              "    <tr>\n",
              "      <th>015</th>\n",
              "      <td>0</td>\n",
              "      <td>2</td>\n",
              "    </tr>\n",
              "    <tr>\n",
              "      <th>017</th>\n",
              "      <td>0</td>\n",
              "      <td>1</td>\n",
              "    </tr>\n",
              "    <tr>\n",
              "      <th>02</th>\n",
              "      <td>0</td>\n",
              "      <td>5</td>\n",
              "    </tr>\n",
              "  </tbody>\n",
              "</table>\n",
              "</div>"
            ],
            "text/plain": [
              "     1  2\n",
              "0        \n",
              "00   0  9\n",
              "01   1  9\n",
              "015  0  2\n",
              "017  0  1\n",
              "02   0  5"
            ]
          },
          "metadata": {
            "tags": []
          },
          "execution_count": 218
        }
      ]
    },
    {
      "cell_type": "code",
      "metadata": {
        "id": "91hL8iz9T4Uw",
        "colab_type": "code",
        "colab": {}
      },
      "source": [
        "df2.columns = ['negative', 'positive']\n",
        "df2['total'] = df2['negative'] + df2['positive']"
      ],
      "execution_count": null,
      "outputs": []
    },
    {
      "cell_type": "code",
      "metadata": {
        "id": "DNxthHM1UQk0",
        "colab_type": "code",
        "colab": {
          "base_uri": "https://localhost:8080/",
          "height": 235
        },
        "outputId": "22db1474-746b-4d58-9a31-e8bc1c109f74"
      },
      "source": [
        "df2.head()"
      ],
      "execution_count": null,
      "outputs": [
        {
          "output_type": "execute_result",
          "data": {
            "text/html": [
              "<div>\n",
              "<style scoped>\n",
              "    .dataframe tbody tr th:only-of-type {\n",
              "        vertical-align: middle;\n",
              "    }\n",
              "\n",
              "    .dataframe tbody tr th {\n",
              "        vertical-align: top;\n",
              "    }\n",
              "\n",
              "    .dataframe thead th {\n",
              "        text-align: right;\n",
              "    }\n",
              "</style>\n",
              "<table border=\"1\" class=\"dataframe\">\n",
              "  <thead>\n",
              "    <tr style=\"text-align: right;\">\n",
              "      <th></th>\n",
              "      <th>negative</th>\n",
              "      <th>positive</th>\n",
              "      <th>total</th>\n",
              "    </tr>\n",
              "    <tr>\n",
              "      <th>0</th>\n",
              "      <th></th>\n",
              "      <th></th>\n",
              "      <th></th>\n",
              "    </tr>\n",
              "  </thead>\n",
              "  <tbody>\n",
              "    <tr>\n",
              "      <th>00</th>\n",
              "      <td>0</td>\n",
              "      <td>9</td>\n",
              "      <td>9</td>\n",
              "    </tr>\n",
              "    <tr>\n",
              "      <th>01</th>\n",
              "      <td>1</td>\n",
              "      <td>9</td>\n",
              "      <td>10</td>\n",
              "    </tr>\n",
              "    <tr>\n",
              "      <th>015</th>\n",
              "      <td>0</td>\n",
              "      <td>2</td>\n",
              "      <td>2</td>\n",
              "    </tr>\n",
              "    <tr>\n",
              "      <th>017</th>\n",
              "      <td>0</td>\n",
              "      <td>1</td>\n",
              "      <td>1</td>\n",
              "    </tr>\n",
              "    <tr>\n",
              "      <th>02</th>\n",
              "      <td>0</td>\n",
              "      <td>5</td>\n",
              "      <td>5</td>\n",
              "    </tr>\n",
              "  </tbody>\n",
              "</table>\n",
              "</div>"
            ],
            "text/plain": [
              "     negative  positive  total\n",
              "0                             \n",
              "00          0         9      9\n",
              "01          1         9     10\n",
              "015         0         2      2\n",
              "017         0         1      1\n",
              "02          0         5      5"
            ]
          },
          "metadata": {
            "tags": []
          },
          "execution_count": 220
        }
      ]
    },
    {
      "cell_type": "code",
      "metadata": {
        "id": "J2QJddy_USA6",
        "colab_type": "code",
        "colab": {
          "base_uri": "https://localhost:8080/",
          "height": 700
        },
        "outputId": "615e38af-1f59-4cb7-97f7-93581bc79b05"
      },
      "source": [
        "df2.sort_values(by='total', ascending=False).iloc[:20]"
      ],
      "execution_count": null,
      "outputs": [
        {
          "output_type": "execute_result",
          "data": {
            "text/html": [
              "<div>\n",
              "<style scoped>\n",
              "    .dataframe tbody tr th:only-of-type {\n",
              "        vertical-align: middle;\n",
              "    }\n",
              "\n",
              "    .dataframe tbody tr th {\n",
              "        vertical-align: top;\n",
              "    }\n",
              "\n",
              "    .dataframe thead th {\n",
              "        text-align: right;\n",
              "    }\n",
              "</style>\n",
              "<table border=\"1\" class=\"dataframe\">\n",
              "  <thead>\n",
              "    <tr style=\"text-align: right;\">\n",
              "      <th></th>\n",
              "      <th>negative</th>\n",
              "      <th>positive</th>\n",
              "      <th>total</th>\n",
              "    </tr>\n",
              "    <tr>\n",
              "      <th>0</th>\n",
              "      <th></th>\n",
              "      <th></th>\n",
              "      <th></th>\n",
              "    </tr>\n",
              "  </thead>\n",
              "  <tbody>\n",
              "    <tr>\n",
              "      <th>the</th>\n",
              "      <td>53926</td>\n",
              "      <td>554154</td>\n",
              "      <td>608080</td>\n",
              "    </tr>\n",
              "    <tr>\n",
              "      <th>you</th>\n",
              "      <td>54303</td>\n",
              "      <td>527830</td>\n",
              "      <td>582133</td>\n",
              "    </tr>\n",
              "    <tr>\n",
              "      <th>to</th>\n",
              "      <td>45299</td>\n",
              "      <td>404857</td>\n",
              "      <td>450156</td>\n",
              "    </tr>\n",
              "    <tr>\n",
              "      <th>and</th>\n",
              "      <td>37256</td>\n",
              "      <td>400020</td>\n",
              "      <td>437276</td>\n",
              "    </tr>\n",
              "    <tr>\n",
              "      <th>that</th>\n",
              "      <td>29839</td>\n",
              "      <td>313573</td>\n",
              "      <td>343412</td>\n",
              "    </tr>\n",
              "    <tr>\n",
              "      <th>okay</th>\n",
              "      <td>25471</td>\n",
              "      <td>278404</td>\n",
              "      <td>303875</td>\n",
              "    </tr>\n",
              "    <tr>\n",
              "      <th>so</th>\n",
              "      <td>22100</td>\n",
              "      <td>224128</td>\n",
              "      <td>246228</td>\n",
              "    </tr>\n",
              "    <tr>\n",
              "      <th>it</th>\n",
              "      <td>22672</td>\n",
              "      <td>215983</td>\n",
              "      <td>238655</td>\n",
              "    </tr>\n",
              "    <tr>\n",
              "      <th>is</th>\n",
              "      <td>20524</td>\n",
              "      <td>199012</td>\n",
              "      <td>219536</td>\n",
              "    </tr>\n",
              "    <tr>\n",
              "      <th>for</th>\n",
              "      <td>18424</td>\n",
              "      <td>186603</td>\n",
              "      <td>205027</td>\n",
              "    </tr>\n",
              "    <tr>\n",
              "      <th>have</th>\n",
              "      <td>15340</td>\n",
              "      <td>166979</td>\n",
              "      <td>182319</td>\n",
              "    </tr>\n",
              "    <tr>\n",
              "      <th>on</th>\n",
              "      <td>16834</td>\n",
              "      <td>147630</td>\n",
              "      <td>164464</td>\n",
              "    </tr>\n",
              "    <tr>\n",
              "      <th>in</th>\n",
              "      <td>13230</td>\n",
              "      <td>140881</td>\n",
              "      <td>154111</td>\n",
              "    </tr>\n",
              "    <tr>\n",
              "      <th>be</th>\n",
              "      <td>11282</td>\n",
              "      <td>134572</td>\n",
              "      <td>145854</td>\n",
              "    </tr>\n",
              "    <tr>\n",
              "      <th>just</th>\n",
              "      <td>13131</td>\n",
              "      <td>132438</td>\n",
              "      <td>145569</td>\n",
              "    </tr>\n",
              "    <tr>\n",
              "      <th>yeah</th>\n",
              "      <td>12183</td>\n",
              "      <td>128021</td>\n",
              "      <td>140204</td>\n",
              "    </tr>\n",
              "    <tr>\n",
              "      <th>of</th>\n",
              "      <td>11614</td>\n",
              "      <td>127508</td>\n",
              "      <td>139122</td>\n",
              "    </tr>\n",
              "    <tr>\n",
              "      <th>we</th>\n",
              "      <td>10954</td>\n",
              "      <td>127656</td>\n",
              "      <td>138610</td>\n",
              "    </tr>\n",
              "    <tr>\n",
              "      <th>can</th>\n",
              "      <td>14237</td>\n",
              "      <td>116276</td>\n",
              "      <td>130513</td>\n",
              "    </tr>\n",
              "    <tr>\n",
              "      <th>do</th>\n",
              "      <td>11525</td>\n",
              "      <td>117857</td>\n",
              "      <td>129382</td>\n",
              "    </tr>\n",
              "  </tbody>\n",
              "</table>\n",
              "</div>"
            ],
            "text/plain": [
              "      negative  positive   total\n",
              "0                               \n",
              "the      53926    554154  608080\n",
              "you      54303    527830  582133\n",
              "to       45299    404857  450156\n",
              "and      37256    400020  437276\n",
              "that     29839    313573  343412\n",
              "okay     25471    278404  303875\n",
              "so       22100    224128  246228\n",
              "it       22672    215983  238655\n",
              "is       20524    199012  219536\n",
              "for      18424    186603  205027\n",
              "have     15340    166979  182319\n",
              "on       16834    147630  164464\n",
              "in       13230    140881  154111\n",
              "be       11282    134572  145854\n",
              "just     13131    132438  145569\n",
              "yeah     12183    128021  140204\n",
              "of       11614    127508  139122\n",
              "we       10954    127656  138610\n",
              "can      14237    116276  130513\n",
              "do       11525    117857  129382"
            ]
          },
          "metadata": {
            "tags": []
          },
          "execution_count": 221
        }
      ]
    },
    {
      "cell_type": "code",
      "metadata": {
        "id": "byYAFvazUWYx",
        "colab_type": "code",
        "colab": {}
      },
      "source": [
        ""
      ],
      "execution_count": null,
      "outputs": []
    }
  ]
}