{
 "cells": [
  {
   "cell_type": "code",
   "execution_count": 19,
   "metadata": {},
   "outputs": [
    {
     "name": "stdout",
     "output_type": "stream",
     "text": [
      "Mon Nov 16 18:06:58 2020       \n",
      "+-----------------------------------------------------------------------------+\n",
      "| NVIDIA-SMI 450.51.06    Driver Version: 450.51.06    CUDA Version: 11.0     |\n",
      "|-------------------------------+----------------------+----------------------+\n",
      "| GPU  Name        Persistence-M| Bus-Id        Disp.A | Volatile Uncorr. ECC |\n",
      "| Fan  Temp  Perf  Pwr:Usage/Cap|         Memory-Usage | GPU-Util  Compute M. |\n",
      "|                               |                      |               MIG M. |\n",
      "|===============================+======================+======================|\n",
      "|   0  Tesla V100-SXM2...  Off  | 00000000:00:04.0 Off |                    0 |\n",
      "| N/A   36C    P0    38W / 300W |   5611MiB / 16160MiB |      0%      Default |\n",
      "|                               |                      |                  N/A |\n",
      "+-------------------------------+----------------------+----------------------+\n",
      "                                                                               \n",
      "+-----------------------------------------------------------------------------+\n",
      "| Processes:                                                                  |\n",
      "|  GPU   GI   CI        PID   Type   Process name                  GPU Memory |\n",
      "|        ID   ID                                                   Usage      |\n",
      "|=============================================================================|\n",
      "|    0   N/A  N/A      1836      C   /opt/conda/bin/python            5609MiB |\n",
      "+-----------------------------------------------------------------------------+\n"
     ]
    }
   ],
   "source": [
    "!nvidia-smi"
   ]
  },
  {
   "cell_type": "code",
   "execution_count": 2,
   "metadata": {},
   "outputs": [],
   "source": [
    "import os\n",
    "import csv\n",
    "import json\n",
    "import pandas as pd\n",
    "import numpy as np\n",
    "import string\n",
    "import torch\n",
    "from torch.utils.data import TensorDataset, DataLoader\n",
    "from tqdm import notebook\n",
    "import itertools\n",
    "import seaborn as sns\n",
    "from google.cloud import bigquery\n",
    "from google.cloud import storage\n",
    "from datetime import date\n",
    "import matplotlib.pyplot as plt\n",
    "from sklearn.model_selection import train_test_split\n",
    "from sklearn.metrics import accuracy_score, confusion_matrix, precision_recall_fscore_support\n",
    "from transformers import (XLNetTokenizer,\n",
    "                          XLNetConfig,\n",
    "                          XLNetForSequenceClassification,\n",
    "                          AdamW,\n",
    "                          get_cosine_schedule_with_warmup)\n",
    "\n",
    "tokenizer = XLNetTokenizer.from_pretrained('xlnet-base-cased')"
   ]
  },
  {
   "cell_type": "code",
   "execution_count": 3,
   "metadata": {},
   "outputs": [],
   "source": [
    "def regex_filter(df):\n",
    "    df[\"final_utterance\"] = df[\"final_utterance\"].str.lower()\n",
    "\n",
    "    regex_patterns={\n",
    "      # replace \"uh.,\" \"um.,\" \"ah.,\" \"mm.,\", \"oh.,!?\" with blank but we leave uh-hum/mm-hmm in there\n",
    "      r'(\\buh(\\,|\\.|\\s|\\?))': ' ',\n",
    "      r'(\\bum(\\,|\\.|\\s|\\?))': ' ',\n",
    "      r'(\\bah\\W)': ' ',\n",
    "      r'(\\bmm(\\,|\\.|\\s|\\!|\\?))': ' ',\n",
    "      r'(\\boh(\\,|\\.|\\s|\\!|\\?))': ' ',\n",
    "\n",
    "      r'(\\s*(?:\\+?(\\d{1,3}))?[-. (]*(\\d{3})?[-. )]*(\\d{3})[-. ]*(\\d{4})(?: *x(\\d+))?\\s*)': ' ', # remove 10 digit and 7 digit numbers  e.g., 456-123-0000 and 123-0000\n",
    "      r'(\\d{3,})': '', # remove any numbers that has length 3 or more \n",
    "      r'\\b(\\w+)((?:\\W+?)(\\s+)?\\1\\b)+': r'\\1', # replaces duplicate words with a single instance of that word. \"yup, yup thank thank you. bye-bye\" -> \"yup thank you. bye\" \n",
    "      r'([a-zA-Z0-9._-]+(\\s+)?@[a-zA-Z0-9._-]+\\.[a-zA-Z0-9_-]+)': '[email]',\n",
    "      r'(\\bok\\b)': 'okay',  #replaces \"ok\" with \"okay\"\n",
    "      r'(ma\\'am)': 'madam', #replaces ma'am with madam \n",
    "      r'(\\s{2,})': ' '#replaces 2 or more whitespaces with a single one\n",
    "    }\n",
    "\n",
    "    df['final_utterance'].replace(regex=regex_patterns, inplace=True)\n",
    "    df['final_utterance'] = df['final_utterance'].str.strip() \n",
    "\n",
    "    return df\n",
    "\n",
    "def get_duration_col(df, has_response=True):\n",
    "    df_min = df.groupby(['call_id'])['time_start'].min().reset_index()\n",
    "    df_max = df.groupby(['call_id'])['time_end'].max().reset_index()\n",
    "    df_time = pd.merge(df_min, df_max, on='call_id')\n",
    "    df_time['duration'] = df_time.time_end - df_time.time_start\n",
    "\n",
    "    # combine all the utterances grouped by the call_id into a single conversation. \n",
    "    if has_response:\n",
    "        df_combined = df.groupby(['call_id', 'response_value']).agg({'final_utterance': ' '.join}).reset_index()\n",
    "        dfr = pd.merge(df_combined, df_time[['call_id', 'duration']], on='call_id')\n",
    "    else:\n",
    "        df_combined = df.groupby(['call_id']).agg({'final_utterance': ' '.join}).reset_index()\n",
    "        dfr = pd.merge(df_combined, df_time[['call_id', 'duration']], on='call_id')\n",
    "\n",
    "    return dfr\n",
    "\n",
    "def encode_labels(df):\n",
    "    filter_method = lambda x: 0 if x < 3 else 1 if (x >3) else None\n",
    "    df['response_value'] = df.response_value.apply(filter_method)\n",
    "    df = df[df['response_value'].notna()]\n",
    "\n",
    "    return df\n",
    "\n",
    "def exclude_disconnected_calls(df):\n",
    "    dfn = df[df.text_length.gt(30)].reset_index()\n",
    "\n",
    "    dfn[\"last_10_words\"] = dfn['text'].str.split().str[-10:].str.join(\" \").str.strip() \n",
    "    dfn[\"last_65_words\"] = dfn['text'].str.split().str[-65:].str.join(\" \").str.strip() \n",
    "\n",
    "    dropcall_words = ['one moment', 'hello', 'hold on', 'on hold', 'brief hold', 'hang tight','one second', 'breaking up', 'breaking in', 'transfer', 'hear me', 'hear you', 'hung up', 'disconnect']\n",
    "    bye_words = ['bye', 'see you', 'talk to you', 'appreciate', 'good', 'great']\n",
    "    survey_words = ['following this call','participate','survey','one question','bye','great day','great weekend','good day', 'good weekend', 'wonderful day', 'wonderful weekend','see you','welcome']\n",
    "\n",
    "    # drop all calls related to disconnection / does not make sense / seem to get disconnected unexpectedly.\n",
    "    dfn = dfn[~((dfn.text_length < 100) & \n",
    "          ((dfn['last_10_words'].str.contains('|'.join(dropcall_words))) | (~dfn['last_10_words'].str.contains('|'.join(bye_words)))))]\n",
    "\n",
    "    #There seems to be many calls where the agent explicitly tells the customer that there will be a one question survey at the end of the call \n",
    "    #so to exclude these calls, i'll search for particular strings in the last 65 words. \n",
    "    dfn = dfn[~((dfn.text_length >= 100) & \n",
    "      (\n",
    "          ((dfn['last_10_words'].str.contains('|'.join(dropcall_words))) & (~dfn['last_10_words'].str.contains('|'.join(bye_words)))) | \n",
    "          ((dfn['last_10_words'].str.contains('|'.join(dropcall_words))) & (~dfn['last_65_words'].str.contains('|'.join(survey_words))))\n",
    "      )\n",
    "    )]\n",
    "\n",
    "    return dfn\n",
    "\n",
    "def get_last_768_tokens(text):\n",
    "    #We tokenize using XLNet's sentencepiece tokenizer into their respective ids and take only the last 768 tokens\n",
    "    ids = [tokenizer.convert_tokens_to_ids(tokenizer.tokenize(inputs)[-768:]) for inputs in notebook.tqdm(text)]\n",
    "\n",
    "    #We decode the ids back into text to use the encode_plus function\n",
    "    ids_to_text = [tokenizer.decode(inputs) for inputs in notebook.tqdm(ids)]\n",
    "\n",
    "    return ids_to_text"
   ]
  },
  {
   "cell_type": "code",
   "execution_count": 4,
   "metadata": {},
   "outputs": [
    {
     "data": {
      "text/html": [
       "<div>\n",
       "<style scoped>\n",
       "    .dataframe tbody tr th:only-of-type {\n",
       "        vertical-align: middle;\n",
       "    }\n",
       "\n",
       "    .dataframe tbody tr th {\n",
       "        vertical-align: top;\n",
       "    }\n",
       "\n",
       "    .dataframe thead th {\n",
       "        text-align: right;\n",
       "    }\n",
       "</style>\n",
       "<table border=\"1\" class=\"dataframe\">\n",
       "  <thead>\n",
       "    <tr style=\"text-align: right;\">\n",
       "      <th></th>\n",
       "      <th>company_id</th>\n",
       "      <th>company_name</th>\n",
       "      <th>call_id</th>\n",
       "      <th>call_side</th>\n",
       "      <th>final_utterance</th>\n",
       "      <th>response_value</th>\n",
       "      <th>duration</th>\n",
       "      <th>PARTITIONTIME</th>\n",
       "      <th>text</th>\n",
       "      <th>text_length</th>\n",
       "    </tr>\n",
       "  </thead>\n",
       "  <tbody>\n",
       "    <tr>\n",
       "      <th>0</th>\n",
       "      <td>5539601739481088</td>\n",
       "      <td>INDECS</td>\n",
       "      <td>4503952611147776</td>\n",
       "      <td>caller</td>\n",
       "      <td>it's too much holding. mr. qazi okay. so each ...</td>\n",
       "      <td>1.0</td>\n",
       "      <td>1665.545</td>\n",
       "      <td>2020-05-26 00:00:00+00:00</td>\n",
       "      <td>it s too much holding  mr  qazi okay  so each ...</td>\n",
       "      <td>1060</td>\n",
       "    </tr>\n",
       "    <tr>\n",
       "      <th>1</th>\n",
       "      <td>5539601739481088</td>\n",
       "      <td>INDECS</td>\n",
       "      <td>4503952611147776</td>\n",
       "      <td>callee</td>\n",
       "      <td>hi, chiffon hobby you.,fine, let me give it a ...</td>\n",
       "      <td>1.0</td>\n",
       "      <td>1665.545</td>\n",
       "      <td>2020-05-26 00:00:00+00:00</td>\n",
       "      <td>hi  chiffon hobby you fine  let me give it a o...</td>\n",
       "      <td>1758</td>\n",
       "    </tr>\n",
       "    <tr>\n",
       "      <th>2</th>\n",
       "      <td>4507880442626048</td>\n",
       "      <td>Ace Solves It All</td>\n",
       "      <td>4506745656901632</td>\n",
       "      <td>callee</td>\n",
       "      <td>just call me.,okay., ,yes, i do.,  okay.,yeah,...</td>\n",
       "      <td>1.0</td>\n",
       "      <td>363.480</td>\n",
       "      <td>2020-06-02 00:00:00+00:00</td>\n",
       "      <td>just call me okay   yes  i do   okay yeah  sur...</td>\n",
       "      <td>30</td>\n",
       "    </tr>\n",
       "    <tr>\n",
       "      <th>3</th>\n",
       "      <td>4507880442626048</td>\n",
       "      <td>Ace Solves It All</td>\n",
       "      <td>4506745656901632</td>\n",
       "      <td>caller</td>\n",
       "      <td>thank you for calling a cellphone, all this is...</td>\n",
       "      <td>1.0</td>\n",
       "      <td>363.480</td>\n",
       "      <td>2020-06-02 00:00:00+00:00</td>\n",
       "      <td>thank you for calling a cellphone  all this is...</td>\n",
       "      <td>113</td>\n",
       "    </tr>\n",
       "    <tr>\n",
       "      <th>4</th>\n",
       "      <td>5171131407663104</td>\n",
       "      <td>Roadrunner Financial</td>\n",
       "      <td>4508112631693312</td>\n",
       "      <td>caller</td>\n",
       "      <td>thanks for holding mister, he'll, i do apologi...</td>\n",
       "      <td>0.0</td>\n",
       "      <td>337.251</td>\n",
       "      <td>2020-06-08 00:00:00+00:00</td>\n",
       "      <td>thanks for holding mister  he ll  i do apologi...</td>\n",
       "      <td>329</td>\n",
       "    </tr>\n",
       "  </tbody>\n",
       "</table>\n",
       "</div>"
      ],
      "text/plain": [
       "         company_id          company_name           call_id call_side  \\\n",
       "0  5539601739481088                INDECS  4503952611147776    caller   \n",
       "1  5539601739481088                INDECS  4503952611147776    callee   \n",
       "2  4507880442626048     Ace Solves It All  4506745656901632    callee   \n",
       "3  4507880442626048     Ace Solves It All  4506745656901632    caller   \n",
       "4  5171131407663104  Roadrunner Financial  4508112631693312    caller   \n",
       "\n",
       "                                     final_utterance  response_value  \\\n",
       "0  it's too much holding. mr. qazi okay. so each ...             1.0   \n",
       "1  hi, chiffon hobby you.,fine, let me give it a ...             1.0   \n",
       "2  just call me.,okay., ,yes, i do.,  okay.,yeah,...             1.0   \n",
       "3  thank you for calling a cellphone, all this is...             1.0   \n",
       "4  thanks for holding mister, he'll, i do apologi...             0.0   \n",
       "\n",
       "   duration             PARTITIONTIME  \\\n",
       "0  1665.545 2020-05-26 00:00:00+00:00   \n",
       "1  1665.545 2020-05-26 00:00:00+00:00   \n",
       "2   363.480 2020-06-02 00:00:00+00:00   \n",
       "3   363.480 2020-06-02 00:00:00+00:00   \n",
       "4   337.251 2020-06-08 00:00:00+00:00   \n",
       "\n",
       "                                                text  text_length  \n",
       "0  it s too much holding  mr  qazi okay  so each ...         1060  \n",
       "1  hi  chiffon hobby you fine  let me give it a o...         1758  \n",
       "2  just call me okay   yes  i do   okay yeah  sur...           30  \n",
       "3  thank you for calling a cellphone  all this is...          113  \n",
       "4  thanks for holding mister  he ll  i do apologi...          329  "
      ]
     },
     "execution_count": 4,
     "metadata": {},
     "output_type": "execute_result"
    }
   ],
   "source": [
    "project_id = 'talkiq-data'\n",
    "client = bigquery.Client(project=project_id)\n",
    "\n",
    "#This table contains the calls that are similar to the 1536, oversampled experiment but with 400 fewer calls because they are removed from data_science_pii.final_utterance\n",
    "query = \"\"\"\n",
    "SELECT *\n",
    "FROM `talkiq-data.ai_research.csat_2_call_sides_utterances_v1`\n",
    "\"\"\"\n",
    "\n",
    "df = client.query(query).to_dataframe() \n",
    "df = regex_filter(df)\n",
    "\n",
    "#remove all punctuation \n",
    "df['text'] = df['final_utterance'].str.replace(r'[^\\w\\s]+', ' ')\n",
    "df['text_length'] = df['text'].str.split().str.len()\n",
    "\n",
    "df.head()"
   ]
  },
  {
   "cell_type": "code",
   "execution_count": 5,
   "metadata": {},
   "outputs": [],
   "source": [
    "from torch.utils.data import DataLoader\n",
    "from transformers import (XLNetConfig,\n",
    "                        XLNetForSequenceClassification,\n",
    "                        AdamW,\n",
    "                        get_cosine_schedule_with_warmup)"
   ]
  },
  {
   "cell_type": "code",
   "execution_count": null,
   "metadata": {},
   "outputs": [
    {
     "data": {
      "application/vnd.jupyter.widget-view+json": {
       "model_id": "8226718c259742a993ae74e3b9c94f58",
       "version_major": 2,
       "version_minor": 0
      },
      "text/plain": [
       "HBox(children=(HTML(value=''), FloatProgress(value=0.0, max=53538.0), HTML(value='')))"
      ]
     },
     "metadata": {},
     "output_type": "display_data"
    },
    {
     "name": "stdout",
     "output_type": "stream",
     "text": [
      "\n"
     ]
    },
    {
     "data": {
      "application/vnd.jupyter.widget-view+json": {
       "model_id": "3457f52427a24ebaac79b27122139eb3",
       "version_major": 2,
       "version_minor": 0
      },
      "text/plain": [
       "HBox(children=(HTML(value=''), FloatProgress(value=0.0, max=53538.0), HTML(value='')))"
      ]
     },
     "metadata": {},
     "output_type": "display_data"
    }
   ],
   "source": [
    "tokenizer = XLNetTokenizer.from_pretrained('xlnet-base-cased')\n",
    "df['last_768_tokens_text'] = get_last_768_tokens(df.text)"
   ]
  },
  {
   "cell_type": "code",
   "execution_count": null,
   "metadata": {},
   "outputs": [],
   "source": [
    "df.groupby(['response_value'])['call_id'].nunique()"
   ]
  },
  {
   "cell_type": "code",
   "execution_count": null,
   "metadata": {},
   "outputs": [],
   "source": [
    "print(df.groupby(['response_value'])['call_id'].nunique(),\"\\n\")\n",
    "\n",
    "#15.03% = minority class\n",
    "print(\"Minority Class %:\", df.groupby(['response_value'])['call_id'].nunique()[0] / (df.groupby(['response_value'])['call_id'].nunique()[0] + df.groupby(['response_value'])['call_id'].nunique()[1])*100)"
   ]
  },
  {
   "cell_type": "code",
   "execution_count": null,
   "metadata": {},
   "outputs": [],
   "source": [
    "#Pivot the df such that we have each call side's transcripts to be a column\n",
    "df_pivot=df.set_index(['call_id','call_side','response_value']).unstack('call_side').last_768_tokens_text.reset_index().drop(np.nan, axis=1)\n",
    "df_pivot=df_pivot.rename(columns={'caller':'last_768_tokens_caller', 'callee':'last_768_tokens_callee'})\n",
    "df_pivot.head()"
   ]
  },
  {
   "cell_type": "code",
   "execution_count": null,
   "metadata": {},
   "outputs": [],
   "source": [
    "#filter out calls where the last_768_tokens_callee and last_768_tokens_caller columns are both null. Upon investigation, these 443 calls were actually removed\n",
    "#from `data_science_pii.tastes_utterances_final`\n",
    "df_pivot = df_pivot[~((df_pivot['last_768_tokens_callee'].isna()) & (df_pivot['last_768_tokens_caller'].isna()))]\n",
    "df_pivot[['last_768_tokens_callee','last_768_tokens_caller']] = df_pivot[['last_768_tokens_callee','last_768_tokens_caller']].fillna('')"
   ]
  },
  {
   "cell_type": "markdown",
   "metadata": {},
   "source": [
    "## Checking class distribution"
   ]
  },
  {
   "cell_type": "code",
   "execution_count": null,
   "metadata": {},
   "outputs": [],
   "source": [
    "df_pivot.response_value.value_counts()"
   ]
  },
  {
   "cell_type": "markdown",
   "metadata": {},
   "source": [
    "## Train / Valid / Test Stratified Split\n",
    "\n",
    "To get train, validation and test set, we need to perform 2 splits.\n",
    "* First, we split the original dataframe for a 80-20 split. \n",
    "* Next, we split the former 20%-split by 50/50 to get our validation and test set. \n",
    "\n",
    "**More importantly, we stratify the split so that we maintain the same class imbalance ratio for train, valid and test sets**"
   ]
  },
  {
   "cell_type": "code",
   "execution_count": null,
   "metadata": {},
   "outputs": [],
   "source": [
    "#This csv files are the original train, valid, test sets that were used to train the 1536, oversampling model (Check 1536_VS_768 tab, cell A5)\n",
    "#Since the aim is to replicate the training of that model but with 2 call sides, we use this datasets to extract the call ids \n",
    "df_train1 = pd.read_csv('/home/jupyter/XLNet_1536_2callsides_v1/df_train_1536_b5.csv')\n",
    "df_valid1 = pd.read_csv('/home/jupyter/XLNet_1536_2callsides_v1/df_valid_1536_b5.csv')\n",
    "df_test1 = pd.read_csv('/home/jupyter/XLNet_1536_2callsides_v1/df_test_1536_b5.csv')\n",
    "\n",
    "df_train = df_pivot[df_pivot.call_id.isin(df_train1.call_id)].rename(columns={\"last_768_tokens_callee\":\"callee_text\", \"last_768_tokens_caller\":\"caller_text\"})\n",
    "df_valid = df_pivot[df_pivot.call_id.isin(df_valid1.call_id)].rename(columns={\"last_768_tokens_callee\":\"callee_text\", \"last_768_tokens_caller\":\"caller_text\"})\n",
    "df_test = df_pivot[df_pivot.call_id.isin(df_test1.call_id)].rename(columns={\"last_768_tokens_callee\":\"callee_text\", \"last_768_tokens_caller\":\"caller_text\"})\n",
    "print(\"Train size:\", len(df_train), \"\\nValidation size:\", len(df_valid), \"\\nTest size:\", len(df_test),\"\\n\")\n",
    "\n",
    "#Check to see that we have successfully divided and stratified the data correctly for train, validation, and test set\n",
    "print(\"Train low csat class count:\", df_train.response_value.value_counts()[0])\n",
    "print(\"Train high csat class count:\", df_train.response_value.value_counts()[1])\n",
    "print(\"Minority class imbalance %:\",df_train.response_value.value_counts()[0]/len(df_train),\"\\n\")\n",
    "\n",
    "print(\"Validation low csat class count:\", df_valid.response_value.value_counts()[0])\n",
    "print(\"Validation high csat class count:\", df_valid.response_value.value_counts()[1])\n",
    "print(\"Minority class imbalance %:\", df_valid.response_value.value_counts()[0]/len(df_valid),\"\\n\")\n",
    "\n",
    "print(\"Test low csat class count:\", df_test.response_value.value_counts()[0])\n",
    "print(\"Test high csat class count:\", df_test.response_value.value_counts()[1])\n",
    "print(\"Minority class imbalance %:\", df_test.response_value.value_counts()[0]/len(df_test))"
   ]
  },
  {
   "cell_type": "code",
   "execution_count": 148,
   "metadata": {},
   "outputs": [],
   "source": [
    "# Write the DataFrame to CSV file.\n",
    "with open('/home/jupyter/XLNet_1536_2callsides_v1/df_train.csv', 'w') as f:\n",
    "    df_train.to_csv(f)\n",
    "\n",
    "with open('/home/jupyter/XLNet_1536_2callsides_v1/df_valid.csv', 'w') as f:\n",
    "    df_valid.to_csv(f)\n",
    "\n",
    "with open('/home/jupyter/XLNet_1536_2callsides_v1/df_test.csv', 'w') as f:\n",
    "    df_test.to_csv(f)"
   ]
  },
  {
   "cell_type": "markdown",
   "metadata": {},
   "source": [
    "## Oversampling Training Data For Class Imbalance\n",
    "\n",
    "To deal with class imbalance, we will oversample the training data so that the classes will be balanced (50/50)"
   ]
  },
  {
   "cell_type": "code",
   "execution_count": null,
   "metadata": {},
   "outputs": [],
   "source": [
    "from imblearn.over_sampling import RandomOverSampler\n",
    "\n",
    "ros = RandomOverSampler(sampling_strategy=\"minority\", random_state=42)\n",
    "\n",
    "#Resample our text and values data \n",
    "X_train_resampled, y_train_resampled = ros.fit_resample(df_train[['call_id','caller_text','callee_text']], df_train[['response_value']])\n",
    "\n",
    "#Check to make sure the minority class is now balanced.\n",
    "print(\"Class balance:\", y_train_resampled.response_value.value_counts()[0] / len(y_train_resampled))"
   ]
  },
  {
   "cell_type": "code",
   "execution_count": null,
   "metadata": {},
   "outputs": [
    {
     "name": "stdout",
     "output_type": "stream",
     "text": [
      "\n"
     ]
    },
    {
     "data": {
      "application/vnd.jupyter.widget-view+json": {
       "model_id": "b8dfbdd2c7f348c1b0f49596487730fd",
       "version_major": 2,
       "version_minor": 0
      },
      "text/plain": [
       "HBox(children=(HTML(value=''), FloatProgress(value=0.0, max=2673.0), HTML(value='')))"
      ]
     },
     "metadata": {},
     "output_type": "display_data"
    }
   ],
   "source": [
    "# Tokenize all of the sentences and map the tokens to thier word IDs. \n",
    "# Set max length to 1539 because +3 is for special tokens [CLS] and [SEP] for 2 call sides (each call side is 768 tokens long)\n",
    "train_encoded_inputs = [tokenizer.encode_plus(X_train_resampled.caller_text[ind], X_train_resampled.callee_text[ind], return_token_type_ids=True, add_special_tokens = True, max_length=1539, padding='max_length', truncation='only_first', return_tensors='pt') for ind in notebook.tqdm(X_train_resampled.index)]\n",
    "\n",
    "#Creating a tensor dataset with the ENCODED inputs, labels and attention & token type id tensors.  \n",
    "train_inputs_tensor = torch.cat([x['input_ids'] for x in train_encoded_inputs])\n",
    "train_token_type_ids_tensor = torch.cat([x['token_type_ids'] for x in train_encoded_inputs]) #we need token_type_ids to identify between the 2 call sides\n",
    "train_attn_tensor = torch.cat([x['attention_mask'] for x in train_encoded_inputs])\n",
    "train_labels_tensor = torch.LongTensor(y_train_resampled.response_value.tolist())\n",
    "\n",
    "\n",
    "#Encoding for valid set\n",
    "valid_encoded_inputs = [tokenizer.encode_plus(df_valid.caller_text[ind], df_valid.callee_text[ind], return_token_type_ids=True, add_special_tokens = True, max_length=1539, padding='max_length', truncation='only_first', return_tensors='pt') for ind in notebook.tqdm(df_valid.index)]\n",
    "\n",
    "#Creating a tensor dataset with the ENCODED inputs, labels and attention & token type id tensors.  \n",
    "valid_inputs_tensor = torch.cat([x['input_ids'] for x in valid_encoded_inputs])\n",
    "valid_token_type_ids_tensor = torch.cat([x['token_type_ids'] for x in valid_encoded_inputs])\n",
    "valid_attn_tensor = torch.cat([x['attention_mask'] for x in valid_encoded_inputs])\n",
    "valid_labels_tensor = torch.LongTensor(df_valid.response_value.tolist())\n",
    "\n",
    "#Encoding for test set\n",
    "test_encoded_inputs = [tokenizer.encode_plus(df_test.caller_text[ind], df_test.callee_text[ind], return_token_type_ids=True, add_special_tokens = True, max_length=1539, padding='max_length', truncation='only_first', return_tensors='pt') for ind in notebook.tqdm(df_test.index)]\n",
    "\n",
    "#Creating a tensor dataset with the ENCODED inputs, labels and attention & token type id tensors.  \n",
    "test_inputs_tensor = torch.cat([x['input_ids'] for x in test_encoded_inputs])\n",
    "test_token_type_ids_tensor = torch.cat([x['token_type_ids'] for x in test_encoded_inputs])\n",
    "test_attn_tensor = torch.cat([x['attention_mask'] for x in test_encoded_inputs])\n",
    "test_labels_tensor = torch.LongTensor(df_test.response_value.tolist())"
   ]
  },
  {
   "cell_type": "code",
   "execution_count": null,
   "metadata": {},
   "outputs": [],
   "source": [
    "train_df = TensorDataset(train_inputs_tensor, train_token_type_ids_tensor, train_attn_tensor, train_labels_tensor)\n",
    "valid_df = TensorDataset(valid_inputs_tensor, valid_token_type_ids_tensor, valid_attn_tensor, valid_labels_tensor)\n",
    "test_df = TensorDataset(test_inputs_tensor, test_token_type_ids_tensor, test_attn_tensor, test_labels_tensor)\n",
    "\n",
    "#sample subset for debugging \n",
    "# aa_df = TensorDataset(train_inputs_tensor[:100], train_token_type_ids_tensor[:100], train_attn_tensor[:100], train_labels_tensor[:100])\n",
    "# bb_df = TensorDataset(valid_inputs_tensor[:100], valid_token_type_ids_tensor[:100], valid_attn_tensor[:100], valid_labels_tensor[:100])"
   ]
  },
  {
   "cell_type": "code",
   "execution_count": null,
   "metadata": {},
   "outputs": [],
   "source": [
    "import time\n",
    "import datetime\n",
    "\n",
    "def format_time(elapsed):\n",
    "    '''\n",
    "    Takes a time in seconds and returns a string hh:mm:ss\n",
    "    '''\n",
    "    # Round to the nearest second.\n",
    "    elapsed_rounded = int(round((elapsed)))\n",
    "    \n",
    "    # Format as hh:mm:ss\n",
    "    return str(datetime.timedelta(seconds=elapsed_rounded))\n",
    "\n",
    "class csatXLNet:\n",
    "    DEVICE = \"cuda\" if torch.cuda.is_available() else \"cpu\"\n",
    "    \n",
    "    def __init__(self,\n",
    "                 xlnet_pretrained_model='xlnet-base-cased',\n",
    "                 freeze_layers = True,\n",
    "                 train_batch_size=4,\n",
    "                 eval_batch_size=4,\n",
    "                 num_labels=2):\n",
    "\n",
    "        # define hyperparameters\n",
    "        self.train_batch_size = train_batch_size\n",
    "        self.eval_batch_size = eval_batch_size\n",
    "        self.num_labels = num_labels\n",
    "\n",
    "        # loading pre-trained models\n",
    "        self.config = XLNetConfig.from_pretrained(xlnet_pretrained_model)\n",
    "        self.config.num_labels = num_labels\n",
    "        self.model = XLNetForSequenceClassification.from_pretrained(xlnet_pretrained_model, config=self.config).to(self.DEVICE)\n",
    "\n",
    "        self.train_dset = train_df\n",
    "        self.eval_dset = valid_df\n",
    "        self.train_loader = DataLoader(self.train_dset,\n",
    "                                  batch_size=self.train_batch_size,\n",
    "                                  shuffle=True)\n",
    "        self.eval_loader = DataLoader(self.eval_dset,\n",
    "                                  batch_size=self.eval_batch_size)\n",
    "\n",
    "        #Freezing all layers except classifier layer\n",
    "        if freeze_layers:\n",
    "            for name, param in self.model.named_parameters():\n",
    "                if 'logits_proj' not in name: # classifier layer for XLNet\n",
    "                    param.requires_grad = False\n",
    "\n",
    "    def train_model(self,\n",
    "                    num_epochs=8,\n",
    "                    learning_rate=2e-4,\n",
    "                    warmup_ratio=0.1,\n",
    "                    experiment_path = '/home/jupyter/XLNet_1536_2callsides_v1/',\n",
    "                    model_save_path = 'saved_model_epoch_%d/',\n",
    "                    train_valid_filename = 'train_valid_stats.csv'):\n",
    "    \n",
    "        if not os.path.exists(experiment_path):\n",
    "            os.makedirs(experiment_path)\n",
    "  \n",
    "        # Total number of training steps is [number of batches] x [number of epochs]. \n",
    "        num_total_steps = len(self.train_loader) * num_epochs \n",
    "\n",
    "        num_warmup_steps = int(num_total_steps * warmup_ratio)\n",
    "\n",
    "        # instantiate optimizer\n",
    "\n",
    "        # param_optimizer = list(self.model.named_parameters())\n",
    "        # no_decay = ['bias', 'gamma', 'beta']\n",
    "        # optimizer_grouped_parameters = [\n",
    "        #     {'params': [p for n, p in param_optimizer if not any(nd in n for nd in no_decay)],\n",
    "        #     'weight_decay_rate': 0.01},\n",
    "        #     {'params': [p for n, p in param_optimizer if any(nd in n for nd in no_decay)],\n",
    "        #     'weight_decay_rate': 0.0}\n",
    "        # ]\n",
    "\n",
    "        optimizer = AdamW(self.model.parameters(),\n",
    "                          lr=learning_rate) #default is 5e-5\n",
    "\n",
    "\n",
    "        scheduler = get_cosine_schedule_with_warmup(optimizer,\n",
    "                                          num_warmup_steps=num_warmup_steps,\n",
    "                                          num_training_steps=num_total_steps)\n",
    "\n",
    "        # define empty lists and counters to keep track of metrics\n",
    "        train_valid_stats = []\n",
    "        all_train_loss, all_train_accuracy, all_train_f1score, all_train_precision, all_train_recall = [], [], [], [], []\n",
    "        all_eval_loss, all_eval_accuracy, all_eval_f1score, all_eval_precision, all_eval_recall = [], [], [], [], []\n",
    "\n",
    "        self.model.train()\n",
    "\n",
    "        # loop over dataset for num_epochs\n",
    "        for epoch in notebook.tqdm(range(num_epochs), desc=\"Epoch  \"):\n",
    "            print(\"\")\n",
    "            print('======== Epoch {:} / {:} ========'.format(epoch + 1, num_epochs))\n",
    "\n",
    "            t0 = time.time()\n",
    "\n",
    "            # Reset the total loss for every new epoch.\n",
    "            total_train_loss = 0\n",
    "            total_train_acc = 0\n",
    "            total_train_f1 = 0\n",
    "            total_train_precision = 0\n",
    "            total_train_recall = 0\n",
    "\n",
    "            # loop over every batch within the training dataset\n",
    "            for iter, (inputs, ttids, attns, labels) in enumerate(notebook.tqdm(self.train_loader, desc=\"Training\")):\n",
    "\n",
    "                # reset optimizer gradient\n",
    "                optimizer.zero_grad()\n",
    "\n",
    "                # putting inputs to device\n",
    "                inputs = inputs.to(self.DEVICE)\n",
    "                ttids = ttids.to(self.DEVICE)\n",
    "                attns = attns.to(self.DEVICE)\n",
    "                labels = labels.to(self.DEVICE)\n",
    "\n",
    "                # feed to model\n",
    "                outputs = self.model(inputs,\n",
    "                                token_type_ids=ttids, \n",
    "                                attention_mask=attns,\n",
    "                                labels=labels)\n",
    "\n",
    "                loss, scores = outputs[:2]\n",
    "\n",
    "                total_train_loss += loss.item()\n",
    "\n",
    "                predictions = torch.argmax(scores, dim=-1)\n",
    "\n",
    "                # backprop\n",
    "                loss.backward()\n",
    "                # clip the the gradients to 1.0. It helps in preventing the exploding gradient problem\n",
    "                torch.nn.utils.clip_grad_norm_(self.model.parameters(), 1.0)\n",
    "                # Update parameters and take a step using the computed gradient.\n",
    "                optimizer.step()\n",
    "                #Update learning rate\n",
    "                scheduler.step()\n",
    "\n",
    "                total_train_acc += accuracy_score(labels.cpu().detach().numpy(), predictions.cpu().detach().numpy())\n",
    "                _train_precision, _train_recall, _train_f1, _ = precision_recall_fscore_support(labels.cpu().detach().numpy(), predictions.cpu().detach().numpy(), average='weighted')\n",
    "                total_train_precision += _train_precision\n",
    "                total_train_recall += _train_recall\n",
    "                total_train_f1 += _train_f1\n",
    "\n",
    "                # Progress update every 910 samples.\n",
    "                # if iter % 910 == 0 and not iter == 0:\n",
    "\n",
    "                #     # Calculate elapsed time in minutes.\n",
    "                #     elapsed = format_time(time.time() - t0)\n",
    "\n",
    "                #     # Report progress.\n",
    "                #     print('  Batch {:>5,}  of  {:>5,}.    Elapsed: {:}.'.format(iter, len(self.train_loader), elapsed))\n",
    "\n",
    "            # add to totals \n",
    "            avg_train_loss = total_train_loss/len(self.train_loader)\n",
    "            avg_train_acc = total_train_acc/len(self.train_loader)\n",
    "            avg_train_f1 = total_train_f1/len(self.train_loader)\n",
    "            avg_train_precision = total_train_precision/len(self.train_loader)\n",
    "            avg_train_recall = total_train_recall/len(self.train_loader)\n",
    "\n",
    "            # ========================================\n",
    "            #               Validation\n",
    "            # ========================================\n",
    "            # After the completion of each training epoch, measure our performance on our validation set.\n",
    "\n",
    "            eval_loss, eval_acc, eval_f1, eval_precision, eval_recall, eval_conf_matrix = self.evaluate_model()\n",
    "\n",
    "            print(\"  Training Loss: {0:.2f}\".format(avg_train_loss), \"||\", \"Evaluation Loss: {0:.2f}\".format(eval_loss)) \n",
    "            print(\"  Training Accuracy: {0:.2f}\".format(avg_train_acc), \"||\", \"Evaluation Accuracy: {0:.2f}\".format(eval_acc))\n",
    "            print(\"  Training F1: {0:.2f}\".format(avg_train_f1), \"||\", \"Evaluation F1: {0:.2f}\".format(eval_f1)) \n",
    "            print(\"  Training Precision: {0:.2f}\".format(avg_train_precision), \"||\", \"Evaluation Precision: {0:.2f}\".format(eval_precision))\n",
    "            print(\"  Training Recall: {0:.2f}\".format(avg_train_recall), \"||\", \"Evaluation Recall: {0:.2f}\".format(eval_recall))\n",
    "\n",
    "            print(f\"Saving current epoch's training & validation metric file to\", experiment_path + train_valid_filename)\n",
    "            fieldnames = ['Epoch', 'train_loss', 'train_acc', 'train_f1', 'train_precision', 'train_recall', 'valid_loss', 'valid_acc', 'valid_f1', 'valid_precision', 'valid_recall', 'eval_confmat']\n",
    "            if os.path.isfile(experiment_path + train_valid_filename):         \n",
    "                with open(experiment_path + train_valid_filename, 'a', newline='') as csvfile:\n",
    "                    w = csv.DictWriter(csvfile, fieldnames= fieldnames)\n",
    "                    w.writerow({\n",
    "                        'Epoch': epoch + 1,\n",
    "                        'train_loss': avg_train_loss,\n",
    "                        'train_acc': avg_train_acc,\n",
    "                        'train_f1': avg_train_f1,\n",
    "                        'train_precision':avg_train_precision,\n",
    "                        'train_recall':avg_train_recall,\n",
    "                        'valid_loss': eval_loss,\n",
    "                        'valid_acc': eval_acc,\n",
    "                        'valid_f1': eval_f1,\n",
    "                        'valid_precision':eval_precision,\n",
    "                        'valid_recall':eval_recall,\n",
    "                        'eval_confmat':eval_conf_matrix.tolist()\n",
    "                    })\n",
    "            else:\n",
    "                with open(experiment_path + train_valid_filename, 'w', newline='') as csvfile:\n",
    "                    w = csv.DictWriter(csvfile, fieldnames=fieldnames)\n",
    "                    w.writeheader()\n",
    "                    w.writerow({\n",
    "                        'Epoch': epoch + 1,\n",
    "                        'train_loss': avg_train_loss,\n",
    "                        'train_acc': avg_train_acc,\n",
    "                        'train_f1': avg_train_f1,\n",
    "                        'train_precision':avg_train_precision,\n",
    "                        'train_recall':avg_train_recall,\n",
    "                        'valid_loss': eval_loss,\n",
    "                        'valid_acc': eval_acc,\n",
    "                        'valid_f1': eval_f1,\n",
    "                        'valid_precision':eval_precision,\n",
    "                        'valid_recall':eval_recall,\n",
    "                        'eval_confmat':eval_conf_matrix.tolist()\n",
    "                    })\n",
    "\n",
    "            #Saving model for epoch\n",
    "            modelsave_path_formatted = model_save_path % (epoch+1)\n",
    "            model_saved_path = os.path.join(experiment_path, modelsave_path_formatted)\n",
    "            print('Saving model from epoch {:} at {}'.format(epoch+1, model_saved_path))\n",
    "            if not os.path.exists(model_saved_path):\n",
    "                os.makedirs(model_saved_path)\n",
    "\n",
    "            self.model.save_pretrained(model_saved_path)\n",
    "            torch.save(optimizer.state_dict(), os.path.join(model_saved_path, 'optimizer.pt'))\n",
    "            torch.save(scheduler.state_dict(), os.path.join(model_saved_path, 'scheduler.pt'))\n",
    "\n",
    "    def evaluate_model(self):\n",
    "        self.model.eval()\n",
    "\n",
    "        total_eval_loss = 0\n",
    "        total_eval_acc = 0\n",
    "        total_eval_f1 = 0\n",
    "        total_eval_recall = 0\n",
    "        total_eval_precision = 0 \n",
    "        all_labels = []\n",
    "        all_predictions = [] \n",
    "\n",
    "        with torch.no_grad():\n",
    "            for (inputs, ttids, attns, labels) in notebook.tqdm(self.eval_loader, desc=\"Evaluate\"):\n",
    "\n",
    "                # putting inputs to device\n",
    "                inputs = inputs.to(self.DEVICE)\n",
    "                ttids = ttids.to(self.DEVICE)\n",
    "                attns = attns.to(self.DEVICE)\n",
    "                labels = labels.to(self.DEVICE)\n",
    "\n",
    "                # feed to model\n",
    "                outputs = self.model(inputs,\n",
    "                                     token_type_ids=ttids,  \n",
    "                                     attention_mask=attns, \n",
    "                                     labels=labels)\n",
    "\n",
    "                loss, scores = outputs[:2]\n",
    "\n",
    "                predictions = torch.argmax(scores, dim=-1)\n",
    "\n",
    "                # add loss to total loss\n",
    "                total_eval_loss += loss.item()\n",
    "\n",
    "                total_eval_acc += accuracy_score(labels.cpu().detach().numpy(), predictions.cpu().detach().numpy())\n",
    "                _eval_precision, _eval_recall, _eval_f1, _ = precision_recall_fscore_support(labels.cpu().detach().numpy(), predictions.cpu().detach().numpy(), average='macro')\n",
    "                total_eval_precision += _eval_precision\n",
    "                total_eval_recall += _eval_recall\n",
    "                total_eval_f1 += _eval_f1\n",
    "\n",
    "                # used to create confusion matrix\n",
    "                all_labels += labels.cpu().flatten().tolist()\n",
    "                all_predictions += predictions.cpu().flatten().tolist()\n",
    "\n",
    "        avg_eval_loss = total_eval_loss/len(self.eval_loader)\n",
    "        avg_eval_acc = total_eval_acc/len(self.eval_loader)\n",
    "        avg_eval_f1 = total_eval_f1/len(self.eval_loader)\n",
    "        avg_eval_precision = total_eval_precision/len(self.eval_loader)\n",
    "        avg_eval_recall = total_eval_recall/len(self.eval_loader)\n",
    "        conf_matrix = confusion_matrix(all_labels, all_predictions)\n",
    "\n",
    "        return avg_eval_loss, avg_eval_acc, avg_eval_f1, avg_eval_precision, avg_eval_recall, conf_matrix"
   ]
  },
  {
   "cell_type": "code",
   "execution_count": null,
   "metadata": {},
   "outputs": [],
   "source": [
    "torch.cuda.empty_cache()\n",
    "model = csatXLNet()"
   ]
  },
  {
   "cell_type": "code",
   "execution_count": null,
   "metadata": {},
   "outputs": [
    {
     "data": {
      "application/vnd.jupyter.widget-view+json": {
       "model_id": "2253f634e5d8406fb43af2b99ccd5ee7",
       "version_major": 2,
       "version_minor": 0
      },
      "text/plain": [
       "HBox(children=(HTML(value='Epoch  '), FloatProgress(value=0.0, max=8.0), HTML(value='')))"
      ]
     },
     "metadata": {},
     "output_type": "display_data"
    },
    {
     "name": "stdout",
     "output_type": "stream",
     "text": [
      "\n",
      "======== Epoch 1 / 8 ========\n"
     ]
    },
    {
     "data": {
      "application/vnd.jupyter.widget-view+json": {
       "model_id": "d86eb702ca434bd7918fb76ddfc7a50c",
       "version_major": 2,
       "version_minor": 0
      },
      "text/plain": [
       "HBox(children=(HTML(value='Training'), FloatProgress(value=0.0, max=9352.0), HTML(value='')))"
      ]
     },
     "metadata": {},
     "output_type": "display_data"
    },
    {
     "name": "stderr",
     "output_type": "stream",
     "text": [
      "/opt/conda/lib/python3.7/site-packages/sklearn/metrics/_classification.py:1221: UndefinedMetricWarning: Precision and F-score are ill-defined and being set to 0.0 in labels with no predicted samples. Use `zero_division` parameter to control this behavior.\n",
      "  _warn_prf(average, modifier, msg_start, len(result))\n",
      "/opt/conda/lib/python3.7/site-packages/sklearn/metrics/_classification.py:1221: UndefinedMetricWarning: Recall and F-score are ill-defined and being set to 0.0 in labels with no true samples. Use `zero_division` parameter to control this behavior.\n",
      "  _warn_prf(average, modifier, msg_start, len(result))\n"
     ]
    },
    {
     "name": "stdout",
     "output_type": "stream",
     "text": [
      "\n"
     ]
    },
    {
     "data": {
      "application/vnd.jupyter.widget-view+json": {
       "model_id": "559c0fff00d941c1b923c6036602c842",
       "version_major": 2,
       "version_minor": 0
      },
      "text/plain": [
       "HBox(children=(HTML(value='Evaluate'), FloatProgress(value=0.0, max=669.0), HTML(value='')))"
      ]
     },
     "metadata": {},
     "output_type": "display_data"
    },
    {
     "name": "stdout",
     "output_type": "stream",
     "text": [
      "\n",
      "  Training Loss: 0.63 || Evaluation Loss: 0.50\n",
      "  Training Accuracy: 0.64 || Evaluation Accuracy: 0.81\n",
      "  Training F1: 0.63 || Evaluation F1: 0.68\n",
      "  Training Precision: 0.70 || Evaluation Precision: 0.71\n",
      "  Training Recall: 0.64 || Evaluation Recall: 0.68\n",
      "Saving current epoch's training & validation metric file to /home/jupyter/XLNet_1536_2callsides_v1/train_valid_stats.csv\n",
      "Saving model from epoch 1 at /home/jupyter/XLNet_1536_2callsides_v1/saved_model_epoch_1/\n",
      "\n",
      "======== Epoch 2 / 8 ========\n"
     ]
    },
    {
     "name": "stderr",
     "output_type": "stream",
     "text": [
      "/opt/conda/lib/python3.7/site-packages/torch/optim/lr_scheduler.py:216: UserWarning: Please also save or load the state of the optimizer when saving or loading the scheduler.\n",
      "  warnings.warn(SAVE_STATE_WARNING, UserWarning)\n"
     ]
    },
    {
     "data": {
      "application/vnd.jupyter.widget-view+json": {
       "model_id": "a294f11db788428a806bf62dfdb2574f",
       "version_major": 2,
       "version_minor": 0
      },
      "text/plain": [
       "HBox(children=(HTML(value='Training'), FloatProgress(value=0.0, max=9352.0), HTML(value='')))"
      ]
     },
     "metadata": {},
     "output_type": "display_data"
    },
    {
     "name": "stdout",
     "output_type": "stream",
     "text": [
      "\n"
     ]
    },
    {
     "data": {
      "application/vnd.jupyter.widget-view+json": {
       "model_id": "fcdd196a7c0145328bb8eba185986896",
       "version_major": 2,
       "version_minor": 0
      },
      "text/plain": [
       "HBox(children=(HTML(value='Evaluate'), FloatProgress(value=0.0, max=669.0), HTML(value='')))"
      ]
     },
     "metadata": {},
     "output_type": "display_data"
    },
    {
     "name": "stdout",
     "output_type": "stream",
     "text": [
      "\n",
      "  Training Loss: 0.53 || Evaluation Loss: 0.43\n",
      "  Training Accuracy: 0.75 || Evaluation Accuracy: 0.83\n",
      "  Training F1: 0.75 || Evaluation F1: 0.71\n",
      "  Training Precision: 0.81 || Evaluation Precision: 0.73\n",
      "  Training Recall: 0.75 || Evaluation Recall: 0.71\n",
      "Saving current epoch's training & validation metric file to /home/jupyter/XLNet_1536_2callsides_v1/train_valid_stats.csv\n",
      "Saving model from epoch 4 at /home/jupyter/XLNet_1536_2callsides_v1/saved_model_epoch_4/\n",
      "\n",
      "======== Epoch 5 / 8 ========\n"
     ]
    },
    {
     "data": {
      "application/vnd.jupyter.widget-view+json": {
       "model_id": "ed315513eeec44c5a47835b6f422a2bb",
       "version_major": 2,
       "version_minor": 0
      },
      "text/plain": [
       "HBox(children=(HTML(value='Training'), FloatProgress(value=0.0, max=9352.0), HTML(value='')))"
      ]
     },
     "metadata": {},
     "output_type": "display_data"
    },
    {
     "name": "stdout",
     "output_type": "stream",
     "text": [
      "\n"
     ]
    },
    {
     "data": {
      "application/vnd.jupyter.widget-view+json": {
       "model_id": "3dbdb4830c9a45019aba373368b1d69f",
       "version_major": 2,
       "version_minor": 0
      },
      "text/plain": [
       "HBox(children=(HTML(value='Evaluate'), FloatProgress(value=0.0, max=669.0), HTML(value='')))"
      ]
     },
     "metadata": {},
     "output_type": "display_data"
    },
    {
     "name": "stdout",
     "output_type": "stream",
     "text": [
      "\n",
      "  Training Loss: 0.53 || Evaluation Loss: 0.58\n",
      "  Training Accuracy: 0.76 || Evaluation Accuracy: 0.74\n",
      "  Training F1: 0.75 || Evaluation F1: 0.62\n",
      "  Training Precision: 0.82 || Evaluation Precision: 0.67\n",
      "  Training Recall: 0.76 || Evaluation Recall: 0.61\n",
      "Saving current epoch's training & validation metric file to /home/jupyter/XLNet_1536_2callsides_v1/train_valid_stats.csv\n",
      "Saving model from epoch 5 at /home/jupyter/XLNet_1536_2callsides_v1/saved_model_epoch_5/\n",
      "\n",
      "======== Epoch 6 / 8 ========\n"
     ]
    },
    {
     "data": {
      "application/vnd.jupyter.widget-view+json": {
       "model_id": "ac46e4d033b440798fea6e52c1dc2b1a",
       "version_major": 2,
       "version_minor": 0
      },
      "text/plain": [
       "HBox(children=(HTML(value='Training'), FloatProgress(value=0.0, max=9352.0), HTML(value='')))"
      ]
     },
     "metadata": {},
     "output_type": "display_data"
    },
    {
     "name": "stdout",
     "output_type": "stream",
     "text": [
      "\n"
     ]
    },
    {
     "data": {
      "application/vnd.jupyter.widget-view+json": {
       "model_id": "cc3900b2152f42a2aa75083ff3562020",
       "version_major": 2,
       "version_minor": 0
      },
      "text/plain": [
       "HBox(children=(HTML(value='Evaluate'), FloatProgress(value=0.0, max=669.0), HTML(value='')))"
      ]
     },
     "metadata": {},
     "output_type": "display_data"
    },
    {
     "name": "stdout",
     "output_type": "stream",
     "text": [
      "\n",
      "  Training Loss: 0.52 || Evaluation Loss: 0.53\n",
      "  Training Accuracy: 0.76 || Evaluation Accuracy: 0.77\n",
      "  Training F1: 0.76 || Evaluation F1: 0.64\n",
      "  Training Precision: 0.82 || Evaluation Precision: 0.69\n",
      "  Training Recall: 0.76 || Evaluation Recall: 0.64\n",
      "Saving current epoch's training & validation metric file to /home/jupyter/XLNet_1536_2callsides_v1/train_valid_stats.csv\n",
      "Saving model from epoch 6 at /home/jupyter/XLNet_1536_2callsides_v1/saved_model_epoch_6/\n",
      "\n",
      "======== Epoch 7 / 8 ========\n"
     ]
    },
    {
     "data": {
      "application/vnd.jupyter.widget-view+json": {
       "model_id": "95620cbca0ab4394a7d7b46ce24c79bd",
       "version_major": 2,
       "version_minor": 0
      },
      "text/plain": [
       "HBox(children=(HTML(value='Training'), FloatProgress(value=0.0, max=9352.0), HTML(value='')))"
      ]
     },
     "metadata": {},
     "output_type": "display_data"
    }
   ],
   "source": [
    "model.train_model()"
   ]
  },
  {
   "cell_type": "code",
   "execution_count": 20,
   "metadata": {},
   "outputs": [
    {
     "data": {
      "text/html": [
       "<div>\n",
       "<style scoped>\n",
       "    .dataframe tbody tr th:only-of-type {\n",
       "        vertical-align: middle;\n",
       "    }\n",
       "\n",
       "    .dataframe tbody tr th {\n",
       "        vertical-align: top;\n",
       "    }\n",
       "\n",
       "    .dataframe thead th {\n",
       "        text-align: right;\n",
       "    }\n",
       "</style>\n",
       "<table border=\"1\" class=\"dataframe\">\n",
       "  <thead>\n",
       "    <tr style=\"text-align: right;\">\n",
       "      <th></th>\n",
       "      <th>Epoch</th>\n",
       "      <th>train_loss</th>\n",
       "      <th>train_acc</th>\n",
       "      <th>train_f1</th>\n",
       "      <th>train_precision</th>\n",
       "      <th>train_recall</th>\n",
       "      <th>valid_loss</th>\n",
       "      <th>valid_acc</th>\n",
       "      <th>valid_f1</th>\n",
       "      <th>valid_precision</th>\n",
       "      <th>valid_recall</th>\n",
       "      <th>eval_confmat</th>\n",
       "    </tr>\n",
       "  </thead>\n",
       "  <tbody>\n",
       "    <tr>\n",
       "      <th>0</th>\n",
       "      <td>1</td>\n",
       "      <td>0.627201</td>\n",
       "      <td>0.638553</td>\n",
       "      <td>0.628051</td>\n",
       "      <td>0.697578</td>\n",
       "      <td>0.638553</td>\n",
       "      <td>0.495443</td>\n",
       "      <td>0.805680</td>\n",
       "      <td>0.682903</td>\n",
       "      <td>0.711136</td>\n",
       "      <td>0.681552</td>\n",
       "      <td>[[186, 158], [362, 1967]]</td>\n",
       "    </tr>\n",
       "    <tr>\n",
       "      <th>1</th>\n",
       "      <td>2</td>\n",
       "      <td>0.550593</td>\n",
       "      <td>0.729737</td>\n",
       "      <td>0.725114</td>\n",
       "      <td>0.792014</td>\n",
       "      <td>0.729737</td>\n",
       "      <td>0.712270</td>\n",
       "      <td>0.635277</td>\n",
       "      <td>0.510933</td>\n",
       "      <td>0.602080</td>\n",
       "      <td>0.506913</td>\n",
       "      <td>[[285, 59], [917, 1412]]</td>\n",
       "    </tr>\n",
       "    <tr>\n",
       "      <th>2</th>\n",
       "      <td>3</td>\n",
       "      <td>0.539537</td>\n",
       "      <td>0.745750</td>\n",
       "      <td>0.742789</td>\n",
       "      <td>0.807673</td>\n",
       "      <td>0.745750</td>\n",
       "      <td>0.574452</td>\n",
       "      <td>0.749626</td>\n",
       "      <td>0.622934</td>\n",
       "      <td>0.676632</td>\n",
       "      <td>0.614723</td>\n",
       "      <td>[[246, 98], [572, 1757]]</td>\n",
       "    </tr>\n",
       "    <tr>\n",
       "      <th>3</th>\n",
       "      <td>4</td>\n",
       "      <td>0.532665</td>\n",
       "      <td>0.748797</td>\n",
       "      <td>0.746537</td>\n",
       "      <td>0.810339</td>\n",
       "      <td>0.748797</td>\n",
       "      <td>0.428317</td>\n",
       "      <td>0.831091</td>\n",
       "      <td>0.709381</td>\n",
       "      <td>0.733433</td>\n",
       "      <td>0.710015</td>\n",
       "      <td>[[194, 150], [302, 2027]]</td>\n",
       "    </tr>\n",
       "    <tr>\n",
       "      <th>4</th>\n",
       "      <td>5</td>\n",
       "      <td>0.525601</td>\n",
       "      <td>0.755320</td>\n",
       "      <td>0.753909</td>\n",
       "      <td>0.817916</td>\n",
       "      <td>0.755320</td>\n",
       "      <td>0.579042</td>\n",
       "      <td>0.738416</td>\n",
       "      <td>0.615325</td>\n",
       "      <td>0.674141</td>\n",
       "      <td>0.607000</td>\n",
       "      <td>[[251, 93], [607, 1722]]</td>\n",
       "    </tr>\n",
       "    <tr>\n",
       "      <th>5</th>\n",
       "      <td>6</td>\n",
       "      <td>0.520998</td>\n",
       "      <td>0.758287</td>\n",
       "      <td>0.757960</td>\n",
       "      <td>0.821923</td>\n",
       "      <td>0.758287</td>\n",
       "      <td>0.531369</td>\n",
       "      <td>0.767564</td>\n",
       "      <td>0.641405</td>\n",
       "      <td>0.689400</td>\n",
       "      <td>0.635339</td>\n",
       "      <td>[[233, 111], [511, 1818]]</td>\n",
       "    </tr>\n",
       "    <tr>\n",
       "      <th>6</th>\n",
       "      <td>7</td>\n",
       "      <td>0.517437</td>\n",
       "      <td>0.760372</td>\n",
       "      <td>0.760658</td>\n",
       "      <td>0.824269</td>\n",
       "      <td>0.760372</td>\n",
       "      <td>0.513938</td>\n",
       "      <td>0.777653</td>\n",
       "      <td>0.654623</td>\n",
       "      <td>0.699489</td>\n",
       "      <td>0.649290</td>\n",
       "      <td>[[228, 116], [479, 1850]]</td>\n",
       "    </tr>\n",
       "    <tr>\n",
       "      <th>7</th>\n",
       "      <td>8</td>\n",
       "      <td>0.516008</td>\n",
       "      <td>0.760613</td>\n",
       "      <td>0.759541</td>\n",
       "      <td>0.821437</td>\n",
       "      <td>0.760613</td>\n",
       "      <td>0.529697</td>\n",
       "      <td>0.768685</td>\n",
       "      <td>0.643555</td>\n",
       "      <td>0.691081</td>\n",
       "      <td>0.637519</td>\n",
       "      <td>[[232, 112], [507, 1822]]</td>\n",
       "    </tr>\n",
       "  </tbody>\n",
       "</table>\n",
       "</div>"
      ],
      "text/plain": [
       "   Epoch  train_loss  train_acc  train_f1  train_precision  train_recall  \\\n",
       "0      1    0.627201   0.638553  0.628051         0.697578      0.638553   \n",
       "1      2    0.550593   0.729737  0.725114         0.792014      0.729737   \n",
       "2      3    0.539537   0.745750  0.742789         0.807673      0.745750   \n",
       "3      4    0.532665   0.748797  0.746537         0.810339      0.748797   \n",
       "4      5    0.525601   0.755320  0.753909         0.817916      0.755320   \n",
       "5      6    0.520998   0.758287  0.757960         0.821923      0.758287   \n",
       "6      7    0.517437   0.760372  0.760658         0.824269      0.760372   \n",
       "7      8    0.516008   0.760613  0.759541         0.821437      0.760613   \n",
       "\n",
       "   valid_loss  valid_acc  valid_f1  valid_precision  valid_recall  \\\n",
       "0    0.495443   0.805680  0.682903         0.711136      0.681552   \n",
       "1    0.712270   0.635277  0.510933         0.602080      0.506913   \n",
       "2    0.574452   0.749626  0.622934         0.676632      0.614723   \n",
       "3    0.428317   0.831091  0.709381         0.733433      0.710015   \n",
       "4    0.579042   0.738416  0.615325         0.674141      0.607000   \n",
       "5    0.531369   0.767564  0.641405         0.689400      0.635339   \n",
       "6    0.513938   0.777653  0.654623         0.699489      0.649290   \n",
       "7    0.529697   0.768685  0.643555         0.691081      0.637519   \n",
       "\n",
       "                eval_confmat  \n",
       "0  [[186, 158], [362, 1967]]  \n",
       "1   [[285, 59], [917, 1412]]  \n",
       "2   [[246, 98], [572, 1757]]  \n",
       "3  [[194, 150], [302, 2027]]  \n",
       "4   [[251, 93], [607, 1722]]  \n",
       "5  [[233, 111], [511, 1818]]  \n",
       "6  [[228, 116], [479, 1850]]  \n",
       "7  [[232, 112], [507, 1822]]  "
      ]
     },
     "execution_count": 20,
     "metadata": {},
     "output_type": "execute_result"
    }
   ],
   "source": [
    "res_df=pd.read_csv('/home/jupyter/XLNet_1536_2callsides_v1/train_valid_stats.csv')\n",
    "res_df.head(10)"
   ]
  },
  {
   "cell_type": "code",
   "execution_count": 21,
   "metadata": {},
   "outputs": [
    {
     "data": {
      "text/plain": [
       "'Lowest Validation Loss: Epoch 4 || Highest Validation F1: Epoch 4 || Highest Validation Precicision: Epoch 4 || Highest Validation Recall: Epoch 4'"
      ]
     },
     "execution_count": 21,
     "metadata": {},
     "output_type": "execute_result"
    }
   ],
   "source": [
    "validation_loss_epoch = res_df.iloc[res_df['valid_loss'].idxmin()][0]\n",
    "validation_f1_epoch = res_df.iloc[res_df['valid_f1'].idxmax()][0]\n",
    "validation_precision_epoch = res_df.iloc[res_df['valid_precision'].idxmax()][0]\n",
    "validation_recall_epoch = res_df.iloc[res_df['valid_recall'].idxmax()][0]\n",
    "\n",
    "f\"Lowest Validation Loss: Epoch {validation_loss_epoch} || \\\n",
    "Highest Validation F1: Epoch {validation_f1_epoch} || \\\n",
    "Highest Validation Precicision: Epoch {validation_precision_epoch} || \\\n",
    "Highest Validation Recall: Epoch {validation_recall_epoch}\""
   ]
  },
  {
   "cell_type": "code",
   "execution_count": 22,
   "metadata": {},
   "outputs": [
    {
     "data": {
      "image/png": "[encoded data removed]",
      "text/plain": [
       "<Figure size 864x1152 with 2 Axes>"
      ]
     },
     "metadata": {},
     "output_type": "display_data"
    }
   ],
   "source": [
    "# Use plot styling from seaborn.\n",
    "sns.set(style='darkgrid')\n",
    "\n",
    "# Increase the plot size and font size.\n",
    "sns.set(font_scale=1.5)\n",
    "\n",
    "# fig, ax = plt.subplots(figsize=(12, 8))    \n",
    "fig, (ax1, ax2) = plt.subplots(nrows=2, sharey=True, figsize=(12, 16))\n",
    "\n",
    "# Plot the learning curve.\n",
    "ax1.plot(res_df['train_loss'], 'b-o', label=\"Train Loss\")\n",
    "ax1.plot(res_df['valid_loss'], 'g--o', label=\"Validation Loss\")\n",
    "\n",
    "ax1.plot(res_df['train_f1'], 'b->', label=\"Training F1\")\n",
    "ax1.plot(res_df['valid_f1'], 'g-->', label=\"Validation F1\")\n",
    "\n",
    "ax2.plot(res_df['train_precision'], 'b-o', label=\"Train Precision\")\n",
    "ax2.plot(res_df['valid_precision'], 'g--o', label=\"Validation Precision\")\n",
    "\n",
    "ax2.plot(res_df['train_recall'], 'b->', label=\"Training Recall\")\n",
    "ax2.plot(res_df['valid_recall'], 'g-->', label=\"Validation Recall\")\n",
    "\n",
    "# Label the plot.\n",
    "ax1.title.set_text(\"Training & Validation Loss & F1\")\n",
    "ax1.set_xlabel(\"Epoch\")\n",
    "ax1.set_ylabel(\"Loss-F1\")\n",
    "ax1.legend()\n",
    "ax1.set_xticks(res_df['Epoch']-1)\n",
    "\n",
    "ax2.title.set_text(\"Training & Validation Precision & Recall\")\n",
    "ax2.set_xlabel(\"Epoch\")\n",
    "ax2.set_ylabel(\"Precision-Recall\")\n",
    "ax2.legend()\n",
    "ax2.set_xticks(res_df['Epoch']-1)\n",
    "\n",
    "plt.show()"
   ]
  },
  {
   "cell_type": "code",
   "execution_count": 23,
   "metadata": {},
   "outputs": [],
   "source": [
    "def plot_confusion_matrix(cm, classes,\n",
    "                          normalize=False,\n",
    "                          path=None,\n",
    "                          title='Confusion matrix',\n",
    "                          cmap=plt.cm.Blues):\n",
    "    \"\"\"\n",
    "    This function prints and plots the confusion matrix.\n",
    "    Normalization can be applied by setting `normalize=True`.\n",
    "    Parameters\n",
    "    ----------\n",
    "    cm: Confusion matrix provided by sklearn\n",
    "\n",
    "    classes: list of class labels\n",
    "\n",
    "    normalize: 'True' to normalize confusion matrix. \"False\" by default.\n",
    "\n",
    "    path: String that contains the path to save the confusion matrix image\n",
    "\n",
    "    title: title of the plot\n",
    "\n",
    "    cmap: A matplotlib color map for the confusion matrix\n",
    "    \"\"\"\n",
    "    if normalize:\n",
    "        cm = cm.astype('float') / cm.sum(axis=1)[:, np.newaxis]\n",
    "        print(\"Normalized confusion matrix\")\n",
    "    else:\n",
    "        print('Confusion matrix, without normalization')\n",
    "    \n",
    "    plt.figure(figsize=(9,7))\n",
    "    plt.imshow(cm, interpolation='nearest', cmap=cmap)\n",
    "    plt.title(title)\n",
    "    plt.colorbar()\n",
    "    tick_marks = np.arange(len(classes))\n",
    "    plt.xticks(tick_marks, classes, fontsize=14)\n",
    "    plt.yticks(tick_marks, classes, fontsize=14)\n",
    "\n",
    "    fmt = '.2f' if normalize else 'd'\n",
    "    thresh = cm.max() / 2.\n",
    "    for i, j in itertools.product(range(cm.shape[0]), range(cm.shape[1])):\n",
    "        plt.text(j, i, format(cm[i, j], fmt),\n",
    "                 horizontalalignment=\"center\",\n",
    "                 color=\"white\" if cm[i, j] > thresh else \"black\", fontsize=14)\n",
    "\n",
    "    plt.ylabel('True label', fontsize=14)\n",
    "    plt.xlabel('Predicted label', fontsize=14)\n",
    "\n",
    "    print(\"Saving image..\")\n",
    "    plt.savefig(path)\n",
    "    print(\"Image saved at:\", path)\n",
    "\n",
    "    plt.show()\n",
    "\n",
    "def xlnet_predict(model, test_df, path):\n",
    "    \"\"\"Perform a forward pass on the trained XLNet model to predict probabilities\n",
    "    on the test set.\n",
    "\n",
    "    Parameters\n",
    "    ----------\n",
    "    model: best model from training/validation step\n",
    "\n",
    "    test_df: Dataframe for the test set being used\n",
    "\n",
    "    path: Path for the confusion to be saved used by `plot_confusion_matrix()`\n",
    "\n",
    "    \"\"\"\n",
    "    DEVICE = \"cuda\" if torch.cuda.is_available() else \"cpu\"\n",
    "    all_labels = []\n",
    "    all_predictions = []\n",
    "\n",
    "    # Put the model into the evaluation mode. The dropout layers are disabled during the test time.\n",
    "    model.eval()\n",
    "\n",
    "    test_loader = DataLoader(test_df, batch_size = 8)\n",
    "\n",
    "    for iter, (inputs, ttids, attns, labels) in enumerate(notebook.tqdm(test_loader, desc=\"Testing\")):\n",
    "        # putting inputs to device\n",
    "        inputs = inputs.to(DEVICE)\n",
    "        ttids = ttids.to(DEVICE)\n",
    "        attns = attns.to(DEVICE)\n",
    "        labels = labels.to(DEVICE)\n",
    "\n",
    "        # feed to model\n",
    "        with torch.no_grad():\n",
    "            outputs = model(inputs,\n",
    "                          token_type_ids=ttids, \n",
    "                          attention_mask=attns)\n",
    "            logits = outputs[0]\n",
    "\n",
    "            predictions = torch.argmax(logits, dim=-1)\n",
    "            all_predictions += predictions.cpu().flatten().tolist()\n",
    "            all_labels += labels.cpu().flatten().tolist()\n",
    "            \n",
    "\n",
    "    precision, recall, f1, _ = precision_recall_fscore_support(all_labels, all_predictions, average='macro')\n",
    "    conf_mat = confusion_matrix(all_labels, all_predictions)\n",
    "    print(\"F1-score:\", \"%.2f%%\" % (f1*100), \"\\n\",\n",
    "          \"\\nPrecision:\", \"%.2f%%\" % (precision*100),\n",
    "          \"\\nPrecision (CSAT=1): \", \"%.2f%%\" % (conf_mat[1][1] / (conf_mat[1][1] + conf_mat[0][1]) * 100),\n",
    "          \"\\nPrecision (CSAT=0): \", \"%.2f%%\" % (conf_mat[0][0] / (conf_mat[0][0] + conf_mat[1][0]) * 100), \"\\n\", \n",
    "          \"\\nRecall:\", \"%.2f%%\" % (recall*100),\n",
    "          \"\\nRecall (CSAT=1): \", \"%.2f%%\" % (conf_mat[1][1] / (conf_mat[1][1] + conf_mat[1][0]) * 100),\n",
    "          \"\\nRecall (CSAT=0): \", \"%.2f%%\" % (conf_mat[0][0] / (conf_mat[0][0] + conf_mat[0][1]) * 100), \"\\n\"\n",
    "    )\n",
    "    plot_confusion_matrix(conf_mat, [\"0\",\"1\"],path=path)"
   ]
  },
  {
   "cell_type": "code",
   "execution_count": 24,
   "metadata": {},
   "outputs": [],
   "source": [
    "torch.cuda.empty_cache()"
   ]
  },
  {
   "cell_type": "code",
   "execution_count": 25,
   "metadata": {},
   "outputs": [
    {
     "name": "stderr",
     "output_type": "stream",
     "text": [
      "/opt/conda/lib/python3.7/site-packages/transformers/configuration_xlnet.py:212: FutureWarning: This config doesn't use attention memories, a core feature of XLNet. Consider setting `men_len` to a non-zero value, for example `xlnet = XLNetLMHeadModel.from_pretrained('xlnet-base-cased'', mem_len=1024)`, for accurate training performance as well as an order of magnitude faster inference. Starting from version 3.5.0, the default parameter will be 1024, following the implementation in https://arxiv.org/abs/1906.08237\n",
      "  FutureWarning,\n"
     ]
    },
    {
     "data": {
      "application/vnd.jupyter.widget-view+json": {
       "model_id": "e3634fc1499642328f5e39f7a8079ea2",
       "version_major": 2,
       "version_minor": 0
      },
      "text/plain": [
       "HBox(children=(HTML(value='Testing'), FloatProgress(value=0.0, max=335.0), HTML(value='')))"
      ]
     },
     "metadata": {},
     "output_type": "display_data"
    },
    {
     "name": "stdout",
     "output_type": "stream",
     "text": [
      "\n",
      "F1-score: 68.75% \n",
      " \n",
      "Precision: 66.78% \n",
      "Precision (CSAT=1):  93.27% \n",
      "Precision (CSAT=0):  40.29% \n",
      " \n",
      "Recall: 72.18% \n",
      "Recall (CSAT=1):  87.76% \n",
      "Recall (CSAT=0):  56.60% \n",
      "\n",
      "Confusion matrix, without normalization\n",
      "Saving image..\n",
      "Image saved at: /home/jupyter/XLNet_1536_2callsides_v1/\n"
     ]
    },
    {
     "data": {
      "image/png": "[encoded data removed]",
      "text/plain": [
       "<Figure size 648x504 with 2 Axes>"
      ]
     },
     "metadata": {},
     "output_type": "display_data"
    }
   ],
   "source": [
    "## NEW\n",
    "saved_conf_mat_path = \"/home/jupyter/XLNet_1536_2callsides_v1/\"\n",
    "saved_model_path= \"/home/jupyter/XLNet_1536_2callsides_v1/saved_model_epoch_4\"\n",
    "test_model = XLNetForSequenceClassification.from_pretrained(saved_model_path).to('cuda')\n",
    "xlnet_predict(test_model, test_df, saved_conf_mat_path)"
   ]
  },
  {
   "cell_type": "markdown",
   "metadata": {},
   "source": [
    "## Notebook ends here"
   ]
  },
  {
   "cell_type": "code",
   "execution_count": 565,
   "metadata": {},
   "outputs": [
    {
     "data": {
      "application/vnd.jupyter.widget-view+json": {
       "model_id": "9c0f00daed214e428f5666f64a42fda8",
       "version_major": 2,
       "version_minor": 0
      },
      "text/plain": [
       "HBox(children=(HTML(value=''), FloatProgress(value=0.0, max=11623.0), HTML(value='')))"
      ]
     },
     "metadata": {},
     "output_type": "display_data"
    },
    {
     "name": "stdout",
     "output_type": "stream",
     "text": [
      "\n"
     ]
    }
   ],
   "source": [
    "encoded_inputs = []\n",
    "label_inputs = []\n",
    "\n",
    "for unique_call_id in notebook.tqdm(df_train2.call_id.unique()):\n",
    "    agent=df_train2[(df_train2.call_id==unique_call_id) & (df_train2.call_side == 'caller')].last_768_tokens_text.values[0]\n",
    "    customer=df_train2[(df_train2.call_id==unique_call_id) & (df_train2.call_side == 'callee')].last_768_tokens_text.values[0]\n",
    "    csat_label=df_train2[(df_train2.call_id==unique_call_id)].response_value.values[0]\n",
    "    tensor = tokenizer.encode_plus(agent, customer, max_length=1539, padding='max_length', truncation='only_first', return_token_type_ids=True, return_tensors='pt')\n",
    "    encoded_inputs.append(tensor)\n",
    "    label_inputs.append(csat_label)\n",
    "    \n",
    "#Creating a tensor dataset with the ENCODED inputs, labels and attention tensors.  \n",
    "inputs_tensor = torch.cat([x['input_ids'] for x in encoded_inputs])\n",
    "token_type_id_tensor = torch.cat([x['token_type_ids'] for x in encoded_inputs])\n",
    "attn_tensor = torch.cat([x['attention_mask'] for x in encoded_inputs])\n",
    "labels_tensor = torch.LongTensor(label_inputs)\n",
    "\n",
    "tensor_df = TensorDataset(inputs_tensor, token_type_id_tensor, attn_tensor, labels_tensor)"
   ]
  },
  {
   "cell_type": "code",
   "execution_count": 72,
   "metadata": {},
   "outputs": [
    {
     "ename": "NameError",
     "evalue": "name 'model1' is not defined",
     "output_type": "error",
     "traceback": [
      "\u001b[0;31m---------------------------------------------------------------------------\u001b[0m",
      "\u001b[0;31mNameError\u001b[0m                                 Traceback (most recent call last)",
      "\u001b[0;32m<ipython-input-72-e609cbe66570>\u001b[0m in \u001b[0;36m<module>\u001b[0;34m\u001b[0m\n\u001b[1;32m      9\u001b[0m \u001b[0minputs4\u001b[0m \u001b[0;34m=\u001b[0m \u001b[0mtokenizer\u001b[0m\u001b[0;34m(\u001b[0m\u001b[0mc4\u001b[0m\u001b[0;34m,\u001b[0m \u001b[0mreturn_tensors\u001b[0m\u001b[0;34m=\u001b[0m\u001b[0;34m\"pt\"\u001b[0m\u001b[0;34m)\u001b[0m\u001b[0;34m\u001b[0m\u001b[0;34m\u001b[0m\u001b[0m\n\u001b[1;32m     10\u001b[0m \u001b[0;31m# labels1 = torch.tensor([1]).unsqueeze(0)  # Batch size 1\u001b[0m\u001b[0;34m\u001b[0m\u001b[0;34m\u001b[0m\u001b[0;34m\u001b[0m\u001b[0m\n\u001b[0;32m---> 11\u001b[0;31m \u001b[0moutputs1\u001b[0m \u001b[0;34m=\u001b[0m \u001b[0mmodel1\u001b[0m\u001b[0;34m(\u001b[0m\u001b[0;34m**\u001b[0m\u001b[0minputs1\u001b[0m\u001b[0;34m)\u001b[0m\u001b[0;34m\u001b[0m\u001b[0;34m\u001b[0m\u001b[0m\n\u001b[0m\u001b[1;32m     12\u001b[0m \u001b[0moutputs2\u001b[0m \u001b[0;34m=\u001b[0m \u001b[0mmodel1\u001b[0m\u001b[0;34m(\u001b[0m\u001b[0;34m**\u001b[0m\u001b[0minputs2\u001b[0m\u001b[0;34m)\u001b[0m\u001b[0;34m\u001b[0m\u001b[0;34m\u001b[0m\u001b[0m\n\u001b[1;32m     13\u001b[0m \u001b[0moutputs3\u001b[0m \u001b[0;34m=\u001b[0m \u001b[0mmodel1\u001b[0m\u001b[0;34m(\u001b[0m\u001b[0;34m**\u001b[0m\u001b[0minputs3\u001b[0m\u001b[0;34m)\u001b[0m\u001b[0;34m\u001b[0m\u001b[0;34m\u001b[0m\u001b[0m\n",
      "\u001b[0;31mNameError\u001b[0m: name 'model1' is not defined"
     ]
    }
   ],
   "source": [
    "c1 = \"hello, this is daniel. how can i help? yes, i would like to purchase a bed. what kind of bed would you like? i'm looking for a double bed\"\n",
    "c2 = \"hello, this is daniel. how can i help? what kind of bed would you like?\"\n",
    "c3 = \"yes, i would like to purchase a bed. i'm looking for a double bed\"\n",
    "c4 = c2 + c3\n",
    "\n",
    "inputs1 = tokenizer(c1, return_tensors=\"pt\")\n",
    "inputs2 = tokenizer(c2, return_tensors=\"pt\")\n",
    "inputs3 = tokenizer(c3, return_tensors=\"pt\")\n",
    "inputs4 = tokenizer(c4, return_tensors=\"pt\")\n",
    "# labels1 = torch.tensor([1]).unsqueeze(0)  # Batch size 1\n",
    "outputs1 = model1(**inputs1)\n",
    "outputs2 = model1(**inputs2)\n",
    "outputs3 = model1(**inputs3)\n",
    "outputs4 = model1(**inputs4)"
   ]
  },
  {
   "cell_type": "code",
   "execution_count": 137,
   "metadata": {},
   "outputs": [
    {
     "name": "stdout",
     "output_type": "stream",
     "text": [
      "▁hello       24,717\n",
      ",                19\n",
      "▁this            52\n",
      "▁is              27\n",
      "▁                17\n",
      "dan           4,731\n",
      "iel           9,184\n",
      ".                 9\n",
      "▁how            160\n",
      "▁can             64\n",
      "▁                17\n",
      "i               150\n",
      "▁help           222\n",
      "?                82\n",
      "▁yes          4,336\n",
      ",                19\n",
      "▁                17\n",
      "i               150\n",
      "▁would           74\n",
      "▁like           115\n",
      "▁to              22\n",
      "▁purchase     1,817\n",
      "▁a               24\n",
      "▁bed          1,854\n",
      ".                 9\n",
      "▁what           113\n",
      "▁kind           713\n",
      "▁of              20\n",
      "▁bed          1,854\n",
      "▁would           74\n",
      "▁you             44\n",
      "▁like           115\n",
      "?                82\n",
      "▁                17\n",
      "i               150\n",
      "'                26\n",
      "m                98\n",
      "▁looking        589\n",
      "▁for             28\n",
      "▁a               24\n",
      "▁double       1,620\n",
      "▁bed          1,854\n",
      "cl           11,974\n",
      "s                23\n",
      "s                23\n",
      "ep            3,882\n"
     ]
    }
   ],
   "source": [
    "tokenized_text = tokenizer.tokenize(c1 + \"cls\" + \"sep\")\n",
    "indexed_tokens = tokenizer.convert_tokens_to_ids(tokenized_text)\n",
    "for tup in zip(tokenized_text, indexed_tokens):\n",
    "    print('{:<12} {:>6,}'.format(tup[0], tup[1]))"
   ]
  },
  {
   "cell_type": "code",
   "execution_count": 142,
   "metadata": {},
   "outputs": [
    {
     "data": {
      "text/plain": [
       "tensor([24717,    19,    52,    27,    17,  4731,  9184,     9,   160,    64,\n",
       "           17,   150,   222,    82,  4336,    19,    17,   150,    74,   115,\n",
       "           22,  1817,    24,  1854,     9,   113,   713,    20,  1854,    74,\n",
       "           44,   115,    82,    17,   150,    26,    98,   589,    28,    24,\n",
       "         1620,  1854, 11974,    23,    23,  3882])"
      ]
     },
     "execution_count": 142,
     "metadata": {},
     "output_type": "execute_result"
    }
   ],
   "source": [
    "torch.tensor(indexed_tokens)"
   ]
  }
 ],
 "metadata": {
  "environment": {
   "name": "common-cu110.m58",
   "type": "gcloud",
   "uri": "gcr.io/deeplearning-platform-release/base-cu110:m58"
  },
  "kernelspec": {
   "display_name": "Python 3",
   "language": "python",
   "name": "python3"
  },
  "language_info": {
   "codemirror_mode": {
    "name": "ipython",
    "version": 3
   },
   "file_extension": ".py",
   "mimetype": "text/x-python",
   "name": "python",
   "nbconvert_exporter": "python",
   "pygments_lexer": "ipython3",
   "version": "3.7.8"
  }
 },
 "nbformat": 4,
 "nbformat_minor": 4
}
